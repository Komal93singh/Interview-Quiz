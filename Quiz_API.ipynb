{
  "cells": [
    {
      "cell_type": "markdown",
      "metadata": {
        "id": "view-in-github",
        "colab_type": "text"
      },
      "source": [
        "<a href=\"https://colab.research.google.com/github/Komal93singh/Interview-Quiz/blob/main/Quiz_API.ipynb\" target=\"_parent\"><img src=\"https://colab.research.google.com/assets/colab-badge.svg\" alt=\"Open In Colab\"/></a>"
      ]
    },
    {
      "cell_type": "code",
      "source": [],
      "metadata": {
        "id": "SmQSFPn14LNp"
      },
      "execution_count": null,
      "outputs": []
    },
    {
      "cell_type": "markdown",
      "source": [
        "#QUIZ : API\n",
        "---"
      ],
      "metadata": {
        "id": "gm3cSDZZBYGo"
      }
    },
    {
      "cell_type": "code",
      "source": [],
      "metadata": {
        "id": "c37FguJ_BWi3"
      },
      "execution_count": null,
      "outputs": []
    },
    {
      "cell_type": "markdown",
      "source": [
        "##Q1. In FastAPI, what is the purpose of using 'Depends'?\n",
        "\n",
        "1. To define asynchronous tasks\n",
        "2. To inject dependencies into your endpoints\n",
        "3. To handle HTTP exceptions\n",
        "4. To manage database connections"
      ],
      "metadata": {
        "id": "71_zAfGb4eRJ"
      }
    },
    {
      "cell_type": "markdown",
      "source": [
        "The correct option is:\n",
        "\n",
        "**👉 2. To inject dependencies into your endpoints**\n",
        "\n",
        "---\n",
        "\n",
        "### Explanation:\n",
        "\n",
        "`Depends` in FastAPI is specifically used for **dependency injection** — providing functions, classes, or objects into your endpoints automatically.\n",
        "\n",
        "* **Option 1** – ❌ *To define asynchronous tasks*: That's not the role of `Depends`; async tasks are defined using `async def`.\n",
        "* **Option 3** – ❌ *To handle HTTP exceptions*: HTTP exceptions are handled using `HTTPException`, not `Depends`.\n",
        "* **Option 4** – ⚠️ *To manage database connections*: This **can** be done **through dependency injection**, but it’s a specific use case of what `Depends` does.\n",
        "\n",
        "---\n",
        "\n",
        "### ✅ Final Answer:\n",
        "\n",
        "**2. To inject dependencies into your endpoints**\n"
      ],
      "metadata": {
        "id": "_qIh8V2k4-em"
      }
    },
    {
      "cell_type": "code",
      "source": [],
      "metadata": {
        "id": "ME5RkEWd5DBr"
      },
      "execution_count": null,
      "outputs": []
    },
    {
      "cell_type": "markdown",
      "source": [
        "##Q2. What is the main purpose of API versioning?\n",
        "1. To improve API performance\n",
        "2. TO ensure backward compatibility\n",
        "3. To increase security\n",
        "4. To enhance data validation"
      ],
      "metadata": {
        "id": "-QSy5LYA5Dq7"
      }
    },
    {
      "cell_type": "markdown",
      "source": [
        "The correct option is:\n",
        "\n",
        "**👉 2. To ensure backward compatibility**\n",
        "\n",
        "---\n",
        "\n",
        "### Explanation:\n",
        "\n",
        "The **main purpose of API versioning** is to allow **changes or improvements** to an API **without breaking existing clients** that depend on an older version.\n",
        "\n",
        "* **Option 1** – ❌ *To improve API performance*: Versioning doesn't directly affect performance.\n",
        "* **Option 3** – ❌ *To increase security*: Security is handled via authentication, authorization, etc., not versioning.\n",
        "* **Option 4** – ❌ *To enhance data validation*: Data validation is typically handled by tools like Pydantic in FastAPI, not versioning.\n",
        "\n",
        "---\n",
        "\n",
        "### ✅ Final Answer:\n",
        "\n",
        "**2. To ensure backward compatibility**\n"
      ],
      "metadata": {
        "id": "xZ6F2xy35RNr"
      }
    },
    {
      "cell_type": "code",
      "source": [],
      "metadata": {
        "id": "DGR6Edn-5V7U"
      },
      "execution_count": null,
      "outputs": []
    },
    {
      "cell_type": "markdown",
      "source": [
        "##Q3. Which of the following is NOT a common HTTP method used in RESTful APIs?\n",
        "1. GET\n",
        "2. POST\n",
        "3. CONNECT\n",
        "4. DELETE\n",
        "\n",
        "\n"
      ],
      "metadata": {
        "id": "nnTiT7mf5WV1"
      }
    },
    {
      "cell_type": "markdown",
      "source": [
        "The correct option is:\n",
        "\n",
        "**👉 3. CONNECT**\n",
        "\n",
        "---\n",
        "\n",
        "### Explanation:\n",
        "\n",
        "Here's a breakdown of the options:\n",
        "\n",
        "* **GET** – ✅ Common: Used to retrieve data.\n",
        "* **POST** – ✅ Common: Used to create new resources.\n",
        "* **DELETE** – ✅ Common: Used to delete resources.\n",
        "* **CONNECT** – ❌ **Not commonly used** in RESTful APIs: It's a lower-level HTTP method used to establish a tunnel, typically for SSL (e.g., HTTPS proxies), not for standard REST operations.\n",
        "\n",
        "---\n",
        "\n",
        "### ✅ Final Answer:\n",
        "\n",
        "**3. CONNECT**\n"
      ],
      "metadata": {
        "id": "2CDURADw5iVN"
      }
    },
    {
      "cell_type": "code",
      "source": [],
      "metadata": {
        "id": "6dMjf8Cp5tc0"
      },
      "execution_count": null,
      "outputs": []
    },
    {
      "cell_type": "markdown",
      "source": [
        "##Q4, Which HTTP status code indicates that the request could not be understood by the server due to malformed syntax?\n",
        "1. 200 OK\n",
        "2. 400 Bad Request\n",
        "3. 401 Unauthorized\n",
        "4. 500 Internal Server Error"
      ],
      "metadata": {
        "id": "2lS4Az0E5t1J"
      }
    },
    {
      "cell_type": "markdown",
      "source": [
        "The correct option is:\n",
        "\n",
        "**👉 2. 400 Bad Request**\n",
        "\n",
        "---\n",
        "\n",
        "### Explanation:\n",
        "\n",
        "* **200 OK** – ✅ The request was successful.\n",
        "* **400 Bad Request** – ❌ The server **couldn't understand** the request due to **malformed syntax**.\n",
        "* **401 Unauthorized** – ❌ Authentication is required or failed.\n",
        "* **500 Internal Server Error** – ❌ A generic error when the server encounters an unexpected condition.\n",
        "\n",
        "---\n",
        "\n",
        "### ✅ Final Answer:\n",
        "\n",
        "**2. 400 Bad Request**\n"
      ],
      "metadata": {
        "id": "NmpCvB8L5569"
      }
    },
    {
      "cell_type": "code",
      "source": [],
      "metadata": {
        "id": "FZmf--nc58uQ"
      },
      "execution_count": null,
      "outputs": []
    },
    {
      "cell_type": "markdown",
      "source": [
        "##Q5. What does the HTTP method PATCH do in a REST API?\n",
        "1. Retrieve a resource\n",
        "2. Create a new resource\n",
        "3. Update an entire resource\n",
        "4. Partially update a resource"
      ],
      "metadata": {
        "id": "eHiquaND59Dm"
      }
    },
    {
      "cell_type": "markdown",
      "source": [
        "The correct option is:\n",
        "\n",
        "**👉 4. Partially update a resource**\n",
        "\n",
        "---\n",
        "\n",
        "### Explanation of HTTP methods:\n",
        "\n",
        "* **GET** – ✅ Retrieves a resource.\n",
        "* **POST** – ✅ Creates a new resource.\n",
        "* **PUT** – ✅ Updates an **entire** resource.\n",
        "* **PATCH** – ✅ Updates **part of** a resource (partial update).\n",
        "* **DELETE** – ✅ Deletes a resource.\n",
        "\n",
        "---\n",
        "\n",
        "### ✅ Final Answer:\n",
        "\n",
        "**4. Partially update a resource**\n"
      ],
      "metadata": {
        "id": "Xyzx7g6w6IuI"
      }
    },
    {
      "cell_type": "code",
      "source": [],
      "metadata": {
        "id": "dQB3DTlR6LyE"
      },
      "execution_count": null,
      "outputs": []
    },
    {
      "cell_type": "markdown",
      "source": [
        "##Q6. Which of the following strategies is NOT used for API versioning?\n",
        "1. URL Versioning\n",
        "2. Header Versioning\n",
        "3. Query Parameter Versioning\n",
        "4. Cookie Versioning"
      ],
      "metadata": {
        "id": "L5Kl3-KJ6MCr"
      }
    },
    {
      "cell_type": "markdown",
      "source": [
        "The correct option is:\n",
        "\n",
        "**👉 4. Cookie Versioning**\n",
        "\n",
        "---\n",
        "\n",
        "### Explanation:\n",
        "\n",
        "Common strategies for API versioning include:\n",
        "\n",
        "* **1. URL Versioning** – ✅ e.g., `/api/v1/items`\n",
        "* **2. Header Versioning** – ✅ e.g., `Accept: application/vnd.myapi.v1+json`\n",
        "* **3. Query Parameter Versioning** – ✅ e.g., `/items?version=1`\n",
        "\n",
        "But:\n",
        "\n",
        "* **4. Cookie Versioning** – ❌ **Not a standard or common practice** for API versioning. Cookies are typically used for **sessions and authentication**, not version control.\n",
        "\n",
        "---\n",
        "\n",
        "### ✅ Final Answer:\n",
        "\n",
        "**4. Cookie Versioning**\n"
      ],
      "metadata": {
        "id": "vC1Oso0K6Xoj"
      }
    },
    {
      "cell_type": "code",
      "source": [],
      "metadata": {
        "id": "QKIW8i4e6bFG"
      },
      "execution_count": null,
      "outputs": []
    },
    {
      "cell_type": "markdown",
      "source": [
        "##Q7. Which of the following is NOT a valid HTTP status code for server errors?\n",
        "1. 500 Internal Server Error\n",
        "2. 502 Bad Gateway\n",
        "3. 504 Gateway Timeout\n",
        "4. 403 Forbidden"
      ],
      "metadata": {
        "id": "ZnUX0SBj6beX"
      }
    },
    {
      "cell_type": "markdown",
      "source": [
        "The correct option is:\n",
        "\n",
        "**👉 4. 403 Forbidden**\n",
        "\n",
        "---\n",
        "\n",
        "### Explanation:\n",
        "\n",
        "* **500 Internal Server Error** – ✅ Server error\n",
        "* **502 Bad Gateway** – ✅ Server error\n",
        "* **504 Gateway Timeout** – ✅ Server error\n",
        "* **403 Forbidden** – ❌ **Client error** (means the client is not allowed to access the resource)\n",
        "\n",
        "HTTP status codes in the **500–599 range** are for **server errors**, while **403** falls in the **400–499 range**, which is for **client errors**.\n",
        "\n",
        "---\n",
        "\n",
        "### ✅ Final Answer:\n",
        "\n",
        "**4. 403 Forbidden**\n"
      ],
      "metadata": {
        "id": "v5v6vP5e6m0G"
      }
    },
    {
      "cell_type": "code",
      "source": [],
      "metadata": {
        "id": "ms5Gs-g06qSk"
      },
      "execution_count": null,
      "outputs": []
    },
    {
      "cell_type": "markdown",
      "source": [
        "##Q8. What is FastAPI primarily used for?\n",
        "1. Data analysis\n",
        "2. Web development\n",
        "3. Building APIs with python\n",
        "4. Machine Learning"
      ],
      "metadata": {
        "id": "WERzAUZW6qt9"
      }
    },
    {
      "cell_type": "markdown",
      "source": [
        "The correct option is:\n",
        "\n",
        "**👉 3. Building APIs with Python**\n",
        "\n",
        "---\n",
        "\n",
        "### Explanation:\n",
        "\n",
        "* **1. Data analysis** – ❌ Typically done with libraries like Pandas, NumPy.\n",
        "* **2. Web development** – ⚠️ Partially true, but FastAPI is focused specifically on **API development**, not full-stack web development like Django or Flask with templates.\n",
        "* **3. Building APIs with Python** – ✅ This is FastAPI's **main purpose**. It’s designed to create **fast, efficient, and modern web APIs** using Python.\n",
        "* **4. Machine Learning** – ❌ While you can **serve ML models** with FastAPI, ML is not its primary purpose.\n",
        "\n",
        "---\n",
        "\n",
        "### ✅ Final Answer:\n",
        "\n",
        "**3. Building APIs with Python**\n"
      ],
      "metadata": {
        "id": "fqIPbMz261Ud"
      }
    },
    {
      "cell_type": "code",
      "source": [],
      "metadata": {
        "id": "auz040Fw635d"
      },
      "execution_count": null,
      "outputs": []
    },
    {
      "cell_type": "markdown",
      "source": [
        "##Q9. Which of the following is a key feature of FastAPI?\n",
        "1. Built-in database management\n",
        "2. Automatic generation of interactive API documentation\n",
        "3. Support for multiple programming languages\n",
        "4. Integrated IDE for coding"
      ],
      "metadata": {
        "id": "qN3udNjp64ax"
      }
    },
    {
      "cell_type": "markdown",
      "source": [
        "The correct option is:\n",
        "\n",
        "**👉 2. Automatic generation of interactive API documentation**\n",
        "\n",
        "---\n",
        "\n",
        "### Explanation:\n",
        "\n",
        "* **1. Built-in database management** – ❌ FastAPI doesn't include built-in database tools; you integrate it with libraries like SQLAlchemy or Tortoise ORM.\n",
        "* **2. Automatic generation of interactive API documentation** – ✅ FastAPI automatically generates **interactive docs** using **Swagger UI** and **ReDoc** from your code and type hints.\n",
        "* **3. Support for multiple programming languages** – ❌ FastAPI is specifically designed for **Python**.\n",
        "* **4. Integrated IDE for coding** – ❌ FastAPI is a framework, not an IDE.\n",
        "\n",
        "---\n",
        "\n",
        "### ✅ Final Answer:\n",
        "\n",
        "**2. Automatic generation of interactive API documentation**\n"
      ],
      "metadata": {
        "id": "2FQjtTB87Ezw"
      }
    },
    {
      "cell_type": "code",
      "source": [],
      "metadata": {
        "id": "Y1VpKhUC7HtL"
      },
      "execution_count": null,
      "outputs": []
    },
    {
      "cell_type": "markdown",
      "source": [
        "##Q10. Which HTTP status code indicates a successful resource creation?\n",
        "1. 200 OK\n",
        "2. 201 Created\n",
        "3. 204 No Content\n",
        "4. 404 Not Found"
      ],
      "metadata": {
        "id": "RzP4E47Y7IEx"
      }
    },
    {
      "cell_type": "markdown",
      "source": [
        "The correct option is:\n",
        "\n",
        "**👉 2. 201 Created**\n",
        "\n",
        "---\n",
        "\n",
        "### Explanation:\n",
        "\n",
        "* **200 OK** – ✅ Successful request, but usually for retrieving or updating resources.\n",
        "* **201 Created** – ✅ Specifically indicates that a **new resource was successfully created**.\n",
        "* **204 No Content** – ✅ Successful request but **no content returned** (often for deletions or updates without response body).\n",
        "* **404 Not Found** – ❌ Resource not found.\n",
        "\n",
        "---\n",
        "\n",
        "### ✅ Final Answer:\n",
        "\n",
        "**2. 201 Created**\n"
      ],
      "metadata": {
        "id": "aJyqU1-a7Sp7"
      }
    },
    {
      "cell_type": "code",
      "source": [],
      "metadata": {
        "id": "zMSZ-GuE7XTG"
      },
      "execution_count": null,
      "outputs": []
    },
    {
      "cell_type": "markdown",
      "source": [
        "##Q11. Which of the following is NOT a valid FastAPI path parameter?\n",
        "1. {item_id}\n",
        "2. {user_name}\n",
        "3. {order-id}\n",
        "4. {user_id:int}"
      ],
      "metadata": {
        "id": "yXvj2kz47YDW"
      }
    },
    {
      "cell_type": "markdown",
      "source": [
        "The correct (i.e. **incorrect/invalid**) option is:\n",
        "\n",
        "**👉 4. `{user_id:int}`**\n",
        "\n",
        "---\n",
        "\n",
        "### ✅ Explanation:\n",
        "\n",
        "In **FastAPI**, path parameters are written in the URL path like `{param_name}`, and their types are declared in the **function parameters**, not in the path string.\n",
        "\n",
        "Let's look at each option:\n",
        "\n",
        "| Option          | Valid in FastAPI?    | Explanation                                                                                                              |\n",
        "| --------------- | -------------------- | ------------------------------------------------------------------------------------------------------------------------ |\n",
        "| `{item_id}`     | ✅ Yes                | Correct syntax for a path parameter.                                                                                     |\n",
        "| `{user_name}`   | ✅ Yes                | Correct syntax. Underscores are allowed.                                                                                 |\n",
        "| `{order-id}`    | ⚠️ Technically valid | Valid in the URL, **but** `order-id` is not a valid Python variable name. You'd need to map it manually in the function. |\n",
        "| `{user_id:int}` | ❌ **Invalid**        | This is **not** valid FastAPI syntax. Type hints go in the function, **not** in the path.                                |\n",
        "\n",
        "---\n",
        "\n",
        "### ✅ Final Answer:\n",
        "\n",
        "**4. `{user_id:int}`** – this is **NOT** a valid FastAPI path parameter.\n"
      ],
      "metadata": {
        "id": "SIsqjVCH7m2U"
      }
    },
    {
      "cell_type": "code",
      "source": [],
      "metadata": {
        "id": "aGKpGVxk7zoH"
      },
      "execution_count": null,
      "outputs": []
    },
    {
      "cell_type": "markdown",
      "source": [
        "##Q12. What is the default port used by FastAPI when running a development server?\n",
        "1. 8000\n",
        "2. 8080\n",
        "3. 5000\n",
        "4. 3000"
      ],
      "metadata": {
        "id": "9A_Lqlsy70E9"
      }
    },
    {
      "cell_type": "markdown",
      "source": [
        "The correct option is:\n",
        "\n",
        "**👉 1. 8000**\n",
        "\n",
        "---\n",
        "\n",
        "### ✅ Explanation:\n",
        "\n",
        "When you run a FastAPI application using **Uvicorn**, the default development server port is:\n",
        "\n",
        "```bash\n",
        "uvicorn main:app\n",
        "```\n",
        "\n",
        "This will start the server at:\n",
        "\n",
        "```\n",
        "http://127.0.0.1:8000\n",
        "```\n",
        "\n",
        "Unless you explicitly change it using the `--port` flag, the default is always **8000**.\n",
        "\n",
        "---\n",
        "\n",
        "### ✅ Final Answer:\n",
        "\n",
        "**1. 8000**\n"
      ],
      "metadata": {
        "id": "kOB3UT4079Be"
      }
    },
    {
      "cell_type": "code",
      "source": [],
      "metadata": {
        "id": "aGITXuZb8ARm"
      },
      "execution_count": null,
      "outputs": []
    },
    {
      "cell_type": "markdown",
      "source": [
        "##Q13. In FastAPI, how are query parameters passed to an endpoints?\n",
        "1. Through the request body\n",
        "2. As part of the URL path\n",
        "3. As key-value pairs in the URL after a question mark\n",
        "4. Via HTTP headers"
      ],
      "metadata": {
        "id": "kgF3JJPS8AmG"
      }
    },
    {
      "cell_type": "markdown",
      "source": [
        "The correct option is:\n",
        "\n",
        "**👉 3. As key-value pairs in the URL after a question mark**\n",
        "\n",
        "---\n",
        "\n",
        "### ✅ Explanation:\n",
        "\n",
        "In FastAPI (and HTTP in general), **query parameters** are passed like this:\n",
        "\n",
        "```\n",
        "GET /items?skip=10&limit=5\n",
        "```\n",
        "\n",
        "* These are **key-value pairs** following a **`?`** in the URL.\n",
        "* In FastAPI, you access them like this:\n",
        "\n",
        "```python\n",
        "@app.get(\"/items\")\n",
        "def read_items(skip: int = 0, limit: int = 10):\n",
        "    return {\"skip\": skip, \"limit\": limit}\n",
        "```\n",
        "\n",
        "### Other options:\n",
        "\n",
        "* **1. Through the request body** – ❌ That’s used for `POST`, `PUT`, etc., with data models.\n",
        "* **2. As part of the URL path** – ❌ That’s a **path parameter**, not a query parameter.\n",
        "* **4. Via HTTP headers** – ❌ Headers are separate and not used for query params.\n",
        "\n",
        "---\n",
        "\n",
        "### ✅ Final Answer:\n",
        "\n",
        "**3. As key-value pairs in the URL after a question mark**\n"
      ],
      "metadata": {
        "id": "rQ2a3dsI8KLI"
      }
    },
    {
      "cell_type": "code",
      "source": [],
      "metadata": {
        "id": "vHLaao7h8NaI"
      },
      "execution_count": null,
      "outputs": []
    },
    {
      "cell_type": "markdown",
      "source": [
        "##Q14. Which component of a JWT contains the claims?\n",
        "1. Header\n",
        "2. Payload\n",
        "3. Signature\n",
        "4. Token"
      ],
      "metadata": {
        "id": "9meuaRjC8N2g"
      }
    },
    {
      "cell_type": "markdown",
      "source": [
        "The correct option is:\n",
        "\n",
        "**👉 2. Payload**\n",
        "\n",
        "---\n",
        "\n",
        "### ✅ Explanation:\n",
        "\n",
        "A JWT (JSON Web Token) is made up of **three parts**:\n",
        "\n",
        "1. **Header** – Contains metadata about the token (e.g., algorithm used).\n",
        "2. **Payload** – ✅ Contains the **claims**, i.e., user data and other information like `sub`, `exp`, `iss`, etc.\n",
        "3. **Signature** – Ensures the token was not tampered with.\n",
        "4. **Token** – ❌ Not a component itself, but the full structure of the JWT.\n",
        "\n",
        "**Example JWT structure:**\n",
        "\n",
        "```\n",
        "xxxxx.yyyyy.zzzzz\n",
        "|     |     |\n",
        "Header Payload Signature\n",
        "```\n",
        "\n",
        "---\n",
        "\n",
        "### ✅ Final Answer:\n",
        "\n",
        "**2. Payload**\n"
      ],
      "metadata": {
        "id": "cwmv_yPv8X14"
      }
    },
    {
      "cell_type": "code",
      "source": [],
      "metadata": {
        "id": "LLE5KlE88bKe"
      },
      "execution_count": null,
      "outputs": []
    },
    {
      "cell_type": "markdown",
      "source": [
        "##Q15. Which of the following is a common use case for JWT?\n",
        "1. Session management\n",
        "2. Database queries\n",
        "3. File storage\n",
        "4. UI rendering"
      ],
      "metadata": {
        "id": "is9F5OZ98bk9"
      }
    },
    {
      "cell_type": "markdown",
      "source": [
        "The correct option is:\n",
        "\n",
        "**👉 1. Session management**\n",
        "\n",
        "---\n",
        "\n",
        "### ✅ Explanation:\n",
        "\n",
        "**JWT (JSON Web Token)** is commonly used for **stateless authentication**, particularly in:\n",
        "\n",
        "* **🔐 Session management** – ✅ After a user logs in, a JWT is issued and sent with each request to identify the user.\n",
        "* **🚫 Not for:**\n",
        "\n",
        "  * **2. Database queries** – ❌ This is done with SQL/ORM, not JWT.\n",
        "  * **3. File storage** – ❌ JWT is not used to store files.\n",
        "  * **4. UI rendering** – ❌ That’s handled by frontend frameworks (React, etc.).\n",
        "\n",
        "---\n",
        "\n",
        "### ✅ Final Answer:\n",
        "\n",
        "**1. Session management**\n"
      ],
      "metadata": {
        "id": "e9IcaYco8pwP"
      }
    },
    {
      "cell_type": "code",
      "source": [],
      "metadata": {
        "id": "fY_smLp-8r7T"
      },
      "execution_count": null,
      "outputs": []
    },
    {
      "cell_type": "markdown",
      "source": [
        "##Q16. In OAuth2, What is the purpose of a refresh token?\n",
        "1. To grant initial access\n",
        "2. To update the user profile\n",
        "3. To obtain a new access token\n",
        "4. To authenticate the user"
      ],
      "metadata": {
        "id": "fvJnUtMV8sOe"
      }
    },
    {
      "cell_type": "markdown",
      "source": [
        "The correct option is:\n",
        "\n",
        "**👉 3. To obtain a new access token**\n",
        "\n",
        "---\n",
        "\n",
        "### ✅ Explanation:\n",
        "\n",
        "In **OAuth2**, a **refresh token** is used to:\n",
        "\n",
        "* Get a **new access token** without requiring the user to log in again.\n",
        "* Useful when the **access token expires** (usually after a short time).\n",
        "* Helps maintain a **secure, seamless user experience**.\n",
        "\n",
        "---\n",
        "\n",
        "### Other options:\n",
        "\n",
        "* **1. To grant initial access** – ❌ That’s the job of the **authorization code** or credentials.\n",
        "* **2. To update the user profile** – ❌ Not related to refresh tokens.\n",
        "* **4. To authenticate the user** – ❌ Authentication is handled during login or via the **access token**, not the refresh token.\n",
        "\n",
        "---\n",
        "\n",
        "### ✅ Final Answer:\n",
        "\n",
        "**3. To obtain a new access token**\n"
      ],
      "metadata": {
        "id": "zx_GyWI8839v"
      }
    },
    {
      "cell_type": "code",
      "source": [],
      "metadata": {
        "id": "QTm8IN7o86qt"
      },
      "execution_count": null,
      "outputs": []
    },
    {
      "cell_type": "markdown",
      "source": [
        "##Q17. What HTTP header is commonly used to pass a JWT in a request?\n",
        "1. X-Auth-Token\n",
        "2. Authorization\n",
        "3. Content-Type\n",
        "4. Bearer"
      ],
      "metadata": {
        "id": "UcINF0C687JK"
      }
    },
    {
      "cell_type": "markdown",
      "source": [
        "The correct option is:\n",
        "\n",
        "**👉 2. Authorization**\n",
        "\n",
        "---\n",
        "\n",
        "### ✅ Explanation:\n",
        "\n",
        "The **`Authorization`** HTTP header is commonly used to send JWTs in API requests, typically in this format:\n",
        "\n",
        "```\n",
        "Authorization: Bearer <your_jwt_token>\n",
        "```\n",
        "\n",
        "* **Bearer** is the **token type** used **within** the `Authorization` header, not a header itself.\n",
        "* FastAPI and many other frameworks expect JWTs in the `Authorization` header.\n",
        "\n",
        "---\n",
        "\n",
        "### Other options:\n",
        "\n",
        "* **1. X-Auth-Token** – ❌ Sometimes used in custom setups, but not standard.\n",
        "* **3. Content-Type** – ❌ Indicates the type of data being sent (e.g., `application/json`), not for authentication.\n",
        "* **4. Bearer** – ❌ This is a **token prefix**, not a standalone header.\n",
        "\n",
        "---\n",
        "\n",
        "### ✅ Final Answer:\n",
        "\n",
        "**2. Authorization**\n"
      ],
      "metadata": {
        "id": "8a7P4LSE9ErB"
      }
    },
    {
      "cell_type": "code",
      "source": [],
      "metadata": {
        "id": "xsMVpfam9IIR"
      },
      "execution_count": null,
      "outputs": []
    },
    {
      "cell_type": "markdown",
      "source": [
        "##Q18. What is the recommended encryption algorithm for signing JWTs?\n",
        "1. HMAC-SHA256\n",
        "2. AES-256\n",
        "3. RSA-1024\n",
        "4. DES"
      ],
      "metadata": {
        "id": "4HTGlIrr9I3r"
      }
    },
    {
      "cell_type": "markdown",
      "source": [
        "The correct option is:\n",
        "\n",
        "**👉 1. HMAC-SHA256**\n",
        "\n",
        "---\n",
        "\n",
        "### ✅ Explanation:\n",
        "\n",
        "* **HMAC-SHA256** (`HS256`) is a **widely used and recommended algorithm** for signing JWTs.\n",
        "\n",
        "  * It's secure, efficient, and supported by most JWT libraries.\n",
        "  * Uses a shared secret key for signing and verification.\n",
        "\n",
        "---\n",
        "\n",
        "### Other options:\n",
        "\n",
        "* **2. AES-256** – ❌ A symmetric encryption algorithm, **not used for signing** JWTs.\n",
        "* **3. RSA-1024** – ❌ RSA is valid for signing (**asymmetric**), but **1024-bit is considered weak**. If using RSA, **RSA-2048 or higher** is recommended.\n",
        "* **4. DES** – ❌ Outdated and insecure encryption algorithm.\n",
        "\n",
        "---\n",
        "\n",
        "### ✅ Final Answer:\n",
        "\n",
        "**1. HMAC-SHA256**\n"
      ],
      "metadata": {
        "id": "HvckjHUf9Stu"
      }
    },
    {
      "cell_type": "code",
      "source": [],
      "metadata": {
        "id": "gAytv9po9VT7"
      },
      "execution_count": null,
      "outputs": []
    },
    {
      "cell_type": "markdown",
      "source": [
        "##Q19. Which of the following is the primary purpose of an API?\n",
        "1. Enhance user experience\n",
        "2. Enable software components to communicate\n",
        "3. Improve database performance\n",
        "4. Optimize server load"
      ],
      "metadata": {
        "id": "Iomxsz6E9Vy3"
      }
    },
    {
      "cell_type": "markdown",
      "source": [
        "The correct option is:\n",
        "\n",
        "**👉 2. Enable software components to communicate**\n",
        "\n",
        "---\n",
        "\n",
        "### ✅ Explanation:\n",
        "\n",
        "The **primary purpose of an API (Application Programming Interface)** is to:\n",
        "\n",
        "* **Facilitate communication** between different software systems or components.\n",
        "* Allow one system (e.g., frontend) to **interact with another** (e.g., backend or external service) using defined rules and data formats.\n",
        "\n",
        "---\n",
        "\n",
        "### Other options:\n",
        "\n",
        "* **1. Enhance user experience** – ❌ Indirect benefit, but not the primary goal.\n",
        "* **3. Improve database performance** – ❌ Handled by query optimization, indexing, etc., not the API.\n",
        "* **4. Optimize server load** – ❌ Server load can be affected by API design, but it's not the API's primary purpose.\n",
        "\n",
        "---\n",
        "\n",
        "### ✅ Final Answer:\n",
        "\n",
        "**2. Enable software components to communicate**\n"
      ],
      "metadata": {
        "id": "GFtL_kzC9gBx"
      }
    },
    {
      "cell_type": "code",
      "source": [],
      "metadata": {
        "id": "FL6cwlDO9i0n"
      },
      "execution_count": null,
      "outputs": []
    },
    {
      "cell_type": "markdown",
      "source": [
        "##Q20. In RESTful API design, how should a collection if resource be represented in the URL?\n",
        "1. Singular noun\n",
        "2. Verb\n",
        "3. Plural noun\n",
        "4. Adjective"
      ],
      "metadata": {
        "id": "TA4pd_zE9jOZ"
      }
    },
    {
      "cell_type": "markdown",
      "source": [
        "The correct option is:\n",
        "\n",
        "**👉 3. Plural noun**\n",
        "\n",
        "---\n",
        "\n",
        "### ✅ Explanation:\n",
        "\n",
        "In RESTful API design, it's best practice to represent a **collection of resources** using a **plural noun** in the URL, for example:\n",
        "\n",
        "```\n",
        "/users\n",
        "/items\n",
        "/orders\n",
        "```\n",
        "\n",
        "This clearly indicates the endpoint returns a collection of those resources.\n",
        "\n",
        "---\n",
        "\n",
        "### Other options:\n",
        "\n",
        "* **1. Singular noun** – ❌ Typically used for individual resource (e.g., `/user/123`).\n",
        "* **2. Verb** – ❌ URLs should represent **nouns/resources**, verbs are represented by HTTP methods (`GET`, `POST`, etc.).\n",
        "* **4. Adjective** – ❌ Not used for resource naming.\n",
        "\n",
        "---\n",
        "\n",
        "### ✅ Final Answer:\n",
        "\n",
        "**3. Plural noun**\n"
      ],
      "metadata": {
        "id": "h0nkNbwY9zk6"
      }
    },
    {
      "cell_type": "code",
      "source": [],
      "metadata": {
        "id": "wQR1sPcC93f7"
      },
      "execution_count": null,
      "outputs": []
    },
    {
      "cell_type": "markdown",
      "source": [
        "##Q21. What HTTp method is typically used to create a new resource in a REST API?\n",
        "1. GET\n",
        "2. POST\n",
        "3. PUT\n",
        "4. DELETE"
      ],
      "metadata": {
        "id": "tdnwvKuI92iH"
      }
    },
    {
      "cell_type": "markdown",
      "source": [
        "The correct option is:\n",
        "\n",
        "**👉 2. POST**\n",
        "\n",
        "---\n",
        "\n",
        "### ✅ Explanation:\n",
        "\n",
        "* **POST** is the HTTP method typically used to **create a new resource** in a REST API.\n",
        "* **GET** is used to retrieve resources.\n",
        "* **PUT** is used to update or replace an existing resource.\n",
        "* **DELETE** is used to delete a resource.\n",
        "\n",
        "---\n",
        "\n",
        "### ✅ Final Answer:\n",
        "\n",
        "**2. POST**\n"
      ],
      "metadata": {
        "id": "0q_wgNRD-ByH"
      }
    },
    {
      "cell_type": "code",
      "source": [],
      "metadata": {
        "id": "DOQ8sMm_-FBU"
      },
      "execution_count": null,
      "outputs": []
    },
    {
      "cell_type": "markdown",
      "source": [
        "##Q22. Which of teh following is NOT a principle of REST?\n",
        "1. Statelessness\n",
        "2. Client-Server Separation\n",
        "3. Uniform Interface\n",
        "4. Statefulness"
      ],
      "metadata": {
        "id": "R5hmhn86-FbE"
      }
    },
    {
      "cell_type": "markdown",
      "source": [
        "The correct option is:\n",
        "\n",
        "**👉 4. Statefulness**\n",
        "\n",
        "---\n",
        "\n",
        "### Explanation:\n",
        "\n",
        "REST principles include:\n",
        "\n",
        "* **Statelessness** – Each request from client to server must contain all the information needed to understand and process the request. No client context is stored on the server.\n",
        "* **Client-Server Separation** – The client and server are separate and communicate via requests and responses.\n",
        "* **Uniform Interface** – A standardized way to interact with resources (using HTTP methods, URIs, etc.).\n",
        "\n",
        "**Statefulness** is the opposite of **statelessness**, so it is **NOT** a principle of REST.\n",
        "\n",
        "---\n",
        "\n",
        "### ✅ Final Answer:\n",
        "\n",
        "**4. Statefulness**\n"
      ],
      "metadata": {
        "id": "8wLtfD0U-QQU"
      }
    },
    {
      "cell_type": "code",
      "source": [],
      "metadata": {
        "id": "Xpu7ZYPq-TA8"
      },
      "execution_count": null,
      "outputs": []
    },
    {
      "cell_type": "markdown",
      "source": [
        "##Q23. Which of the following is NOT an API protocol?\n",
        "1. SOAP\n",
        "2. REST\n",
        "3. GraphQL\n",
        "4. SMTP"
      ],
      "metadata": {
        "id": "WAwA_SoZ-TdA"
      }
    },
    {
      "cell_type": "markdown",
      "source": [
        "The correct option is:\n",
        "\n",
        "**👉 4. SMTP**\n",
        "\n",
        "---\n",
        "\n",
        "### Explanation:\n",
        "\n",
        "* **SOAP** – ✅ An API protocol for exchanging structured information.\n",
        "* **REST** – ✅ An architectural style used for APIs.\n",
        "* **GraphQL** – ✅ A query language and runtime for APIs.\n",
        "* **SMTP** – ❌ Stands for Simple Mail Transfer Protocol, used for sending emails, **not an API protocol**.\n",
        "\n",
        "---\n",
        "\n",
        "### ✅ Final Answer:\n",
        "\n",
        "**4. SMTP**\n"
      ],
      "metadata": {
        "id": "jugBpUN0-dVL"
      }
    },
    {
      "cell_type": "code",
      "source": [],
      "metadata": {
        "id": "IG7jpW63-gew"
      },
      "execution_count": null,
      "outputs": []
    },
    {
      "cell_type": "markdown",
      "source": [
        "##Q24. What is a Web API primarily used for?\n",
        "1. Enhancing frontend UI components\n",
        "2. Facilitating communication between web-based system\n",
        "3. Optimizing database queries\n",
        "4. Creating operating system-level interactions"
      ],
      "metadata": {
        "id": "5euTHlWK-g6-"
      }
    },
    {
      "cell_type": "markdown",
      "source": [
        "The correct option is:\n",
        "\n",
        "**👉 2. Facilitating communication between web-based systems**\n",
        "\n",
        "---\n",
        "\n",
        "### Explanation:\n",
        "\n",
        "A **Web API** primarily enables different web-based applications or services to communicate with each other over the internet using HTTP protocols.\n",
        "\n",
        "* **1. Enhancing frontend UI components** – ❌ Web APIs provide data/functionality, but UI enhancements are done by frontend code.\n",
        "* **3. Optimizing database queries** – ❌ Database optimization is separate from API functions.\n",
        "* **4. Creating operating system-level interactions** – ❌ OS-level interactions are beyond the scope of Web APIs.\n",
        "\n",
        "---\n",
        "\n",
        "### ✅ Final Answer:\n",
        "\n",
        "**2. Facilitating communication between web-based systems**\n"
      ],
      "metadata": {
        "id": "rDPdqkUo-ttm"
      }
    },
    {
      "cell_type": "code",
      "source": [],
      "metadata": {
        "id": "hRY18YAp-wwk"
      },
      "execution_count": null,
      "outputs": []
    },
    {
      "cell_type": "markdown",
      "source": [
        "##Q25. Which type of API is typically used within an organization to connect internal systems?\n",
        "1. Public API\n",
        "2. Partner API\n",
        "3. Private API\n",
        "4. Remote API"
      ],
      "metadata": {
        "id": "zEVzXi4n-xKo"
      }
    },
    {
      "cell_type": "markdown",
      "source": [
        "The correct option is:\n",
        "\n",
        "**👉 3. Private API**\n",
        "\n",
        "---\n",
        "\n",
        "### Explanation:\n",
        "\n",
        "* **Private API**: Used **within an organization** to connect and integrate internal systems securely.\n",
        "* **Public API**: Openly available to external developers and users.\n",
        "* **Partner API**: Shared with specific business partners.\n",
        "* **Remote API**: A general term for APIs accessed over a network; not specific to internal use.\n",
        "\n",
        "---\n",
        "\n",
        "### ✅ Final Answer:\n",
        "\n",
        "**3. Private API**\n"
      ],
      "metadata": {
        "id": "7z4e0NLi-6IK"
      }
    },
    {
      "cell_type": "code",
      "source": [],
      "metadata": {
        "id": "CnYW0JTr-8vQ"
      },
      "execution_count": null,
      "outputs": []
    },
    {
      "cell_type": "markdown",
      "source": [
        "##Q26. What does the acronym API stand for?\n",
        "1. Application Process Interface\n",
        "2. Application Program Integration\n",
        "3. Apllication Programming Interface\n",
        "4. Application Procedure Interface"
      ],
      "metadata": {
        "id": "sdbK7J0C-9NP"
      }
    },
    {
      "cell_type": "markdown",
      "source": [
        "The correct option is:\n",
        "\n",
        "**👉 3. Application Programming Interface**\n",
        "\n",
        "---\n",
        "\n",
        "### Explanation:\n",
        "\n",
        "**API** stands for **Application Programming Interface** — a set of rules and tools for building software and applications that allow different software programs to communicate with each other.\n",
        "\n",
        "---\n",
        "\n",
        "### ✅ Final Answer:\n",
        "\n",
        "**3. Application Programming Interface**\n"
      ],
      "metadata": {
        "id": "Rn6jx3jy_Fw2"
      }
    },
    {
      "cell_type": "code",
      "source": [],
      "metadata": {
        "id": "sggYXJer_IA-"
      },
      "execution_count": null,
      "outputs": []
    },
    {
      "cell_type": "markdown",
      "source": [
        "##Q27. Which of the following commands is used to install FastAPI and its ASGI server?\n",
        "1. pip install fastapi gunicorn\n",
        "2. pip install fastapi uvicorn\n",
        "3. pip install fastapi flask\n",
        "4. pip install fastapi django"
      ],
      "metadata": {
        "id": "7xvDVIY3_Ir3"
      }
    },
    {
      "cell_type": "markdown",
      "source": [
        "The correct option is:\n",
        "\n",
        "**👉 2. pip install fastapi uvicorn**\n",
        "\n",
        "---\n",
        "\n",
        "### Explanation:\n",
        "\n",
        "* **FastAPI** is the framework.\n",
        "* **Uvicorn** is a lightweight ASGI server used to run FastAPI apps.\n",
        "* **Gunicorn** is a WSGI server, not ideal for ASGI apps like FastAPI.\n",
        "* **Flask** and **Django** are different web frameworks.\n",
        "\n",
        "---\n",
        "\n",
        "### ✅ Final Answer:\n",
        "\n",
        "**2. pip install fastapi uvicorn**\n"
      ],
      "metadata": {
        "id": "fV4QTrb3_Wfh"
      }
    },
    {
      "cell_type": "code",
      "source": [],
      "metadata": {
        "id": "qKXIoO0w_ZZ5"
      },
      "execution_count": null,
      "outputs": []
    },
    {
      "cell_type": "markdown",
      "source": [
        "##Q28. How does FastAPI handle asynchronous programming?\n",
        "1. By using threads\n",
        "2. By leveraging Python's async and await keywords\n",
        "3. By running tasks in the background\n",
        "4. By creating multiple processes"
      ],
      "metadata": {
        "id": "5mjEIk2u_ZwT"
      }
    },
    {
      "cell_type": "markdown",
      "source": [
        "The correct option is:\n",
        "\n",
        "**👉 2. By leveraging Python's async and await keywords**\n",
        "\n",
        "---\n",
        "\n",
        "### Explanation:\n",
        "\n",
        "FastAPI is built on **Starlette** and fully supports **Python's async/await syntax** to handle asynchronous programming, allowing you to write non-blocking code that can handle many requests efficiently.\n",
        "\n",
        "---\n",
        "\n",
        "### Other options:\n",
        "\n",
        "* **1. By using threads** – ❌ Threads are different from async.\n",
        "* **3. By running tasks in the background** – ❌ Background tasks are possible, but async/await is the core async mechanism.\n",
        "* **4. By creating multiple processes** – ❌ Process-based concurrency is separate from async programming.\n",
        "\n",
        "---\n",
        "\n",
        "### ✅ Final Answer:\n",
        "\n",
        "**2. By leveraging Python's async and await keywords**\n"
      ],
      "metadata": {
        "id": "AzL6o9Yt_lmw"
      }
    },
    {
      "cell_type": "code",
      "source": [],
      "metadata": {
        "id": "neaGYz91_oJe"
      },
      "execution_count": null,
      "outputs": []
    },
    {
      "cell_type": "markdown",
      "source": [
        "##Q29. What is the purpose of a response model in FastAPI?\n",
        "1. To format the URL\n",
        "2. To validate the request body\n",
        "3. To structure and validate the response data\n",
        "4. To handle client errors"
      ],
      "metadata": {
        "id": "fy-GthLh_opn"
      }
    },
    {
      "cell_type": "markdown",
      "source": [
        "The correct option is:\n",
        "\n",
        "**👉 3. To structure and validate the response data**\n",
        "\n",
        "---\n",
        "\n",
        "### Explanation:\n",
        "\n",
        "In FastAPI, a **response model** is used to:\n",
        "\n",
        "* Define the **shape** of the data your API sends back to clients.\n",
        "* Ensure the response follows the specified **schema** (using Pydantic models).\n",
        "* Automatically generate clear API documentation with response details.\n",
        "\n",
        "---\n",
        "\n",
        "### Other options:\n",
        "\n",
        "* **1. To format the URL** – ❌ URLs are defined separately.\n",
        "* **2. To validate the request body** – ❌ That’s done with **request models**, not response models.\n",
        "* **4. To handle client errors** – ❌ Error handling is done via exception handlers.\n",
        "\n",
        "---\n",
        "\n",
        "### ✅ Final Answer:\n",
        "\n",
        "**3. To structure and validate the response data**\n"
      ],
      "metadata": {
        "id": "tDOSt9WW_0IX"
      }
    },
    {
      "cell_type": "code",
      "source": [],
      "metadata": {
        "id": "of4AkPiA_2g6"
      },
      "execution_count": null,
      "outputs": []
    },
    {
      "cell_type": "markdown",
      "source": [
        "##Q30. WHich of the following middleware can be used with FastAPI to handle CORS?\n",
        "1. CORSHandler\n",
        "2. CORSMiddleware\n",
        "3. CORSEnabler\n",
        "4. CORSProxy"
      ],
      "metadata": {
        "id": "WnDeGYJJ_2-8"
      }
    },
    {
      "cell_type": "markdown",
      "source": [
        "The correct option is:\n",
        "\n",
        "**👉 2. CORSMiddleware**\n",
        "\n",
        "---\n",
        "\n",
        "### Explanation:\n",
        "\n",
        "FastAPI uses **`CORSMiddleware`** from the **Starlette** package to handle **Cross-Origin Resource Sharing (CORS)**, allowing you to configure which origins can access your API.\n",
        "\n",
        "---\n",
        "\n",
        "### Other options:\n",
        "\n",
        "* **1. CORSHandler** – ❌ Not a standard middleware.\n",
        "* **3. CORSEnabler** – ❌ Not a standard middleware.\n",
        "* **4. CORSProxy** – ❌ This refers to proxy tools, not middleware.\n",
        "\n",
        "---\n",
        "\n",
        "### ✅ Final Answer:\n",
        "\n",
        "**2. CORSMiddleware**\n"
      ],
      "metadata": {
        "id": "t_I9EBx5AAtD"
      }
    },
    {
      "cell_type": "code",
      "source": [],
      "metadata": {
        "id": "4gWEXc-vACSV"
      },
      "execution_count": null,
      "outputs": []
    },
    {
      "cell_type": "markdown",
      "source": [
        "##Q31. What does JWT stand for?\n",
        "1. Java Web Token\n",
        "2. JSON Web Token\n",
        "3. JavaScript Web Token\n",
        "4. JSON Wrapped Token"
      ],
      "metadata": {
        "id": "jwHHawsFACuq"
      }
    },
    {
      "cell_type": "markdown",
      "source": [
        "The correct option is:\n",
        "\n",
        "**👉 2. JSON Web Token**\n",
        "\n",
        "---\n",
        "\n",
        "### Explanation:\n",
        "\n",
        "JWT stands for **JSON Web Token**, a compact, URL-safe means of representing claims to be transferred between two parties.\n",
        "\n",
        "---\n",
        "\n",
        "### ✅ Final Answer:\n",
        "\n",
        "**2. JSON Web Token**\n"
      ],
      "metadata": {
        "id": "QHhRQZwAALbU"
      }
    },
    {
      "cell_type": "code",
      "source": [],
      "metadata": {
        "id": "Qr7FzPkLAN-e"
      },
      "execution_count": null,
      "outputs": []
    },
    {
      "cell_type": "markdown",
      "source": [
        "##Q32. What is the main purpose of teh signature in a JWT?\n",
        "1. To encode the header\n",
        "2. To encode the payload\n",
        "3. To verify the authenticity of the token\n",
        "4. To manage token expiration"
      ],
      "metadata": {
        "id": "r1jRsPpJAOU9"
      }
    },
    {
      "cell_type": "markdown",
      "source": [
        "The correct option is:\n",
        "\n",
        "**👉 3. To verify the authenticity of the token**\n",
        "\n",
        "---\n",
        "\n",
        "### Explanation:\n",
        "\n",
        "The **signature** in a JWT ensures that the token:\n",
        "\n",
        "* Has not been tampered with.\n",
        "* Was issued by a trusted party (using a secret key or private key).\n",
        "\n",
        "It does this by cryptographically signing the header and payload.\n",
        "\n",
        "---\n",
        "\n",
        "### Other options:\n",
        "\n",
        "* **1. To encode the header** – ❌ Encoding is done before signing.\n",
        "* **2. To encode the payload** – ❌ Encoding happens before signing.\n",
        "* **4. To manage token expiration** – ❌ Expiration is handled via claims like `exp` in the payload.\n",
        "\n",
        "---\n",
        "\n",
        "### ✅ Final Answer:\n",
        "\n",
        "**3. To verify the authenticity of the token**\n"
      ],
      "metadata": {
        "id": "R2FmrDcdAa7d"
      }
    },
    {
      "cell_type": "code",
      "source": [],
      "metadata": {
        "id": "Rtct-qHvAdwL"
      },
      "execution_count": null,
      "outputs": []
    },
    {
      "cell_type": "markdown",
      "source": [
        "##Q33. Which OAuth2 grant type is most commonly used for server-to-server communication?\n",
        "1. Authorization Code\n",
        "2. Implicit\n",
        "3. Client Credentials\n",
        "4. Resource Owner Password Credentials"
      ],
      "metadata": {
        "id": "5hGf0VqnAeII"
      }
    },
    {
      "cell_type": "markdown",
      "source": [
        "The correct option is:\n",
        "\n",
        "**👉 3. Client Credentials**\n",
        "\n",
        "---\n",
        "\n",
        "### Explanation:\n",
        "\n",
        "* **Client Credentials** grant type is typically used for **server-to-server** (machine-to-machine) authentication where no user is involved.\n",
        "* It allows the client to authenticate itself directly with the authorization server using its own credentials.\n",
        "\n",
        "---\n",
        "\n",
        "### Other options:\n",
        "\n",
        "* **1. Authorization Code** – Used for user authorization with redirect flows.\n",
        "* **2. Implicit** – Used for client-side (browser) apps, now mostly deprecated.\n",
        "* **4. Resource Owner Password Credentials** – Used when the client collects user credentials directly (less secure, rarely recommended).\n",
        "\n",
        "---\n",
        "\n",
        "### ✅ Final Answer:\n",
        "\n",
        "**3. Client Credentials**\n"
      ],
      "metadata": {
        "id": "R60ObeioAnIM"
      }
    },
    {
      "cell_type": "code",
      "source": [],
      "metadata": {
        "id": "3bLQEC3RAp60"
      },
      "execution_count": null,
      "outputs": []
    },
    {
      "cell_type": "markdown",
      "source": [
        "##Q34. Which component of an OAuth2 authorization flow typically interacts with the user's credentials?\n",
        "1. Resource Server\n",
        "2. Client Application\n",
        "3. Authorization Server\n",
        "4. API Gateway"
      ],
      "metadata": {
        "id": "XIJXVRiIAqRk"
      }
    },
    {
      "cell_type": "markdown",
      "source": [
        "The correct option is:\n",
        "\n",
        "**👉 3. Authorization Server**\n",
        "\n",
        "---\n",
        "\n",
        "### Explanation:\n",
        "\n",
        "* The **Authorization Server** is responsible for authenticating the user and handling their credentials during the OAuth2 flow.\n",
        "* It issues access tokens to the client application after successful authentication.\n",
        "\n",
        "---\n",
        "\n",
        "### Other options:\n",
        "\n",
        "* **1. Resource Server** – Hosts the protected resources, verifies tokens.\n",
        "* **2. Client Application** – Requests authorization but typically does **not** handle user credentials directly (except in some flows).\n",
        "* **4. API Gateway** – Manages API traffic but is not responsible for user authentication.\n",
        "\n",
        "---\n",
        "\n",
        "### ✅ Final Answer:\n",
        "\n",
        "**3. Authorization Server**\n"
      ],
      "metadata": {
        "id": "nvriRPfWAy2e"
      }
    },
    {
      "cell_type": "code",
      "source": [],
      "metadata": {
        "id": "aaYCrAWEA1Qt"
      },
      "execution_count": null,
      "outputs": []
    },
    {
      "cell_type": "markdown",
      "source": [
        "##Q35. In OAuth2, what is the function of the 'scope' parameter?\n",
        "1. To define the permissions requested by the client\n",
        "2. To limit the access token's lifespan\n",
        "3. To specify the client's redirect URI\n",
        "4. To validate the access token"
      ],
      "metadata": {
        "id": "ppKi_hcnA1pV"
      }
    },
    {
      "cell_type": "markdown",
      "source": [
        "The correct option is:\n",
        "\n",
        "**👉 1. To define the permissions requested by the client**\n",
        "\n",
        "---\n",
        "\n",
        "### Explanation:\n",
        "\n",
        "* The **`scope`** parameter in OAuth2 specifies **what permissions or access levels** the client application is requesting from the resource owner.\n",
        "* For example, `scope=email profile` requests access to the user's email and profile information.\n",
        "\n",
        "---\n",
        "\n",
        "### Other options:\n",
        "\n",
        "* **2. To limit the access token's lifespan** – ❌ That’s controlled by the token’s expiry time.\n",
        "* **3. To specify the client's redirect URI** – ❌ That’s the **redirect\\_uri** parameter.\n",
        "* **4. To validate the access token** – ❌ Validation happens server-side, unrelated to the scope parameter.\n",
        "\n",
        "---\n",
        "\n",
        "### ✅ Final Answer:\n",
        "\n",
        "**1. To define the permissions requested by the client**\n"
      ],
      "metadata": {
        "id": "kTjbmYxbBBGt"
      }
    },
    {
      "cell_type": "code",
      "source": [],
      "metadata": {
        "id": "NEiYrbkaBCfU"
      },
      "execution_count": null,
      "outputs": []
    },
    {
      "cell_type": "code",
      "source": [],
      "metadata": {
        "id": "9TcA_i1YBC9w"
      },
      "execution_count": null,
      "outputs": []
    },
    {
      "cell_type": "code",
      "source": [],
      "metadata": {
        "id": "uWRb1qi-BDaU"
      },
      "execution_count": null,
      "outputs": []
    },
    {
      "cell_type": "code",
      "source": [],
      "metadata": {
        "id": "uymMfOUmBD4j"
      },
      "execution_count": null,
      "outputs": []
    }
  ],
  "metadata": {
    "colab": {
      "provenance": [],
      "include_colab_link": true
    },
    "kernelspec": {
      "display_name": "Python 3",
      "name": "python3"
    }
  },
  "nbformat": 4,
  "nbformat_minor": 0
}