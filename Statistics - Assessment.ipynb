{
 "cells": [
  {
   "cell_type": "markdown",
   "metadata": {},
   "source": [
    "# Quiz : Statistics - Assessment"
   ]
  },
  {
   "cell_type": "markdown",
   "metadata": {},
   "source": [
    "## Q1. Which of the following best defines 'population' in statistics?\n",
    "1. The entire group being studied.\n",
    "2. A subset of the group being studied.\n",
    "3. The sample data collected.\n",
    "4. The variables under study."
   ]
  },
  {
   "cell_type": "markdown",
   "metadata": {},
   "source": [
    "**Correct Answer:** **1. The entire group being studied.**  \n",
    "\n",
    "### Explanation of each option:  \n",
    "1️⃣ **The entire group being studied.** ✅ (Correct)  \n",
    "   - A **population** in statistics refers to the **complete set** of individuals, objects, or data points under investigation.  \n",
    "\n",
    "2️⃣ **A subset of the group being studied.** ❌  \n",
    "   - This defines a **sample**, not a population. A sample is a **small portion** selected from the population for analysis.  \n",
    "\n",
    "3️⃣ **The sample data collected.** ❌  \n",
    "   - Sample data represents **observations drawn from a population**, but it is **not** the population itself.  \n",
    "\n",
    "4️⃣ **The variables under study.** ❌  \n",
    "   - Variables are **characteristics or properties** (e.g., height, weight) measured within a population but are not the population itself.  "
   ]
  },
  {
   "cell_type": "code",
   "execution_count": null,
   "metadata": {
    "vscode": {
     "languageId": "plaintext"
    }
   },
   "outputs": [],
   "source": []
  },
  {
   "cell_type": "markdown",
   "metadata": {},
   "source": [
    "## Q2. In a dataset, if the mean is greater than the median, what can be inferred about the distribution?\n",
    "1. The distribution is symmetric.\n",
    "2. The distribution is left-skewed.\n",
    "3. The distribution is right-skewed.\n",
    "4. The distribution is normal."
   ]
  },
  {
   "cell_type": "markdown",
   "metadata": {},
   "source": [
    "**Correct Answer:** **3. The distribution is right-skewed.**  \n",
    "\n",
    "### Explanation of each option:  \n",
    "1️⃣ **The distribution is symmetric.** ❌  \n",
    "   - In a symmetric distribution, **mean = median = mode**, so this does not apply when the mean is greater than the median.  \n",
    "\n",
    "2️⃣ **The distribution is left-skewed.** ❌  \n",
    "   - In a **left-skewed** (negatively skewed) distribution, the **mean < median**, which contradicts the given condition.  \n",
    "\n",
    "3️⃣ **The distribution is right-skewed.** ✅ (Correct)  \n",
    "   - In a **right-skewed** (positively skewed) distribution, **mean > median**, meaning the data has a long right tail (few large values pulling the mean higher).  \n",
    "\n",
    "4️⃣ **The distribution is normal.** ❌  \n",
    "   - A **normal distribution** is symmetric, so **mean = median = mode**, which does not match the given condition."
   ]
  },
  {
   "cell_type": "code",
   "execution_count": null,
   "metadata": {
    "vscode": {
     "languageId": "plaintext"
    }
   },
   "outputs": [],
   "source": []
  },
  {
   "cell_type": "markdown",
   "metadata": {},
   "source": [
    "## Q3. Which measure of central tendency is used most frequently in categorical data analysis?\n",
    "1. Mean\n",
    "2. Median\n",
    "3. Mode\n",
    "4. Standard Deviation"
   ]
  },
  {
   "cell_type": "markdown",
   "metadata": {},
   "source": [
    "**Correct Answer:** **3. Mode**  \n",
    "\n",
    "### Explanation of each option:  \n",
    "1️⃣ **Mean** ❌  \n",
    "   - The mean is used for **numerical data** but **not** for categorical data since categories **cannot be averaged**.  \n",
    "\n",
    "2️⃣ **Median** ❌  \n",
    "   - The median is useful for **ordinal data** but not for **nominal categorical data**, as there is **no inherent order** in purely categorical variables.  \n",
    "\n",
    "3️⃣ **Mode** ✅ (Correct)  \n",
    "   - The mode identifies the **most frequently occurring category** in a dataset, making it the **best measure** for categorical data.  \n",
    "\n",
    "4️⃣ **Standard Deviation** ❌  \n",
    "   - Standard deviation measures **data spread** and is not a measure of **central tendency**. It is also irrelevant for categorical data."
   ]
  },
  {
   "cell_type": "code",
   "execution_count": null,
   "metadata": {
    "vscode": {
     "languageId": "plaintext"
    }
   },
   "outputs": [],
   "source": []
  },
  {
   "cell_type": "markdown",
   "metadata": {},
   "source": [
    "## Q4. What is the purpose of calculating the variance of a dataset?\n",
    "1. To find the average value.\n",
    "2. To measure the dispersion or spread of data points around the mean.\n",
    "3. To determine the most frequent value.\n",
    "4. To find the middle value."
   ]
  },
  {
   "cell_type": "markdown",
   "metadata": {},
   "source": [
    "**Correct Answer:** **2. To measure the dispersion or spread of data points around the mean.**  \n",
    "\n",
    "### Explanation of each option:  \n",
    "1️⃣ **To find the average value.** ❌  \n",
    "   - The **mean** (not variance) represents the average value of a dataset.  \n",
    "\n",
    "2️⃣ **To measure the dispersion or spread of data points around the mean.** ✅ (Correct)  \n",
    "   - **Variance** quantifies how much data points **deviate from the mean**, showing the **spread** of the dataset.  \n",
    "\n",
    "3️⃣ **To determine the most frequent value.** ❌  \n",
    "   - The **mode** (not variance) identifies the most **frequently occurring** value in a dataset.  \n",
    "\n",
    "4️⃣ **To find the middle value.** ❌  \n",
    "   - The **median** (not variance) represents the **middle value** when data is arranged in order."
   ]
  },
  {
   "cell_type": "code",
   "execution_count": null,
   "metadata": {
    "vscode": {
     "languageId": "plaintext"
    }
   },
   "outputs": [],
   "source": []
  },
  {
   "cell_type": "markdown",
   "metadata": {},
   "source": [
    "## Q5. What is a common property of a standard normal distribution?\n",
    "1. It has a mean of 0 and a standard deviation of 1.\n",
    "2. It has a mean of 1 and a standard deviation of 0.\n",
    "3. It has no variance.\n",
    "4. It is skewed to the left."
   ]
  },
  {
   "cell_type": "markdown",
   "metadata": {},
   "source": [
    "**Correct Answer:** **1. It has a mean of 0 and a standard deviation of 1.**  \n",
    "\n",
    "### Explanation of each option:  \n",
    "1️⃣ **It has a mean of 0 and a standard deviation of 1.** ✅ (Correct)  \n",
    "   - A **standard normal distribution (Z-distribution)** is a **normal distribution** with **mean = 0** and **standard deviation = 1**.  \n",
    "\n",
    "2️⃣ **It has a mean of 1 and a standard deviation of 0.** ❌  \n",
    "   - A **mean of 1** is incorrect for a standard normal distribution, and a **standard deviation of 0** would imply **no spread**, which is impossible.  \n",
    "\n",
    "3️⃣ **It has no variance.** ❌  \n",
    "   - The **variance** of a standard normal distribution is **1** (since variance = (standard deviation)² = 1² = 1), so this statement is false.  \n",
    "\n",
    "4️⃣ **It is skewed to the left.** ❌  \n",
    "   - A **normal distribution** is always **symmetric**, meaning it has **no skew** (neither left nor right)."
   ]
  },
  {
   "cell_type": "code",
   "execution_count": null,
   "metadata": {
    "vscode": {
     "languageId": "plaintext"
    }
   },
   "outputs": [],
   "source": []
  },
  {
   "cell_type": "markdown",
   "metadata": {},
   "source": [
    "## Q6. Which measure of central tendency is most affected by outliers?\n",
    "1. Mean\n",
    "2. Median\n",
    "3. Mode\n",
    "4. Range"
   ]
  },
  {
   "cell_type": "markdown",
   "metadata": {},
   "source": [
    "**Correct Answer:** **1. Mean**  \n",
    "\n",
    "### Explanation of each option:  \n",
    "1️⃣ **Mean** ✅ (Correct)  \n",
    "   - The **mean** is highly affected by **outliers** since it considers all values in the dataset, including extreme ones.  \n",
    "\n",
    "2️⃣ **Median** ❌  \n",
    "   - The **median** is **less affected** by outliers because it depends only on the **middle value**, not the magnitude of data points.  \n",
    "\n",
    "3️⃣ **Mode** ❌  \n",
    "   - The **mode** is **not affected** by outliers since it simply represents the **most frequent value** in the dataset.  \n",
    "\n",
    "4️⃣ **Range** ❌  \n",
    "   - The **range** measures **spread**, not central tendency, and is affected by outliers but **not in the context of central tendency**."
   ]
  },
  {
   "cell_type": "code",
   "execution_count": null,
   "metadata": {
    "vscode": {
     "languageId": "plaintext"
    }
   },
   "outputs": [],
   "source": []
  },
  {
   "cell_type": "markdown",
   "metadata": {},
   "source": [
    "## Q7. Variance is:\n",
    "1. The difference between the highest and lowest values.\n",
    "2. The average squared deviation from the mean.\n",
    "3. The squared root of the standard deviation.\n",
    "4. The average value of a data set."
   ]
  },
  {
   "cell_type": "markdown",
   "metadata": {},
   "source": [
    "**Correct Answer:** **2. The average squared deviation from the mean.**  \n",
    "\n",
    "### Explanation of each option:  \n",
    "1️⃣ **The difference between the highest and lowest values.** ❌  \n",
    "   - This defines the **range**, not variance.  \n",
    "\n",
    "2️⃣ **The average squared deviation from the mean.** ✅ (Correct)  \n",
    "   - **Variance** measures how much data **deviates from the mean**, calculated as the **average of squared differences** from the mean.  \n",
    "\n",
    "3️⃣ **The squared root of the standard deviation.** ❌  \n",
    "   - **Standard deviation** is the **square root** of variance, not vice versa.  \n",
    "\n",
    "4️⃣ **The average value of a data set.** ❌  \n",
    "   - This defines the **mean**, not variance."
   ]
  },
  {
   "cell_type": "code",
   "execution_count": null,
   "metadata": {
    "vscode": {
     "languageId": "plaintext"
    }
   },
   "outputs": [],
   "source": []
  },
  {
   "cell_type": "markdown",
   "metadata": {},
   "source": [
    "## Q8. Which of the following is not a measure of central tendency?\n",
    "1. Mean\n",
    "2. Median\n",
    "3. Mode\n",
    "4. Standard Deviation"
   ]
  },
  {
   "cell_type": "markdown",
   "metadata": {},
   "source": [
    "**Correct Answer:** **4. Standard Deviation**  \n",
    "\n",
    "### Explanation of each option:  \n",
    "1️⃣ **Mean** ❌  \n",
    "   - The **mean** is a measure of **central tendency**, representing the **average** value of a dataset.  \n",
    "\n",
    "2️⃣ **Median** ❌  \n",
    "   - The **median** is a measure of **central tendency**, representing the **middle** value when data is arranged in order.  \n",
    "\n",
    "3️⃣ **Mode** ❌  \n",
    "   - The **mode** is a measure of **central tendency**, representing the **most frequently occurring** value in a dataset.  \n",
    "\n",
    "4️⃣ **Standard Deviation** ✅ (Correct)  \n",
    "   - **Standard deviation** measures **dispersion (spread)** of data, not central tendency."
   ]
  },
  {
   "cell_type": "code",
   "execution_count": null,
   "metadata": {
    "vscode": {
     "languageId": "plaintext"
    }
   },
   "outputs": [],
   "source": []
  },
  {
   "cell_type": "markdown",
   "metadata": {},
   "source": [
    "## Q9. Descriptive statistics are used to:\n",
    "1. Make predictions about a population.\n",
    "2. Summarize and describe the characteristics of a data set.\n",
    "3. Test hypotheses about data.\n",
    "4. Establish cause and effect relationships."
   ]
  },
  {
   "cell_type": "markdown",
   "metadata": {},
   "source": [
    "**Correct Answer:** **2. Summarize and describe the characteristics of a data set.**  \n",
    "\n",
    "### Explanation of each option:  \n",
    "1️⃣ **Make predictions about a population.** ❌  \n",
    "   - **Inferential statistics** (not descriptive statistics) are used for making predictions about a population.  \n",
    "\n",
    "2️⃣ **Summarize and describe the characteristics of a data set.** ✅ (Correct)  \n",
    "   - **Descriptive statistics** involve measures like **mean, median, mode, variance**, and **graphs** to summarize data.  \n",
    "\n",
    "3️⃣ **Test hypotheses about data.** ❌  \n",
    "   - **Hypothesis testing** is part of **inferential statistics**, not descriptive statistics.  \n",
    "\n",
    "4️⃣ **Establish cause and effect relationships.** ❌  \n",
    "   - Cause-effect relationships are studied through **experiments** and **inferential statistics**, not descriptive statistics."
   ]
  },
  {
   "cell_type": "code",
   "execution_count": null,
   "metadata": {
    "vscode": {
     "languageId": "plaintext"
    }
   },
   "outputs": [],
   "source": []
  },
  {
   "cell_type": "markdown",
   "metadata": {},
   "source": [
    "## Q10. Inferential statistics are used to:\n",
    "1. Describe data.\n",
    "2. Summarize data.\n",
    "3. Make predictions or inferences about a population based on a sample.\n",
    "4. Calculate the mean and median."
   ]
  },
  {
   "cell_type": "markdown",
   "metadata": {},
   "source": [
    "**Correct Answer:** **3. Make predictions or inferences about a population based on a sample.**  \n",
    "\n",
    "### Explanation of each option:  \n",
    "1️⃣ **Describe data.** ❌  \n",
    "   - **Descriptive statistics** (not inferential) are used to describe data.  \n",
    "\n",
    "2️⃣ **Summarize data.** ❌  \n",
    "   - **Descriptive statistics** summarize data using measures like mean, median, and standard deviation.  \n",
    "\n",
    "3️⃣ **Make predictions or inferences about a population based on a sample.** ✅ (Correct)  \n",
    "   - **Inferential statistics** use sample data to make **predictions** or **generalizations** about a larger population.  \n",
    "\n",
    "4️⃣ **Calculate the mean and median.** ❌  \n",
    "   - **Mean and median** are measures of **central tendency**, which are part of **descriptive statistics**."
   ]
  },
  {
   "cell_type": "code",
   "execution_count": null,
   "metadata": {
    "vscode": {
     "languageId": "plaintext"
    }
   },
   "outputs": [],
   "source": []
  },
  {
   "cell_type": "markdown",
   "metadata": {},
   "source": [
    "## Q11. The standard deviation is:\n",
    "1. The squared root of the variance.\n",
    "2. The difference between the highest and lowest values.\n",
    "3. The average value of a data set.\n",
    "4. The most frequent value in a data set."
   ]
  },
  {
   "cell_type": "markdown",
   "metadata": {},
   "source": [
    "**Correct Answer:** **1. The squared root of the variance.**  \n",
    "\n",
    "### Explanation of each option:  \n",
    "1️⃣ **The squared root of the variance.** ✅ (Correct)  \n",
    "   - **Standard deviation** is the square root of the **variance** and measures the **spread** of data around the mean.  \n",
    "\n",
    "2️⃣ **The difference between the highest and lowest values.** ❌  \n",
    "   - This defines the **range**, not the standard deviation.  \n",
    "\n",
    "3️⃣ **The average value of a data set.** ❌  \n",
    "   - The **mean** is the average, not the standard deviation.  \n",
    "\n",
    "4️⃣ **The most frequent value in a data set.** ❌  \n",
    "   - The **mode** is the most frequent value, not the standard deviation."
   ]
  },
  {
   "cell_type": "code",
   "execution_count": null,
   "metadata": {
    "vscode": {
     "languageId": "plaintext"
    }
   },
   "outputs": [],
   "source": []
  },
  {
   "cell_type": "markdown",
   "metadata": {},
   "source": [
    "## Q12. A positive correlation between two variables indicates:\n",
    "1. One variable decreases as the increases.\n",
    "2. No linear relationship between the variables.\n",
    "3. Both variables increase together.\n",
    "4. Both variables decrease together."
   ]
  },
  {
   "cell_type": "markdown",
   "metadata": {},
   "source": [
    "**Correct Answer:** **3. Both variables increase together.**  \n",
    "\n",
    "### Explanation of each option:  \n",
    "1️⃣ **One variable decreases as the other increases.** ❌  \n",
    "   - This describes a **negative correlation**, not a positive one.  \n",
    "\n",
    "2️⃣ **No linear relationship between the variables.** ❌  \n",
    "   - This describes **zero correlation** where no relationship exists.  \n",
    "\n",
    "3️⃣ **Both variables increase together.** ✅ (Correct)  \n",
    "   - A **positive correlation** means that as one variable **increases**, the other **also increases**.  \n",
    "\n",
    "4️⃣ **Both variables decrease together.** ❌  \n",
    "   - This describes a **negative correlation**, where both variables decrease together."
   ]
  },
  {
   "cell_type": "code",
   "execution_count": null,
   "metadata": {
    "vscode": {
     "languageId": "plaintext"
    }
   },
   "outputs": [],
   "source": []
  },
  {
   "cell_type": "markdown",
   "metadata": {},
   "source": [
    "## Q13. Which of the following is an example of a discrete probability distribution?\n",
    "1. Normal distribution\n",
    "2. Exponential distribution\n",
    "3. Poisson distribution\n",
    "4. Continuous distribution"
   ]
  },
  {
   "cell_type": "markdown",
   "metadata": {},
   "source": [
    "**Correct Answer:** **3. Poisson distribution**  \n",
    "\n",
    "### Explanation of each option:  \n",
    "1️⃣ **Normal distribution** ❌  \n",
    "   - The **normal distribution** is a **continuous** probability distribution, not discrete.  \n",
    "\n",
    "2️⃣ **Exponential distribution** ❌  \n",
    "   - The **exponential distribution** is also a **continuous** probability distribution.  \n",
    "\n",
    "3️⃣ **Poisson distribution** ✅ (Correct)  \n",
    "   - The **Poisson distribution** is a **discrete** probability distribution, typically used to model the number of events in fixed intervals.  \n",
    "\n",
    "4️⃣ **Continuous distribution** ❌  \n",
    "   - This term refers to any distribution where the variable can take on any value in a range, such as **normal** or **exponential**, not discrete."
   ]
  },
  {
   "cell_type": "code",
   "execution_count": null,
   "metadata": {
    "vscode": {
     "languageId": "plaintext"
    }
   },
   "outputs": [],
   "source": []
  },
  {
   "cell_type": "markdown",
   "metadata": {},
   "source": [
    "## Q14. The mean of a data set is calculated by:\n",
    "1. Adding all values and dividing by the count of values.\n",
    "2. Identifying the middle value in an ordered data set.\n",
    "3. Finding the most frequent value in the data set.\n",
    "4. Calculating the average squared deviation from the mean."
   ]
  },
  {
   "cell_type": "markdown",
   "metadata": {},
   "source": [
    "**Correct Answer:** **1. Adding all values and dividing by the count of values.**  \n",
    "\n",
    "### Explanation of each option:  \n",
    "1️⃣ **Adding all values and dividing by the count of values.** ✅ (Correct)  \n",
    "   - The **mean** is the sum of all data points divided by the total number of values in the dataset.  \n",
    "\n",
    "2️⃣ **Identifying the middle value in an ordered data set.** ❌  \n",
    "   - This describes the **median**, not the mean.  \n",
    "\n",
    "3️⃣ **Finding the most frequent value in the data set.** ❌  \n",
    "   - This describes the **mode**, not the mean.  \n",
    "\n",
    "4️⃣ **Calculating the average squared deviation from the mean.** ❌  \n",
    "   - This describes **variance**, not the mean."
   ]
  },
  {
   "cell_type": "code",
   "execution_count": null,
   "metadata": {
    "vscode": {
     "languageId": "plaintext"
    }
   },
   "outputs": [],
   "source": []
  },
  {
   "cell_type": "markdown",
   "metadata": {},
   "source": [
    "## Q15. What is the range of a dataset?\n",
    "1. The difference between the highest and lowest values.\n",
    "2. The average of all values.\n",
    "3. The middle value when data is sorted.\n",
    "4. The average squared deviation from the mean."
   ]
  },
  {
   "cell_type": "markdown",
   "metadata": {},
   "source": [
    "**Correct Answer:** **1. The difference between the highest and lowest values.**  \n",
    "\n",
    "### Explanation of each option:  \n",
    "1️⃣ **The difference between the highest and lowest values.** ✅ (Correct)  \n",
    "   - **Range** is calculated as the difference between the **maximum** and **minimum** values in a dataset.  \n",
    "\n",
    "2️⃣ **The average of all values.** ❌  \n",
    "   - This describes the **mean**, not the range.  \n",
    "\n",
    "3️⃣ **The middle value when data is sorted.** ❌  \n",
    "   - This describes the **median**, not the range.  \n",
    "\n",
    "4️⃣ **The average squared deviation from the mean.** ❌  \n",
    "   - This describes **variance**, not the range."
   ]
  },
  {
   "cell_type": "code",
   "execution_count": null,
   "metadata": {
    "vscode": {
     "languageId": "plaintext"
    }
   },
   "outputs": [],
   "source": []
  },
  {
   "cell_type": "markdown",
   "metadata": {},
   "source": [
    "## Q16. In a data set, if all values are equal, what will be the standard deviation be?\n",
    "1. Zero\n",
    "2. One\n",
    "3. The same as the mean\n",
    "4. Infinity"
   ]
  },
  {
   "cell_type": "markdown",
   "metadata": {},
   "source": [
    "**Correct Answer:** **1. Zero**  \n",
    "\n",
    "### Explanation of each option:  \n",
    "1️⃣ **Zero** ✅ (Correct)  \n",
    "   - **Standard deviation** measures the spread of data. If all values are **equal**, there is **no variation**, so the standard deviation is **0**.  \n",
    "\n",
    "2️⃣ **One** ❌  \n",
    "   - Standard deviation is **not always 1**; it depends on the data’s spread. If all values are the same, it must be **0**.  \n",
    "\n",
    "3️⃣ **The same as the mean** ❌  \n",
    "   - Standard deviation and **mean** are separate measures. The mean can be any number, but if all values are the same, the **standard deviation is always 0**.  \n",
    "\n",
    "4️⃣ **Infinity** ❌  \n",
    "   - Standard deviation cannot be **infinite** unless the dataset itself is infinite with extreme variability."
   ]
  },
  {
   "cell_type": "code",
   "execution_count": null,
   "metadata": {
    "vscode": {
     "languageId": "plaintext"
    }
   },
   "outputs": [],
   "source": []
  },
  {
   "cell_type": "markdown",
   "metadata": {},
   "source": [
    "## Q17. Which of the following measures is used to describe the spread of data points around the mean?\n",
    "1. Mean\n",
    "2. Median\n",
    "3. Variance\n",
    "4. Mode"
   ]
  },
  {
   "cell_type": "markdown",
   "metadata": {},
   "source": [
    "**Correct Answer:** **3. Variance**  \n",
    "\n",
    "### Explanation of each option:  \n",
    "1️⃣ **Mean** ❌  \n",
    "   - The **mean** represents the **average** value but does not measure **spread**.  \n",
    "\n",
    "2️⃣ **Median** ❌  \n",
    "   - The **median** is the **middle value** when data is sorted, but it does not describe the **spread** of data.  \n",
    "\n",
    "3️⃣ **Variance** ✅ (Correct)  \n",
    "   - **Variance** measures the **spread** of data points around the mean by calculating the **average squared deviation** from the mean.  \n",
    "\n",
    "4️⃣ **Mode** ❌  \n",
    "   - The **mode** is the most **frequent value**, not a measure of **spread**."
   ]
  },
  {
   "cell_type": "code",
   "execution_count": null,
   "metadata": {
    "vscode": {
     "languageId": "plaintext"
    }
   },
   "outputs": [],
   "source": []
  },
  {
   "cell_type": "markdown",
   "metadata": {},
   "source": [
    "## Q18. What does the median represent in a dataset?\n",
    "1. The most frequent value.\n",
    "2. The average of all values.\n",
    "3. The middle value when the data is sorted in ascending order.\n",
    "4. The difference between the highest and lowest values."
   ]
  },
  {
   "cell_type": "markdown",
   "metadata": {},
   "source": [
    "**Correct Answer:** **3. The middle value when the data is sorted in ascending order.**  \n",
    "\n",
    "### Explanation of each option:  \n",
    "1️⃣ **The most frequent value.** ❌  \n",
    "   - This defines the **mode**, not the median.  \n",
    "\n",
    "2️⃣ **The average of all values.** ❌  \n",
    "   - This defines the **mean**, not the median.  \n",
    "\n",
    "3️⃣ **The middle value when the data is sorted in ascending order.** ✅ (Correct)  \n",
    "   - The **median** is the central value when data is **arranged in order**. If there are an **even number** of values, it is the **average of the two middle values**.  \n",
    "\n",
    "4️⃣ **The difference between the highest and lowest values.** ❌  \n",
    "   - This defines the **range**, not the median."
   ]
  },
  {
   "cell_type": "code",
   "execution_count": null,
   "metadata": {
    "vscode": {
     "languageId": "plaintext"
    }
   },
   "outputs": [],
   "source": []
  },
  {
   "cell_type": "markdown",
   "metadata": {},
   "source": [
    "## Q19. Which term refers to the value that appears most frequently in a dataset?\n",
    "1. Median\n",
    "2. Mean\n",
    "3. Mode\n",
    "4. Range"
   ]
  },
  {
   "cell_type": "markdown",
   "metadata": {},
   "source": [
    "**Correct Answer:** **3. Mode**  \n",
    "\n",
    "### Explanation of each option:  \n",
    "1️⃣ **Median** ❌  \n",
    "   - The **median** is the **middle value** when data is sorted, not the most frequent value.  \n",
    "\n",
    "2️⃣ **Mean** ❌  \n",
    "   - The **mean** is the **average** of all values, not the most frequent one.  \n",
    "\n",
    "3️⃣ **Mode** ✅ (Correct)  \n",
    "   - The **mode** is the **most frequently occurring** value in a dataset.  \n",
    "\n",
    "4️⃣ **Range** ❌  \n",
    "   - The **range** is the **difference between the highest and lowest values**, not a measure of frequency."
   ]
  },
  {
   "cell_type": "code",
   "execution_count": null,
   "metadata": {
    "vscode": {
     "languageId": "plaintext"
    }
   },
   "outputs": [],
   "source": []
  },
  {
   "cell_type": "markdown",
   "metadata": {},
   "source": [
    "## Q20. If a dataset has a normal distribution, what percentage of data falls within two standard deviations of the mean?\n",
    "1. 50%\n",
    "2. 68%\n",
    "3. 95%\n",
    "4. 99%"
   ]
  },
  {
   "cell_type": "markdown",
   "metadata": {},
   "source": [
    "**Correct Answer:** **3. 95%**  \n",
    "\n",
    "### Explanation of each option:  \n",
    "1️⃣ **50%** ❌  \n",
    "   - **50%** of the data lies **within one side** of the mean, but not within **two standard deviations**.  \n",
    "\n",
    "2️⃣ **68%** ❌  \n",
    "   - **68%** of the data falls **within one standard deviation** of the mean in a normal distribution.  \n",
    "\n",
    "3️⃣ **95%** ✅ (Correct)  \n",
    "   - According to the **Empirical Rule**, **95%** of the data falls **within two standard deviations** of the mean in a normal distribution.  \n",
    "\n",
    "4️⃣ **99%** ❌  \n",
    "   - **99.7%** (not exactly 99%) of the data falls **within three standard deviations**, not two."
   ]
  },
  {
   "cell_type": "code",
   "execution_count": null,
   "metadata": {
    "vscode": {
     "languageId": "plaintext"
    }
   },
   "outputs": [],
   "source": []
  },
  {
   "cell_type": "markdown",
   "metadata": {},
   "source": [
    "## Q21. Which of the following is true about a normal distribution?\n",
    "1. It is skewed to the right.\n",
    "2. It has a peak at the mean and is symmetric around it.\n",
    "3. It has multiple peaks.\n",
    "4. It is not used for continuous data."
   ]
  },
  {
   "cell_type": "markdown",
   "metadata": {},
   "source": [
    "**Correct Answer:** **2. It has a peak at the mean and is symmetric around it.**  \n",
    "\n",
    "### Explanation of each option:  \n",
    "1️⃣ **It is skewed to the right.** ❌  \n",
    "   - A **normal distribution** is **not skewed**; it is **symmetric**.  \n",
    "\n",
    "2️⃣ **It has a peak at the mean and is symmetric around it.** ✅ (Correct)  \n",
    "   - A **normal distribution** is **bell-shaped**, peaks at the **mean**, and is **symmetrical** around it.  \n",
    "\n",
    "3️⃣ **It has multiple peaks.** ❌  \n",
    "   - A normal distribution has **only one peak** (unimodal).  \n",
    "\n",
    "4️⃣ **It is not used for continuous data.** ❌  \n",
    "   - The **normal distribution** is specifically used for **continuous** data."
   ]
  },
  {
   "cell_type": "code",
   "execution_count": null,
   "metadata": {
    "vscode": {
     "languageId": "plaintext"
    }
   },
   "outputs": [],
   "source": []
  },
  {
   "cell_type": "markdown",
   "metadata": {},
   "source": [
    "## Q22. In a right-skewed distribution, where does the mean typically lie relative to the median?\n",
    "1. Mean<Median\n",
    "2. Mean>Median\n",
    "3. Mean = Median\n",
    "4. The mean and median cannot be compared in skewed distributions."
   ]
  },
  {
   "cell_type": "markdown",
   "metadata": {},
   "source": [
    "**Correct Answer:** **2. Mean > Median**  \n",
    "\n",
    "### Explanation of each option:  \n",
    "1️⃣ **Mean < Median** ❌  \n",
    "   - In a **left-skewed** distribution, the mean is **less than** the median, not in a right-skewed one.  \n",
    "\n",
    "2️⃣ **Mean > Median** ✅ (Correct)  \n",
    "   - In a **right-skewed** (positively skewed) distribution, the **mean is pulled to the right** due to higher values (outliers), making **mean > median**.  \n",
    "\n",
    "3️⃣ **Mean = Median** ❌  \n",
    "   - The mean and median are **equal only in a symmetric (normal) distribution**, not in a skewed one.  \n",
    "\n",
    "4️⃣ **The mean and median cannot be compared in skewed distributions.** ❌  \n",
    "   - They **can** be compared, and in a right-skewed distribution, the mean is **greater** than the median."
   ]
  },
  {
   "cell_type": "code",
   "execution_count": null,
   "metadata": {
    "vscode": {
     "languageId": "plaintext"
    }
   },
   "outputs": [],
   "source": []
  },
  {
   "cell_type": "markdown",
   "metadata": {},
   "source": [
    "## Q23. Which of the following is true about the interquartile range (IQR)?\n",
    "1. It measures the difference between the first and the third quartiles.\n",
    "2. It is the same as the variance.\n",
    "3. It measures the spread of data around the mean.\n",
    "4. It includes all values in the dataset."
   ]
  },
  {
   "cell_type": "markdown",
   "metadata": {},
   "source": [
    "**Correct Answer:** **1. It measures the difference between the first and the third quartiles.**  \n",
    "\n",
    "### Explanation of each option:  \n",
    "1️⃣ **It measures the difference between the first and the third quartiles.** ✅ (Correct)  \n",
    "   - The **Interquartile Range (IQR)** is calculated as **Q3 - Q1** and measures the **spread of the middle 50%** of the data.  \n",
    "\n",
    "2️⃣ **It is the same as the variance.** ❌  \n",
    "   - **Variance** measures the **average squared deviation from the mean**, not the range between quartiles.  \n",
    "\n",
    "3️⃣ **It measures the spread of data around the mean.** ❌  \n",
    "   - **Standard deviation and variance** measure spread **around the mean**, while IQR focuses on the **middle 50%** of data.  \n",
    "\n",
    "4️⃣ **It includes all values in the dataset.** ❌  \n",
    "   - IQR only considers **Q1 to Q3** and ignores **extreme values** (outliers)."
   ]
  },
  {
   "cell_type": "code",
   "execution_count": null,
   "metadata": {
    "vscode": {
     "languageId": "plaintext"
    }
   },
   "outputs": [],
   "source": []
  },
  {
   "cell_type": "markdown",
   "metadata": {},
   "source": [
    "## Q24. If a dataset has a large number of outliers, which measure of central tendency is most reliable?\n",
    "1. Mean\n",
    "2. Median\n",
    "3. Mode\n",
    "4. Range"
   ]
  },
  {
   "cell_type": "markdown",
   "metadata": {},
   "source": [
    "**Correct Answer:** **2. Median**  \n",
    "\n",
    "### Explanation of each option:  \n",
    "1️⃣ **Mean** ❌  \n",
    "   - The **mean** is highly affected by **outliers**, making it unreliable in skewed datasets.  \n",
    "\n",
    "2️⃣ **Median** ✅ (Correct)  \n",
    "   - The **median** (middle value) is **not affected** by outliers and is the **most reliable** measure in such cases.  \n",
    "\n",
    "3️⃣ **Mode** ❌  \n",
    "   - The **mode** only shows the most **frequent value**, which may not represent the dataset accurately.  \n",
    "\n",
    "4️⃣ **Range** ❌  \n",
    "   - **Range** is a measure of **spread**, not **central tendency**, and is highly affected by outliers."
   ]
  },
  {
   "cell_type": "code",
   "execution_count": null,
   "metadata": {
    "vscode": {
     "languageId": "plaintext"
    }
   },
   "outputs": [],
   "source": []
  },
  {
   "cell_type": "code",
   "execution_count": null,
   "metadata": {
    "vscode": {
     "languageId": "plaintext"
    }
   },
   "outputs": [],
   "source": []
  }
 ],
 "metadata": {
  "language_info": {
   "name": "python"
  }
 },
 "nbformat": 4,
 "nbformat_minor": 2
}
