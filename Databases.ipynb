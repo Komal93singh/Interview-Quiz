{
 "cells": [
  {
   "cell_type": "code",
   "execution_count": null,
   "metadata": {
    "vscode": {
     "languageId": "plaintext"
    }
   },
   "outputs": [],
   "source": []
  },
  {
   "cell_type": "markdown",
   "metadata": {},
   "source": [
    "# DATABASES QUIZ\n",
    "---"
   ]
  },
  {
   "cell_type": "markdown",
   "metadata": {},
   "source": [
    "## Q1. Which of the following is not a function of a database?\n",
    "1. Managing stored data\n",
    "2. Manipulating Data\n",
    "3. Security for stored data\n",
    "4. Analyzing code \n",
    "which is the correct option"
   ]
  },
  {
   "cell_type": "markdown",
   "metadata": {},
   "source": [
    "The correct option is:\n",
    "\n",
    "**4. Analyzing code**\n",
    "\n",
    "### Explanation:\n",
    "\n",
    "A **Database** primarily provides the following functions:\n",
    "\n",
    "1. **Managing stored data** – Yes, this is a core function. Databases store and organize data efficiently.\n",
    "2. **Manipulating data** – Yes, databases allow for inserting, updating, deleting, and querying data.\n",
    "3. **Security for stored data** – Yes, databases offer access control, encryption, and other security measures.\n",
    "4. **Analyzing code** – ❌ **No**, analyzing code is not a function of a database. This is typically done by compilers, interpreters, or development tools, not by databases.\n",
    "\n",
    "👉 **Correct answer: 4. Analyzing code**\n"
   ]
  },
  {
   "cell_type": "code",
   "execution_count": null,
   "metadata": {
    "vscode": {
     "languageId": "plaintext"
    }
   },
   "outputs": [],
   "source": []
  },
  {
   "cell_type": "markdown",
   "metadata": {},
   "source": [
    "## Q2. In PostgreSQL, which function would you use to perform a case-insensitive search within a string column?\n",
    "1. ILIKE\n",
    "2. LIKE\n",
    "3. LOWER()\n",
    "4. UPPER()\n",
    "which is the correct option "
   ]
  },
  {
   "cell_type": "markdown",
   "metadata": {},
   "source": [
    "The correct option is:\n",
    "\n",
    "**1. ILIKE**\n",
    "\n",
    "### Explanation:\n",
    "\n",
    "In **PostgreSQL**, the `ILIKE` operator is used for **case-insensitive pattern matching** using the same syntax as `LIKE`.\n",
    "\n",
    "* `LIKE` → case-sensitive\n",
    "* `ILIKE` → **case-insensitive**\n",
    "\n",
    "Example:\n",
    "\n",
    "```sql\n",
    "SELECT * FROM users WHERE name ILIKE 'john%';\n",
    "```\n",
    "\n",
    "This will match `John`, `JOHN`, `johnny`, etc.\n",
    "\n",
    "👉 **Correct answer: 1. ILIKE**\n"
   ]
  },
  {
   "cell_type": "code",
   "execution_count": null,
   "metadata": {
    "vscode": {
     "languageId": "plaintext"
    }
   },
   "outputs": [],
   "source": []
  },
  {
   "cell_type": "markdown",
   "metadata": {},
   "source": [
    "## Q3. What will be the result of the following SQL query if the 'DATEADD()', function is used as 'DATEADD(MONTH, 3, '2024-01-15')'?\n",
    "1. '2024-04-15'\n",
    "2. '2024-03-15'\n",
    "3. '2024-01-18'\n",
    "4. '2024-01-12'\n",
    "which option is correct"
   ]
  },
  {
   "cell_type": "markdown",
   "metadata": {},
   "source": [
    "The correct option is:\n",
    "\n",
    "**1. '2024-04-15'**\n",
    "\n",
    "### Explanation:\n",
    "\n",
    "The `DATEADD()` function adds a specified **number of date or time units** to a given date.\n",
    "\n",
    "**Syntax:**\n",
    "\n",
    "```sql\n",
    "DATEADD(datepart, number, date)\n",
    "```\n",
    "\n",
    "In your query:\n",
    "\n",
    "```sql\n",
    "DATEADD(MONTH, 3, '2024-01-15')\n",
    "```\n",
    "\n",
    "* `datepart`: MONTH → you're adding months\n",
    "* `number`: 3 → adding 3 months\n",
    "* `date`: '2024-01-15'\n",
    "\n",
    "Adding 3 months to January 15, 2024 results in:\n",
    "\n",
    "👉 **April 15, 2024**\n",
    "\n",
    "### ✅ Correct Answer: **1. '2024-04-15'**\n"
   ]
  },
  {
   "cell_type": "code",
   "execution_count": null,
   "metadata": {
    "vscode": {
     "languageId": "plaintext"
    }
   },
   "outputs": [],
   "source": []
  },
  {
   "cell_type": "markdown",
   "metadata": {},
   "source": [
    "## Q4. Which SQL function can be used to find the rank of each row within a partition of a result set based on a specific column's values?\n",
    "1. ROW_NUMBER()\n",
    "2. RANK()\n",
    "3. DENSE_RANK()\n",
    "4. NTILE()\n",
    "which option is correct"
   ]
  },
  {
   "cell_type": "markdown",
   "metadata": {},
   "source": [
    "The correct option is:\n",
    "\n",
    "**2. RANK()**\n",
    "\n",
    "---\n",
    "\n",
    "### Explanation:\n",
    "\n",
    "The `RANK()` function in SQL is used to assign a **rank to each row within a partition** of a result set based on the values in a specific column. It leaves gaps in ranking when there are ties.\n",
    "\n",
    "#### Example:\n",
    "\n",
    "```sql\n",
    "SELECT name, salary, RANK() OVER (ORDER BY salary DESC) AS rank\n",
    "FROM employees;\n",
    "```\n",
    "\n",
    "If two employees have the same salary, they get the same rank, and the next rank is skipped.\n",
    "\n",
    "---\n",
    "\n",
    "### Summary of options:\n",
    "\n",
    "| Function          | Description                                                       |\n",
    "| ----------------- | ----------------------------------------------------------------- |\n",
    "| **ROW\\_NUMBER()** | Assigns a unique number to each row, no gaps even if values tie   |\n",
    "| **RANK()**        | Assigns rank, **with gaps** if values tie                         |\n",
    "| **DENSE\\_RANK()** | Like `RANK()`, but **no gaps** for ties                           |\n",
    "| **NTILE()**       | Divides result set into **equal-sized buckets** (e.g., quartiles) |\n",
    "\n",
    "---\n",
    "\n",
    "👉 **Correct answer: 2. RANK()**\n"
   ]
  },
  {
   "cell_type": "code",
   "execution_count": null,
   "metadata": {
    "vscode": {
     "languageId": "plaintext"
    }
   },
   "outputs": [],
   "source": []
  },
  {
   "cell_type": "markdown",
   "metadata": {},
   "source": [
    "## Q5. Which MySQL feature allows for the execution of multiple SQL statement as a single unit of work?\n",
    "1. stored procedures\n",
    "2. Views\n",
    "3. Transactions\n",
    "3. Triggers\n",
    "which option is correct"
   ]
  },
  {
   "cell_type": "markdown",
   "metadata": {},
   "source": [
    "The correct option is:\n",
    "\n",
    "**3. Transactions** ✅\n",
    "\n",
    "---\n",
    "\n",
    "### Explanation:\n",
    "\n",
    "In **MySQL**, a **Transaction** is a feature that allows you to execute **multiple SQL statements as a single unit of work**. Either **all statements succeed**, or **none take effect** (rolled back), ensuring **data integrity**.\n",
    "\n",
    "#### Example:\n",
    "\n",
    "```sql\n",
    "START TRANSACTION;\n",
    "UPDATE accounts SET balance = balance - 100 WHERE id = 1;\n",
    "UPDATE accounts SET balance = balance + 100 WHERE id = 2;\n",
    "COMMIT;\n",
    "```\n",
    "\n",
    "If any statement fails, you can use `ROLLBACK` to undo the changes.\n",
    "\n",
    "---\n",
    "\n",
    "### Summary of options:\n",
    "\n",
    "| Option                | Description                                                                                    |\n",
    "| --------------------- | ---------------------------------------------------------------------------------------------- |\n",
    "| **Stored Procedures** | Predefined SQL routines, not necessarily a single unit of work                                 |\n",
    "| **Views**             | Virtual tables, do not handle transactions                                                     |\n",
    "| **Transactions**      | ✅ Used to execute multiple SQL statements atomically                                           |\n",
    "| **Triggers**          | Auto-executed in response to events, not designed for wrapping multiple statements as one unit |\n",
    "\n",
    "---\n",
    "\n",
    "👉 **Correct answer: 3. Transactions**\n"
   ]
  },
  {
   "cell_type": "code",
   "execution_count": null,
   "metadata": {
    "vscode": {
     "languageId": "plaintext"
    }
   },
   "outputs": [],
   "source": []
  },
  {
   "cell_type": "markdown",
   "metadata": {},
   "source": [
    "## Q6. Which of the following is not a valid aggregate function in MySQL?\n",
    "1. SUM()\n",
    "2. AVG()\n",
    "3. MEDIAN()\n",
    "4. COUNT()\n",
    "which option is correct"
   ]
  },
  {
   "cell_type": "markdown",
   "metadata": {},
   "source": [
    "The correct option is:\n",
    "\n",
    "**3. MEDIAN()**\n",
    "\n",
    "---\n",
    "\n",
    "### Explanation:\n",
    "\n",
    "In **MySQL**, the following are **valid aggregate functions**:\n",
    "\n",
    "* **SUM()** – Returns the total sum of a numeric column.\n",
    "* **AVG()** – Returns the average value.\n",
    "* **COUNT()** – Returns the number of rows.\n",
    "\n",
    "However:\n",
    "\n",
    "* **MEDIAN()** ❌ is **not a built-in aggregate function** in MySQL (as of most versions up to MySQL 8.0). To calculate a median, you typically use a **subquery or custom logic**.\n",
    "\n",
    "---\n",
    "\n",
    "### ✅ Correct answer: **3. MEDIAN()**\n"
   ]
  },
  {
   "cell_type": "code",
   "execution_count": null,
   "metadata": {
    "vscode": {
     "languageId": "plaintext"
    }
   },
   "outputs": [],
   "source": []
  },
  {
   "cell_type": "markdown",
   "metadata": {},
   "source": [
    "## Q7. Which of the following is true about the 'JOIN' operations in MySQL?\n",
    "1. CROSS JOIN returns only matching rows from both tables\n",
    "2. LEFT JOIN returns all rows from the left table and only matching rows from the right table\n",
    "3. RIGHT JOIN is identical to an INNER JOIN\n",
    "4. NATURAL JOIN automatically filters results by column names without any explicit condition \n",
    "which option is correct"
   ]
  },
  {
   "cell_type": "markdown",
   "metadata": {},
   "source": [
    "The correct option is:\n",
    "\n",
    "**2. LEFT JOIN returns all rows from the left table and only matching rows from the right table** ✅\n",
    "\n",
    "---\n",
    "\n",
    "### Explanation of Each Option:\n",
    "\n",
    "1. **CROSS JOIN returns only matching rows from both tables** ❌\n",
    "\n",
    "   * **Incorrect**: `CROSS JOIN` returns the **Cartesian product** of two tables — all possible combinations, regardless of matches.\n",
    "\n",
    "2. **LEFT JOIN returns all rows from the left table and only matching rows from the right table** ✅\n",
    "\n",
    "   * **Correct**: This is the definition of a `LEFT JOIN`.\n",
    "\n",
    "3. **RIGHT JOIN is identical to an INNER JOIN** ❌\n",
    "\n",
    "   * **Incorrect**: `RIGHT JOIN` includes all rows from the **right** table and matching rows from the left. `INNER JOIN` only includes rows with matches in **both** tables.\n",
    "\n",
    "4. **NATURAL JOIN automatically filters results by column names without any explicit condition** ❌\n",
    "\n",
    "   * **Partially true**, but misleading. `NATURAL JOIN` uses **columns with the same name** to perform the join automatically, but it’s not generally recommended due to lack of explicit control.\n",
    "\n",
    "---\n",
    "\n",
    "### ✅ Correct Answer: **2. LEFT JOIN returns all rows from the left table and only matching rows from the right table**\n"
   ]
  },
  {
   "cell_type": "code",
   "execution_count": null,
   "metadata": {
    "vscode": {
     "languageId": "plaintext"
    }
   },
   "outputs": [],
   "source": []
  },
  {
   "cell_type": "markdown",
   "metadata": {},
   "source": [
    "## Q8. Which of the following is true about subqueries in MySQL?\n",
    "1. Subqueries cannot be used in the SELECT clause\n",
    "2. Subqueries are executed after the main query\n",
    "3. A subquery can return multiple columns\n",
    "4. Subqueries cannot reference columns from the outer query\n",
    "which option is correct "
   ]
  },
  {
   "cell_type": "markdown",
   "metadata": {},
   "source": [
    "The correct option is:\n",
    "\n",
    "**3. A subquery can return multiple columns** ✅\n",
    "\n",
    "---\n",
    "\n",
    "### Explanation of Each Option:\n",
    "\n",
    "1. **Subqueries cannot be used in the SELECT clause** ❌\n",
    "\n",
    "   * **Incorrect**: Subqueries **can** be used in the `SELECT` clause.\n",
    "     Example:\n",
    "\n",
    "     ```sql\n",
    "     SELECT (SELECT COUNT(*) FROM orders) AS order_count;\n",
    "     ```\n",
    "\n",
    "2. **Subqueries are executed after the main query** ❌\n",
    "\n",
    "   * **Incorrect**: Subqueries are usually executed **before** the main query (especially in `WHERE`, `FROM`, or `SELECT` clauses) to provide intermediate results.\n",
    "\n",
    "3. **A subquery can return multiple columns** ✅\n",
    "\n",
    "   * **Correct**: Subqueries **can** return multiple columns, especially in the `FROM` clause.\n",
    "     Example:\n",
    "\n",
    "     ```sql\n",
    "     SELECT sub.col1, sub.col2\n",
    "     FROM (SELECT col1, col2 FROM table) AS sub;\n",
    "     ```\n",
    "\n",
    "4. **Subqueries cannot reference columns from the outer query** ❌\n",
    "\n",
    "   * **Incorrect**: **Correlated subqueries** can reference columns from the outer query.\n",
    "     Example:\n",
    "\n",
    "     ```sql\n",
    "     SELECT name FROM employees e\n",
    "     WHERE salary > (SELECT AVG(salary) FROM employees WHERE department = e.department);\n",
    "     ```\n",
    "\n",
    "---\n",
    "\n",
    "### ✅ Correct Answer: **3. A subquery can return multiple columns**\n"
   ]
  },
  {
   "cell_type": "code",
   "execution_count": null,
   "metadata": {
    "vscode": {
     "languageId": "plaintext"
    }
   },
   "outputs": [],
   "source": []
  },
  {
   "cell_type": "markdown",
   "metadata": {},
   "source": [
    "## Q9. Which of the following is a function of the DBMS?\n",
    "1. storing data\n",
    "2. Providing multi-user access control\n",
    "3. Data Integrity\n",
    "4. All of the above\n",
    "which option is correct"
   ]
  },
  {
   "cell_type": "markdown",
   "metadata": {},
   "source": [
    "The correct option is:\n",
    "\n",
    "**4. All of the above** ✅\n",
    "\n",
    "---\n",
    "\n",
    "### Explanation:\n",
    "\n",
    "A **DBMS (Database Management System)** provides several key functions, including:\n",
    "\n",
    "1. **Storing data** ✅\n",
    "\n",
    "   * DBMS stores data efficiently in databases on disk.\n",
    "\n",
    "2. **Providing multi-user access control** ✅\n",
    "\n",
    "   * DBMS handles **concurrent access**, ensuring that multiple users can work with the data safely.\n",
    "\n",
    "3. **Data Integrity** ✅\n",
    "\n",
    "   * DBMS enforces rules (constraints, keys, etc.) to ensure **accuracy and consistency** of data.\n",
    "\n",
    "---\n",
    "\n",
    "### ✅ Correct Answer: **4. All of the above**\n"
   ]
  },
  {
   "cell_type": "code",
   "execution_count": null,
   "metadata": {
    "vscode": {
     "languageId": "plaintext"
    }
   },
   "outputs": [],
   "source": []
  },
  {
   "cell_type": "markdown",
   "metadata": {},
   "source": [
    "## Q10. Which of the following is a component of the DBMS?\n",
    "1. Data\n",
    "2. Data Languages\n",
    "3. Data Manager\n",
    "4. All of the above\n",
    "which option is correct"
   ]
  },
  {
   "cell_type": "markdown",
   "metadata": {},
   "source": [
    "The correct option is:\n",
    "\n",
    "**4. All of the above** ✅\n",
    "\n",
    "---\n",
    "\n",
    "### Explanation:\n",
    "\n",
    "A **DBMS (Database Management System)** consists of multiple components that work together to manage data efficiently. These include:\n",
    "\n",
    "1. **Data** ✅\n",
    "\n",
    "   * The actual data stored in the database.\n",
    "\n",
    "2. **Data Languages** ✅\n",
    "\n",
    "   * Languages like **DDL (Data Definition Language)**, **DML (Data Manipulation Language)**, and **DCL (Data Control Language)** used to define, manipulate, and control access to the data.\n",
    "\n",
    "3. **Data Manager** ✅\n",
    "\n",
    "   * The component responsible for managing the data storage, retrieval, and updates, acting as an interface between the database and application programs.\n",
    "\n",
    "---\n",
    "\n",
    "### ✅ Correct Answer: **4. All of the above**\n"
   ]
  },
  {
   "cell_type": "code",
   "execution_count": null,
   "metadata": {
    "vscode": {
     "languageId": "plaintext"
    }
   },
   "outputs": [],
   "source": []
  },
  {
   "cell_type": "markdown",
   "metadata": {},
   "source": [
    "## Q11. Which of the following is known as a set of entities of the same type that share the same properties or attributes?\n",
    "1. Relation set\n",
    "2. Tuples\n",
    "3. Entity set\n",
    "4. Entity-Relation model\n",
    "which option is correct"
   ]
  },
  {
   "cell_type": "markdown",
   "metadata": {},
   "source": [
    "The correct option is:\n",
    "\n",
    "**3. Entity set** ✅\n",
    "\n",
    "---\n",
    "\n",
    "### Explanation:\n",
    "\n",
    "* **Entity Set**: A **collection of similar entities** that have the same attributes.\n",
    "  For example, all students in a school database can form an **entity set** because they share attributes like `name`, `roll_no`, `class`, etc.\n",
    "\n",
    "---\n",
    "\n",
    "### Review of Options:\n",
    "\n",
    "| Option                         | Description                                                                         |\n",
    "| ------------------------------ | ----------------------------------------------------------------------------------- |\n",
    "| **1. Relation set** ❌          | Not a standard term; possibly confused with **relation** (a table in relational DB) |\n",
    "| **2. Tuples** ❌                | A **tuple** is a **single row** in a table (represents one entity)                  |\n",
    "| **3. Entity set** ✅            | Correct: A group of entities with the same attributes                               |\n",
    "| **4. Entity-Relation model** ❌ | It's a **conceptual model** used to define data structures, not a set of entities   |\n",
    "\n",
    "---\n",
    "\n",
    "### ✅ Correct Answer: **3. Entity set**\n"
   ]
  },
  {
   "cell_type": "code",
   "execution_count": null,
   "metadata": {
    "vscode": {
     "languageId": "plaintext"
    }
   },
   "outputs": [],
   "source": []
  },
  {
   "cell_type": "markdown",
   "metadata": {},
   "source": [
    "## Q12. What is information about data called?\n",
    "1. Hyper data\n",
    "2. Tera data\n",
    "3. Metadata\n",
    "4. Relations\n",
    "which option is correct"
   ]
  },
  {
   "cell_type": "markdown",
   "metadata": {},
   "source": [
    "The correct option is:\n",
    "\n",
    "**3. Metadata** ✅\n",
    "\n",
    "---\n",
    "\n",
    "### Explanation:\n",
    "\n",
    "* **Metadata** is **\"data about data\"** — it describes the structure, properties, and meaning of the actual data.\n",
    "\n",
    "#### Examples:\n",
    "\n",
    "* The **column names**, **data types**, and **table structure** in a database.\n",
    "* File size, creation date, and file type in a computer file.\n",
    "\n",
    "---\n",
    "\n",
    "### Review of Options:\n",
    "\n",
    "| Option              | Description                                                                               |\n",
    "| ------------------- | ----------------------------------------------------------------------------------------- |\n",
    "| **1. Hyper data** ❌ | Not a standard term in databases                                                          |\n",
    "| **2. Tera data** ❌  | May refer to large data volumes or a company (Teradata), but not \"information about data\" |\n",
    "| **3. Metadata** ✅   | Correct: information about data                                                           |\n",
    "| **4. Relations** ❌  | Refers to tables in a relational database, not information about data                     |\n",
    "\n",
    "---\n",
    "\n",
    "### ✅ Correct Answer: **3. Metadata**\n"
   ]
  },
  {
   "cell_type": "code",
   "execution_count": null,
   "metadata": {
    "vscode": {
     "languageId": "plaintext"
    }
   },
   "outputs": [],
   "source": []
  },
  {
   "cell_type": "markdown",
   "metadata": {},
   "source": [
    "## Q13. What does an RDBMS consist of?\n",
    "1. Collection of Records\n",
    "2. Collection of Keys\n",
    "3. Collection of Tables\n",
    "4. Collection of Fields\n",
    "which option is correct"
   ]
  },
  {
   "cell_type": "markdown",
   "metadata": {},
   "source": [
    "The correct option is:\n",
    "\n",
    "**3. Collection of Tables** ✅\n",
    "\n",
    "---\n",
    "\n",
    "### Explanation:\n",
    "\n",
    "An **RDBMS (Relational Database Management System)** stores data in the form of **tables** (also called **relations**). Each table consists of:\n",
    "\n",
    "* **Rows** (also called **records** or **tuples**)\n",
    "* **Columns** (also called **fields** or **attributes**)\n",
    "\n",
    "---\n",
    "\n",
    "### Review of Options:\n",
    "\n",
    "| Option                         | Description                                                           |\n",
    "| ------------------------------ | --------------------------------------------------------------------- |\n",
    "| **1. Collection of Records** ❌ | Records are part of tables, but RDBMS is defined by tables as a whole |\n",
    "| **2. Collection of Keys** ❌    | Keys are components of tables, not the main structure                 |\n",
    "| **3. Collection of Tables** ✅  | Correct: RDBMS is based on tables                                     |\n",
    "| **4. Collection of Fields** ❌  | Fields (columns) are part of tables, not standalone collections       |\n",
    "\n",
    "---\n",
    "\n",
    "### ✅ Correct Answer: **3. Collection of Tables**\n"
   ]
  },
  {
   "cell_type": "code",
   "execution_count": null,
   "metadata": {
    "vscode": {
     "languageId": "plaintext"
    }
   },
   "outputs": [],
   "source": []
  },
  {
   "cell_type": "markdown",
   "metadata": {},
   "source": [
    "## Q14. The values appearing in given attributes of any tuples in the referencing relation must likewise occur in specified attributes of at least one tuple in the referenced relation, according to ____________ integrity constraint.\n",
    "1. Referential\n",
    "2. Primary\n",
    "3. Referencing\n",
    "4. Specific\n",
    "which option is corrcet"
   ]
  },
  {
   "cell_type": "markdown",
   "metadata": {},
   "source": [
    "The correct option is:\n",
    "\n",
    "**1. Referential** ✅\n",
    "\n",
    "---\n",
    "\n",
    "### Explanation:\n",
    "\n",
    "**Referential Integrity** ensures that a **foreign key** in one table (the **referencing** table) must match a **primary key** or unique key in another table (the **referenced** table).\n",
    "\n",
    "#### Example:\n",
    "\n",
    "If `Orders.CustomerID` is a foreign key referencing `Customers.ID`, then:\n",
    "\n",
    "* Every `CustomerID` in `Orders` **must exist** in `Customers`.\n",
    "\n",
    "---\n",
    "\n",
    "### Review of Options:\n",
    "\n",
    "| Option               | Description                                   |\n",
    "| -------------------- | --------------------------------------------- |\n",
    "| **1. Referential** ✅ | Correct: Ensures valid foreign key references |\n",
    "| **2. Primary** ❌     | Ensures uniqueness of rows using primary key  |\n",
    "| **3. Referencing** ❌ | Not an integrity constraint type              |\n",
    "| **4. Specific** ❌    | Not a defined integrity constraint            |\n",
    "\n",
    "---\n",
    "\n",
    "### ✅ Correct Answer: **1. Referential**\n"
   ]
  },
  {
   "cell_type": "code",
   "execution_count": null,
   "metadata": {
    "vscode": {
     "languageId": "plaintext"
    }
   },
   "outputs": [],
   "source": []
  },
  {
   "cell_type": "markdown",
   "metadata": {},
   "source": [
    "## Q15. _______________ is a hardware component that is most important for the operation of a database management system.\n",
    "1. Microphone\n",
    "2. High-speed, large-capacity disk to store data\n",
    "3. High-resolution video display\n",
    "4. Printer\n",
    "which option is correct"
   ]
  },
  {
   "cell_type": "markdown",
   "metadata": {},
   "source": [
    "The correct option is:\n",
    "\n",
    "**2. High-speed, large-capacity disk to store data** ✅\n",
    "\n",
    "---\n",
    "\n",
    "### Explanation:\n",
    "\n",
    "A **Database Management System (DBMS)** needs to **store, retrieve, and manage large volumes of data efficiently**. For this, the most critical hardware component is:\n",
    "\n",
    "* A **high-speed, large-capacity disk** — to ensure fast access and storage of database files, logs, indexes, and backups.\n",
    "\n",
    "---\n",
    "\n",
    "### Review of Options:\n",
    "\n",
    "| Option                                   | Description                                        |\n",
    "| ---------------------------------------- | -------------------------------------------------- |\n",
    "| **1. Microphone** ❌                      | Not relevant to database operations                |\n",
    "| **2. High-speed, large-capacity disk** ✅ | **Correct**: essential for data storage and access |\n",
    "| **3. High-resolution video display** ❌   | Helpful for UI but not critical for DBMS operation |\n",
    "| **4. Printer** ❌                         | Not required for database functionality            |\n",
    "\n",
    "---\n",
    "\n",
    "### ✅ Correct Answer: **2. High-speed, large-capacity disk to store data**\n"
   ]
  },
  {
   "cell_type": "code",
   "execution_count": null,
   "metadata": {
    "vscode": {
     "languageId": "plaintext"
    }
   },
   "outputs": [],
   "source": []
  },
  {
   "cell_type": "markdown",
   "metadata": {},
   "source": [
    "## Q16. The DBMS acts as an interface between ____________ and ______________ of an enterprise-class system.\n",
    "1. Data and the DBMS\n",
    "2. Application and SQL\n",
    "3. Database application and the database\n",
    "4. The user and the software \n",
    "which option is correct"
   ]
  },
  {
   "cell_type": "markdown",
   "metadata": {},
   "source": [
    "The correct option is:\n",
    "\n",
    "**3. Database application and the database** ✅\n",
    "\n",
    "---\n",
    "\n",
    "### Explanation:\n",
    "\n",
    "A **DBMS (Database Management System)** serves as a **middleware** that allows **database applications** (like a payroll system, inventory software, or website backend) to interact with the **actual database** where data is stored.\n",
    "\n",
    "It provides:\n",
    "\n",
    "* Data access\n",
    "* Security\n",
    "* Concurrency control\n",
    "* Transaction management\n",
    "\n",
    "---\n",
    "\n",
    "### Review of Options:\n",
    "\n",
    "| Option                                         | Description                                           |\n",
    "| ---------------------------------------------- | ----------------------------------------------------- |\n",
    "| **1. Data and the DBMS** ❌                     | Doesn't make sense — the DBMS manages the data itself |\n",
    "| **2. Application and SQL** ❌                   | SQL is a language, not a separate system              |\n",
    "| **3. Database application and the database** ✅ | **Correct** — DBMS is the bridge between them         |\n",
    "| **4. The user and the software** ❌             | Too vague and not specific to DBMS role               |\n",
    "\n",
    "---\n",
    "\n",
    "### ✅ Correct Answer: **3. Database application and the database**\n"
   ]
  },
  {
   "cell_type": "code",
   "execution_count": null,
   "metadata": {
    "vscode": {
     "languageId": "plaintext"
    }
   },
   "outputs": [],
   "source": []
  },
  {
   "cell_type": "markdown",
   "metadata": {},
   "source": [
    "## Q17. The ability to query data, as well as insert, delete, and alter tuples, is offered by __________\n",
    "1. TCL (Transaction Control Language)\n",
    "2. DCL (Data Control Language)\n",
    "3. DDL (Data Definition Language)\n",
    "4. DML (Data Manipulation Language)\n",
    "Which option is corrcet"
   ]
  },
  {
   "cell_type": "markdown",
   "metadata": {},
   "source": [
    "The correct option is:\n",
    "\n",
    "**4. DML (Data Manipulation Language)** ✅\n",
    "\n",
    "---\n",
    "\n",
    "### Explanation:\n",
    "\n",
    "**DML (Data Manipulation Language)** provides commands to:\n",
    "\n",
    "* **Query** data: `SELECT`\n",
    "* **Insert** data: `INSERT`\n",
    "* **Delete** data: `DELETE`\n",
    "* **Update** data: `UPDATE`\n",
    "\n",
    "These operations affect the data **inside** the tables.\n",
    "\n",
    "---\n",
    "\n",
    "### Review of Options:\n",
    "\n",
    "| Option       | Description                                        |\n",
    "| ------------ | -------------------------------------------------- |\n",
    "| **1. TCL** ❌ | Controls transactions (`COMMIT`, `ROLLBACK`)       |\n",
    "| **2. DCL** ❌ | Manages permissions (`GRANT`, `REVOKE`)            |\n",
    "| **3. DDL** ❌ | Defines structure (`CREATE`, `ALTER`, `DROP`)      |\n",
    "| **4. DML** ✅ | **Correct** — used for querying and modifying data |\n",
    "\n",
    "---\n",
    "\n",
    "### ✅ Correct Answer: **4. DML (Data Manipulation Language)**\n"
   ]
  },
  {
   "cell_type": "code",
   "execution_count": null,
   "metadata": {
    "vscode": {
     "languageId": "plaintext"
    }
   },
   "outputs": [],
   "source": []
  },
  {
   "cell_type": "markdown",
   "metadata": {},
   "source": [
    "## Q18. Which of the following SQL clauses is used to limit the rows returned by a query based on a condition involving an aggregate function?\n",
    "1. WHERE\n",
    "2. HAVING\n",
    "3. GROUP BY\n",
    "4. ORDER BY\n",
    "which option is correct"
   ]
  },
  {
   "cell_type": "markdown",
   "metadata": {},
   "source": [
    "The correct option is:\n",
    "\n",
    "**2. HAVING** ✅\n",
    "\n",
    "---\n",
    "\n",
    "### Explanation:\n",
    "\n",
    "* The **`HAVING`** clause is used to **filter groups** **after** aggregation (like `SUM()`, `COUNT()`, `AVG()`).\n",
    "* It is similar to `WHERE`, but `WHERE` **cannot** be used with aggregate functions.\n",
    "\n",
    "#### Example:\n",
    "\n",
    "```sql\n",
    "SELECT department, COUNT(*) AS employee_count\n",
    "FROM employees\n",
    "GROUP BY department\n",
    "HAVING COUNT(*) > 5;\n",
    "```\n",
    "\n",
    "This returns only those departments that have **more than 5 employees**.\n",
    "\n",
    "---\n",
    "\n",
    "### Review of Options:\n",
    "\n",
    "| Clause         | Purpose                              |\n",
    "| -------------- | ------------------------------------ |\n",
    "| **WHERE** ❌    | Filters **rows before** aggregation  |\n",
    "| **HAVING** ✅   | Filters **groups after** aggregation |\n",
    "| **GROUP BY** ❌ | Groups rows based on column values   |\n",
    "| **ORDER BY** ❌ | Sorts the result set                 |\n",
    "\n",
    "---\n",
    "\n",
    "### ✅ Correct Answer: **2. HAVING**\n"
   ]
  },
  {
   "cell_type": "code",
   "execution_count": null,
   "metadata": {
    "vscode": {
     "languageId": "plaintext"
    }
   },
   "outputs": [],
   "source": []
  },
  {
   "cell_type": "markdown",
   "metadata": {},
   "source": [
    "## Q19. What does the 'EXPLAIN' statement do in MySQL?\n",
    "1. It explains errors in SQL syntax\n",
    "2. It shows how MySQL executes a SELECT query\n",
    "3. It displays the data type of a column\n",
    "4. It rolls back the last transaction\n",
    "which option is correct"
   ]
  },
  {
   "cell_type": "markdown",
   "metadata": {},
   "source": [
    "The correct option is:\n",
    "\n",
    "**2. It shows how MySQL executes a SELECT query** ✅\n",
    "\n",
    "---\n",
    "\n",
    "### Explanation:\n",
    "\n",
    "The **`EXPLAIN`** statement in MySQL is used to **analyze and understand the execution plan** of a `SELECT` query. It helps you see how MySQL:\n",
    "\n",
    "* Accesses tables\n",
    "* Uses indexes\n",
    "* Joins tables\n",
    "* Scans rows\n",
    "  This is very useful for **query optimization**.\n",
    "\n",
    "#### Example:\n",
    "\n",
    "```sql\n",
    "EXPLAIN SELECT * FROM employees WHERE department_id = 5;\n",
    "```\n",
    "\n",
    "---\n",
    "\n",
    "### Review of Options:\n",
    "\n",
    "| Option                                              | Description                                                               |\n",
    "| --------------------------------------------------- | ------------------------------------------------------------------------- |\n",
    "| **1. It explains errors in SQL syntax** ❌           | Syntax errors are shown when the query fails to execute, not by `EXPLAIN` |\n",
    "| **2. It shows how MySQL executes a SELECT query** ✅ | **Correct**                                                               |\n",
    "| **3. It displays the data type of a column** ❌      | Use `DESCRIBE` or `SHOW COLUMNS` for that                                 |\n",
    "| **4. It rolls back the last transaction** ❌         | Use `ROLLBACK` to undo a transaction                                      |\n",
    "\n",
    "---\n",
    "\n",
    "### ✅ Correct Answer: **2. It shows how MySQL executes a SELECT query**\n"
   ]
  },
  {
   "cell_type": "code",
   "execution_count": null,
   "metadata": {
    "vscode": {
     "languageId": "plaintext"
    }
   },
   "outputs": [],
   "source": []
  },
  {
   "cell_type": "markdown",
   "metadata": {},
   "source": [
    "## Q20. In MySQL, which of the following is true about using indexes?\n",
    "1. Indexes always speed up INSERT operations.\n",
    "2. Indexes are automatically created for foreign keys.\n",
    "3. Indexes cannot be created on text coulmns.\n",
    "4. Indexes are used to enforce unique constraints only\n",
    "which option is correct"
   ]
  },
  {
   "cell_type": "markdown",
   "metadata": {},
   "source": [
    "The correct option is:\n",
    "\n",
    "**2. Indexes are automatically created for foreign keys** ✅\n",
    "\n",
    "---\n",
    "\n",
    "### Explanation:\n",
    "\n",
    "In **MySQL**, when you create a **foreign key**, an **index is automatically created** on the referencing column (if it doesn’t already exist) to improve lookup performance and ensure referential integrity.\n",
    "\n",
    "---\n",
    "\n",
    "### Review of Options:\n",
    "\n",
    "| Option                                                       | Description                                                                                                                                          |\n",
    "| ------------------------------------------------------------ | ---------------------------------------------------------------------------------------------------------------------------------------------------- |\n",
    "| **1. Indexes always speed up INSERT operations** ❌           | **Incorrect** — Indexes can actually **slow down** `INSERT`, `UPDATE`, and `DELETE` operations because the index must also be updated.               |\n",
    "| **2. Indexes are automatically created for foreign keys** ✅  | **Correct** — MySQL creates indexes for foreign keys automatically if not already present.                                                           |\n",
    "| **3. Indexes cannot be created on text columns** ❌           | **Incorrect** — You **can** create indexes on text columns, though in some storage engines like InnoDB, you may need to specify a **prefix length**. |\n",
    "| **4. Indexes are used to enforce unique constraints only** ❌ | **Incorrect** — While unique constraints use indexes, indexes are also used for performance (e.g., speeding up SELECT queries).                      |\n",
    "\n",
    "---\n",
    "\n",
    "### ✅ Correct Answer: **2. Indexes are automatically created for foreign keys**\n"
   ]
  },
  {
   "cell_type": "code",
   "execution_count": null,
   "metadata": {
    "vscode": {
     "languageId": "plaintext"
    }
   },
   "outputs": [],
   "source": []
  },
  {
   "cell_type": "markdown",
   "metadata": {},
   "source": [
    "## Q21. Which storage engine in MySQL supports transactions?\n",
    "1. MyISAM\n",
    "2. MEMORY\n",
    "3. InnoDB\n",
    "4. CSV\n",
    "which option is correct"
   ]
  },
  {
   "cell_type": "markdown",
   "metadata": {},
   "source": [
    "The correct option is:\n",
    "\n",
    "**3. InnoDB** ✅\n",
    "\n",
    "---\n",
    "\n",
    "### Explanation:\n",
    "\n",
    "**InnoDB** is the **default and most powerful storage engine** in MySQL. It supports:\n",
    "\n",
    "* **Transactions**\n",
    "* **Foreign key constraints**\n",
    "* **Row-level locking**\n",
    "* **Crash recovery**\n",
    "\n",
    "These features make it suitable for high-reliability and multi-user environments.\n",
    "\n",
    "---\n",
    "\n",
    "### Review of Options:\n",
    "\n",
    "| Option          | Supports Transactions? | Notes                                                |\n",
    "| --------------- | ---------------------- | ---------------------------------------------------- |\n",
    "| **1. MyISAM** ❌ | No                     | Fast for read-heavy tasks but no transaction support |\n",
    "| **2. MEMORY** ❌ | No                     | Stores data in RAM, used for temporary data          |\n",
    "| **3. InnoDB** ✅ | Yes                    | **Correct** — Full ACID compliance                   |\n",
    "| **4. CSV** ❌    | No                     | Stores data in CSV format, no transactions           |\n",
    "\n",
    "---\n",
    "\n",
    "### ✅ Correct Answer: **3. InnoDB**\n"
   ]
  },
  {
   "cell_type": "code",
   "execution_count": null,
   "metadata": {
    "vscode": {
     "languageId": "plaintext"
    }
   },
   "outputs": [],
   "source": []
  },
  {
   "cell_type": "markdown",
   "metadata": {},
   "source": [
    "## Q22. What is the purpose of the 'AUTO_INCREMENT' attribute in MySQL?\n",
    "1. To create a unique index on a column\n",
    "2. To automatically fill in a column with the current date and time\n",
    "3. To automatically generate unique values for a primary key column\n",
    "4. To enforce a foreign key constraint\n",
    "whic option is correct"
   ]
  },
  {
   "cell_type": "markdown",
   "metadata": {},
   "source": [
    "The correct option is:\n",
    "\n",
    "**3. To automatically generate unique values for a primary key column** ✅\n",
    "\n",
    "---\n",
    "\n",
    "### Explanation:\n",
    "\n",
    "The **`AUTO_INCREMENT`** attribute in MySQL is used to:\n",
    "\n",
    "* Automatically **generate a unique, sequential number** whenever a new row is inserted.\n",
    "* Commonly used for **primary key** columns like `id`.\n",
    "\n",
    "#### Example:\n",
    "\n",
    "```sql\n",
    "CREATE TABLE users (\n",
    "  id INT AUTO_INCREMENT PRIMARY KEY,\n",
    "  name VARCHAR(100)\n",
    ");\n",
    "```\n",
    "\n",
    "Every new row will get a unique `id` automatically.\n",
    "\n",
    "---\n",
    "\n",
    "### Review of Options:\n",
    "\n",
    "| Option                                             | Description                     |\n",
    "| -------------------------------------------------- | ------------------------------- |\n",
    "| **1. To create a unique index** ❌                  | Use `UNIQUE` for that           |\n",
    "| **2. To fill with date/time** ❌                    | Use `DEFAULT CURRENT_TIMESTAMP` |\n",
    "| **3. To generate unique values for primary key** ✅ | **Correct**                     |\n",
    "| **4. To enforce foreign key constraint** ❌         | Use `FOREIGN KEY` for that      |\n",
    "\n",
    "---\n",
    "\n",
    "### ✅ Correct Answer: **3. To automatically generate unique values for a primary key column**\n"
   ]
  },
  {
   "cell_type": "code",
   "execution_count": null,
   "metadata": {
    "vscode": {
     "languageId": "plaintext"
    }
   },
   "outputs": [],
   "source": []
  },
  {
   "cell_type": "markdown",
   "metadata": {},
   "source": [
    "## Q23. Which of the following statements is true about MySQL replication?\n",
    "1. It only supports master-slave replication.\n",
    "2. Replication requires the use of foreign key constraints\n",
    "3. Changes made on the master are automatically reflected on the slave\n",
    "4. Replication in MySQL does not support filtering of data.\n",
    "which option is correct"
   ]
  },
  {
   "cell_type": "markdown",
   "metadata": {},
   "source": [
    "The correct option is:\n",
    "\n",
    "**3. Changes made on the master are automatically reflected on the slave** ✅\n",
    "\n",
    "---\n",
    "\n",
    "### Explanation:\n",
    "\n",
    "In **MySQL replication**, the **master** (now often called the **source**) sends data changes to one or more **slaves** (or **replicas**) to keep them synchronized.\n",
    "\n",
    "* **Replication** allows for load balancing, backup, and failover.\n",
    "* Changes made on the **master** (INSERT, UPDATE, DELETE) are **automatically applied** to the **slave(s)**.\n",
    "\n",
    "---\n",
    "\n",
    "### Review of Options:\n",
    "\n",
    "| Option                                                                       | Description                                                                                                                    |\n",
    "| ---------------------------------------------------------------------------- | ------------------------------------------------------------------------------------------------------------------------------ |\n",
    "| **1. It only supports master-slave replication** ❌                           | Incorrect — MySQL supports **multi-source** and **group replication** (multi-primary).                                         |\n",
    "| **2. Replication requires the use of foreign key constraints** ❌             | Incorrect — Replication does **not** require foreign keys.                                                                     |\n",
    "| **3. Changes made on the master are automatically reflected on the slave** ✅ | **Correct** — This is the core function of replication.                                                                        |\n",
    "| **4. Replication in MySQL does not support filtering of data** ❌             | Incorrect — MySQL **does** support replication filtering using options like `--replicate-do-db` or `--replicate-ignore-table`. |\n",
    "\n",
    "---\n",
    "\n",
    "### ✅ Correct Answer: **3. Changes made on the master are automatically reflected on the slave**\n"
   ]
  },
  {
   "cell_type": "code",
   "execution_count": null,
   "metadata": {
    "vscode": {
     "languageId": "plaintext"
    }
   },
   "outputs": [],
   "source": []
  },
  {
   "cell_type": "markdown",
   "metadata": {},
   "source": [
    "## Q24. In MySQL, what does the 'BINARY' operator do when used in a query?\n",
    "1. It converts the result to binary format\n",
    "2. It performs bitwise operations on columns\n",
    "3. It forces a case-sensitive comparison\n",
    "4. It creates a binary log of queries.\n",
    "which option is correct"
   ]
  },
  {
   "cell_type": "markdown",
   "metadata": {},
   "source": [
    "The correct option is:\n",
    "\n",
    "**3. It forces a case-sensitive comparison** ✅\n",
    "\n",
    "---\n",
    "\n",
    "### Explanation:\n",
    "\n",
    "In **MySQL**, the **`BINARY`** operator is used to force a **case-sensitive comparison** between strings. Normally, string comparisons are **case-insensitive** depending on the collation of the column. Using `BINARY` overrides that.\n",
    "\n",
    "#### Example:\n",
    "\n",
    "```sql\n",
    "SELECT 'abc' = 'ABC';        -- Returns 1 (true) if collation is case-insensitive\n",
    "SELECT BINARY 'abc' = 'ABC'; -- Returns 0 (false) because it's case-sensitive\n",
    "```\n",
    "\n",
    "---\n",
    "\n",
    "### Review of Options:\n",
    "\n",
    "| Option                                      | Description                                                       |         |\n",
    "| ------------------------------------------- | ----------------------------------------------------------------- | ------- |\n",
    "| **1. Converts result to binary format** ❌   | No, it forces case-sensitivity, not format change                 |         |\n",
    "| **2. Performs bitwise operations** ❌        | Bitwise operations use operators like `&`, \\`                     | `, `^\\` |\n",
    "| **3. Forces a case-sensitive comparison** ✅ | **Correct**                                                       |         |\n",
    "| **4. Creates a binary log of queries** ❌    | Binary logs are enabled via server settings, not `BINARY` keyword |         |\n",
    "\n",
    "---\n",
    "\n",
    "### ✅ Correct Answer: **3. It forces a case-sensitive comparison**\n"
   ]
  },
  {
   "cell_type": "code",
   "execution_count": null,
   "metadata": {
    "vscode": {
     "languageId": "plaintext"
    }
   },
   "outputs": [],
   "source": []
  },
  {
   "cell_type": "markdown",
   "metadata": {},
   "source": [
    "## Q25. What does the 'CHAR_LENGTH()' function return in MySQL?\n",
    "1. The number of bytes used by a string\n",
    "2. The number of characters in a string\n",
    "3. The length of a string in bits\n",
    "4. The number of words in a string\n",
    "which option is correct"
   ]
  },
  {
   "cell_type": "markdown",
   "metadata": {},
   "source": [
    "The correct option is:\n",
    "\n",
    "**2. The number of characters in a string** ✅\n",
    "\n",
    "---\n",
    "\n",
    "### Explanation:\n",
    "\n",
    "In **MySQL**, the **`CHAR_LENGTH()`** function returns the **number of characters** (not bytes) in a string.\n",
    "\n",
    "This is especially important for **multi-byte character sets** (like UTF-8), where the number of **bytes** and **characters** can differ.\n",
    "\n",
    "#### Example:\n",
    "\n",
    "```sql\n",
    "SELECT CHAR_LENGTH('hello');       -- Returns 5\n",
    "SELECT CHAR_LENGTH('नमस्ते');     -- Returns 6 (6 characters)\n",
    "```\n",
    "\n",
    "---\n",
    "\n",
    "### Comparison:\n",
    "\n",
    "| Function        | Returns                                  |\n",
    "| --------------- | ---------------------------------------- |\n",
    "| `CHAR_LENGTH()` | ✅ Number of **characters** in the string |\n",
    "| `LENGTH()`      | Number of **bytes** in the string        |\n",
    "\n",
    "---\n",
    "\n",
    "### Review of Options:\n",
    "\n",
    "| Option                        | Description                                       |\n",
    "| ----------------------------- | ------------------------------------------------- |\n",
    "| **1. Bytes used** ❌           | That's `LENGTH()`                                 |\n",
    "| **2. Characters in string** ✅ | **Correct**                                       |\n",
    "| **3. Length in bits** ❌       | Not applicable                                    |\n",
    "| **4. Number of words** ❌      | MySQL has no built-in function for counting words |\n",
    "\n",
    "---\n",
    "\n",
    "### ✅ Correct Answer: **2. The number of characters in a string**\n"
   ]
  },
  {
   "cell_type": "code",
   "execution_count": null,
   "metadata": {
    "vscode": {
     "languageId": "plaintext"
    }
   },
   "outputs": [],
   "source": []
  },
  {
   "cell_type": "markdown",
   "metadata": {},
   "source": [
    "## Q26. What does the 'UNION' operator do in MySQL?\n",
    "1. Combines rows from two or more queries and removes duplicates\n",
    "2. Combines rows from two or more queries without removing duplicates\n",
    "3. Combines columns from two or more tables\n",
    "4. Combines rows from two or more tables with a JOIN operation \n",
    "which option is correct"
   ]
  },
  {
   "cell_type": "markdown",
   "metadata": {},
   "source": [
    "The correct option is:\n",
    "\n",
    "**1. Combines rows from two or more queries and removes duplicates** ✅\n",
    "\n",
    "---\n",
    "\n",
    "### Explanation:\n",
    "\n",
    "The **`UNION`** operator in MySQL:\n",
    "\n",
    "* **Combines the result sets** of two or more `SELECT` queries\n",
    "* **Removes duplicate rows** from the final result\n",
    "\n",
    "To **retain duplicates**, you can use `UNION ALL`.\n",
    "\n",
    "#### Example:\n",
    "\n",
    "```sql\n",
    "SELECT city FROM customers\n",
    "UNION\n",
    "SELECT city FROM suppliers;\n",
    "```\n",
    "\n",
    "This will return a **distinct list of cities** from both tables.\n",
    "\n",
    "---\n",
    "\n",
    "### Review of Options:\n",
    "\n",
    "| Option                                                                 | Description                                                        |\n",
    "| ---------------------------------------------------------------------- | ------------------------------------------------------------------ |\n",
    "| **1. Combines rows from two or more queries and removes duplicates** ✅ | **Correct**                                                        |\n",
    "| **2. Combines rows without removing duplicates** ❌                     | That’s `UNION ALL`                                                 |\n",
    "| **3. Combines columns from tables** ❌                                  | That would involve `JOIN` or selecting multiple columns in a query |\n",
    "| **4. Combines rows using JOIN** ❌                                      | `JOIN` is for combining **related rows** based on conditions       |\n",
    "\n",
    "---\n",
    "\n",
    "### ✅ Correct Answer: **1. Combines rows from two or more queries and removes duplicates**\n"
   ]
  },
  {
   "cell_type": "code",
   "execution_count": null,
   "metadata": {
    "vscode": {
     "languageId": "plaintext"
    }
   },
   "outputs": [],
   "source": []
  },
  {
   "cell_type": "markdown",
   "metadata": {},
   "source": [
    "## Q27. Which of the following SQL modes is used in MYSQL to enforce strict data integrity rules?\n",
    "1.NO_AUTO_VALUE_ON_ZERO\n",
    "2. STRICT_TRANS_TABLES\n",
    "3. ONLY_FULL_GROUP_BY\n",
    "4. ANSI_QUOTES\n",
    "which option is correct"
   ]
  },
  {
   "cell_type": "markdown",
   "metadata": {},
   "source": [
    "The correct option is:\n",
    "\n",
    "**2. STRICT\\_TRANS\\_TABLES** ✅\n",
    "\n",
    "---\n",
    "\n",
    "### Explanation:\n",
    "\n",
    "In **MySQL**, the **`STRICT_TRANS_TABLES`** SQL mode is used to **enforce strict data integrity rules** for transactional tables.\n",
    "\n",
    "When enabled:\n",
    "\n",
    "* Invalid or missing values during `INSERT` or `UPDATE` operations cause **errors**, instead of being adjusted or ignored.\n",
    "* Helps catch **bad data early** and maintain **data accuracy**.\n",
    "\n",
    "---\n",
    "\n",
    "### Review of Options:\n",
    "\n",
    "| Option                             | Description                                                                               |\n",
    "| ---------------------------------- | ----------------------------------------------------------------------------------------- |\n",
    "| **1. NO\\_AUTO\\_VALUE\\_ON\\_ZERO** ❌ | Allows zero to be inserted into `AUTO_INCREMENT` columns without auto-incrementing        |\n",
    "| **2. STRICT\\_TRANS\\_TABLES** ✅     | **Correct** — Enforces strict data integrity rules                                        |\n",
    "| **3. ONLY\\_FULL\\_GROUP\\_BY** ❌     | Requires `GROUP BY` queries to list all selected columns that are not aggregated          |\n",
    "| **4. ANSI\\_QUOTES** ❌              | Treats double quotes (`\"`) as identifier quotes (like backticks), not for string literals |\n",
    "\n",
    "---\n",
    "\n",
    "### ✅ Correct Answer: **2. STRICT\\_TRANS\\_TABLES**\n"
   ]
  },
  {
   "cell_type": "code",
   "execution_count": null,
   "metadata": {
    "vscode": {
     "languageId": "plaintext"
    }
   },
   "outputs": [],
   "source": []
  },
  {
   "cell_type": "markdown",
   "metadata": {},
   "source": [
    "## Q28. What is the purpose of the 'SHOW GRANTS' command in MySQL?\n",
    "1. To display the privileges of the current user\n",
    "2. To display the tables in a database\n",
    "3. To show the indexes of a table\n",
    "4. To list all databases on the server\n",
    "which option is correct"
   ]
  },
  {
   "cell_type": "markdown",
   "metadata": {},
   "source": [
    "The correct option is:\n",
    "\n",
    "**1. To display the privileges of the current user** ✅\n",
    "\n",
    "---\n",
    "\n",
    "### Explanation:\n",
    "\n",
    "The **`SHOW GRANTS`** command in MySQL is used to:\n",
    "\n",
    "* Display the **privileges and permissions** granted to a user.\n",
    "* Help database administrators review **user access rights**.\n",
    "\n",
    "#### Example:\n",
    "\n",
    "```sql\n",
    "SHOW GRANTS FOR 'username'@'host';\n",
    "```\n",
    "\n",
    "If no user is specified, it shows the grants for the **current session user**.\n",
    "\n",
    "---\n",
    "\n",
    "### Review of Options:\n",
    "\n",
    "| Option                                                 | Description                      |\n",
    "| ------------------------------------------------------ | -------------------------------- |\n",
    "| **1. To display the privileges of the current user** ✅ | **Correct**                      |\n",
    "| **2. To display the tables in a database** ❌           | Use `SHOW TABLES`                |\n",
    "| **3. To show the indexes of a table** ❌                | Use `SHOW INDEX FROM table_name` |\n",
    "| **4. To list all databases on the server** ❌           | Use `SHOW DATABASES`             |\n",
    "\n",
    "---\n",
    "\n",
    "### ✅ Correct Answer: **1. To display the privileges of the current user**\n"
   ]
  },
  {
   "cell_type": "code",
   "execution_count": null,
   "metadata": {
    "vscode": {
     "languageId": "plaintext"
    }
   },
   "outputs": [],
   "source": []
  },
  {
   "cell_type": "markdown",
   "metadata": {},
   "source": [
    "## Q29. In SQL Server, which function would you use to convert a data to a string format with a custom pattern?\n",
    "1. CONVERT()\n",
    "2. FORMAT()\n",
    "3. TO_CHAR()\n",
    "4. CAST()\n",
    "which option is correct"
   ]
  },
  {
   "cell_type": "markdown",
   "metadata": {},
   "source": [
    "The correct option is:\n",
    "\n",
    "**2. FORMAT()** ✅\n",
    "\n",
    "---\n",
    "\n",
    "### Explanation:\n",
    "\n",
    "In **SQL Server**, the **`FORMAT()`** function is used to **convert a value (like a date or number) to a string** using a **custom format pattern**.\n",
    "\n",
    "#### Example:\n",
    "\n",
    "```sql\n",
    "SELECT FORMAT(GETDATE(), 'yyyy-MM-dd');   -- Returns: 2025-06-16\n",
    "SELECT FORMAT(1234567.89, 'N2');          -- Returns: 1,234,567.89\n",
    "```\n",
    "\n",
    "---\n",
    "\n",
    "### Review of Options:\n",
    "\n",
    "| Option              | Description                                                         |\n",
    "| ------------------- | ------------------------------------------------------------------- |\n",
    "| **1. CONVERT()** ❌  | Used for data type conversion but with limited formatting for dates |\n",
    "| **2. FORMAT()** ✅   | **Correct** — used for converting to string with custom formats     |\n",
    "| **3. TO\\_CHAR()** ❌ | Used in **Oracle**, not SQL Server                                  |\n",
    "| **4. CAST()** ❌     | Converts between data types but doesn’t support custom formatting   |\n",
    "\n",
    "---\n",
    "\n",
    "### ✅ Correct Answer: **2. FORMAT()**\n"
   ]
  },
  {
   "cell_type": "code",
   "execution_count": null,
   "metadata": {
    "vscode": {
     "languageId": "plaintext"
    }
   },
   "outputs": [],
   "source": []
  },
  {
   "cell_type": "markdown",
   "metadata": {},
   "source": [
    "## Q30. What is the purpose of the 'LEAD()' function in SQL?\n",
    "1. To access the value of a row that precedes the current row by a specified number of rows\n",
    "2. To compute the cumulative sum up to the current row\n",
    "3. To access the values of rows that follows the current row by a specified number of rows\n",
    "4. To rank rows within a partition\n",
    "which option is correct"
   ]
  },
  {
   "cell_type": "markdown",
   "metadata": {},
   "source": [
    "The correct option is:\n",
    "\n",
    "**3. To access the values of rows that follow the current row by a specified number of rows** ✅\n",
    "\n",
    "---\n",
    "\n",
    "### Explanation:\n",
    "\n",
    "The **`LEAD()`** function in SQL is a **window function** used to:\n",
    "\n",
    "* Access **data from the next row(s)** within the result set.\n",
    "* It’s useful for comparing a value in the current row with a future row.\n",
    "\n",
    "#### Example:\n",
    "\n",
    "```sql\n",
    "SELECT \n",
    "  employee_id, \n",
    "  salary,\n",
    "  LEAD(salary, 1) OVER (ORDER BY employee_id) AS next_salary\n",
    "FROM employees;\n",
    "```\n",
    "\n",
    "This will return the salary of the **next** employee for each row.\n",
    "\n",
    "---\n",
    "\n",
    "### Review of Options:\n",
    "\n",
    "| Option                          | Description                                      |\n",
    "| ------------------------------- | ------------------------------------------------ |\n",
    "| **1. Access preceding row** ❌   | That's `LAG()`                                   |\n",
    "| **2. Compute cumulative sum** ❌ | That’s done using `SUM(...) OVER (ORDER BY ...)` |\n",
    "| **3. Access next row value** ✅  | **Correct** — `LEAD()`                           |\n",
    "| **4. Rank rows** ❌              | Use `RANK()` or `DENSE_RANK()`                   |\n",
    "\n",
    "---\n",
    "\n",
    "### ✅ Correct Answer: **3. To access the values of rows that follow the current row by a specified number of rows**\n"
   ]
  },
  {
   "cell_type": "code",
   "execution_count": null,
   "metadata": {
    "vscode": {
     "languageId": "plaintext"
    }
   },
   "outputs": [],
   "source": []
  },
  {
   "cell_type": "code",
   "execution_count": null,
   "metadata": {
    "vscode": {
     "languageId": "plaintext"
    }
   },
   "outputs": [],
   "source": []
  },
  {
   "cell_type": "code",
   "execution_count": null,
   "metadata": {
    "vscode": {
     "languageId": "plaintext"
    }
   },
   "outputs": [],
   "source": []
  },
  {
   "cell_type": "code",
   "execution_count": null,
   "metadata": {
    "vscode": {
     "languageId": "plaintext"
    }
   },
   "outputs": [],
   "source": []
  },
  {
   "cell_type": "code",
   "execution_count": null,
   "metadata": {
    "vscode": {
     "languageId": "plaintext"
    }
   },
   "outputs": [],
   "source": []
  }
 ],
 "metadata": {
  "language_info": {
   "name": "python"
  }
 },
 "nbformat": 4,
 "nbformat_minor": 2
}
