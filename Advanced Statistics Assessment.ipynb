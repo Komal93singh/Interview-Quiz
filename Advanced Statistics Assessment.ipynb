{
 "cells": [
  {
   "cell_type": "markdown",
   "metadata": {},
   "source": [
    "# Quiz : Advanced Statistics Assessment"
   ]
  },
  {
   "cell_type": "markdown",
   "metadata": {},
   "source": [
    "## Q1. What is the p-value in hypothesis testing?\n",
    "1. The probability of accepting the null hypothesis.\n",
    "2. The probability of rejecting the null hypothesis when it is true.\n",
    "3. The probability of observing a test statistic as extreme as, or more extreme than, the one observed.\n",
    "4. The significance level of the test."
   ]
  },
  {
   "cell_type": "markdown",
   "metadata": {},
   "source": [
    "The correct answer is:  \n",
    "**3. The probability of observing a test statistic as extreme as, or more extreme than, the one observed.**  \n",
    "\n",
    "### Explanation of each option:  \n",
    "1. ❌ **Incorrect** – The p-value does not represent the probability of accepting the null hypothesis; hypothesis tests do not \"accept\" but rather \"fail to reject\" the null.  \n",
    "2. ✅ **Correct** – The p-value measures how extreme the observed result is under the null hypothesis, helping determine if the null should be rejected.  \n",
    "3. ✅ **Correct (Best Choice)** – The p-value quantifies the probability of getting a test statistic as extreme as the observed one, assuming the null is true.  \n",
    "4. ❌ **Incorrect** – The significance level (α) is a threshold set before testing, while the p-value is computed from the data."
   ]
  },
  {
   "cell_type": "code",
   "execution_count": null,
   "metadata": {
    "vscode": {
     "languageId": "plaintext"
    }
   },
   "outputs": [],
   "source": []
  },
  {
   "cell_type": "markdown",
   "metadata": {},
   "source": [
    "## Q2. Which statistical test is appropriate for comparing the medians of two independent samples?\n",
    "1. Wilcoxon Rank-Sum Test\n",
    "2. One-Sample T-Test\n",
    "3. Two-Sample T-Test\n",
    "4. Z-Test"
   ]
  },
  {
   "cell_type": "markdown",
   "metadata": {},
   "source": [
    "The correct answer is:  \n",
    "**1. Wilcoxon Rank-Sum Test**  \n",
    "\n",
    "### Explanation of each option:  \n",
    "1. ✅ **Correct** – The **Wilcoxon Rank-Sum Test (Mann-Whitney U Test)** is a non-parametric test used to compare the medians of two independent samples when data is not normally distributed.  \n",
    "2. ❌ **Incorrect** – The **One-Sample T-Test** compares the mean of a single sample to a known population mean, not two independent samples.  \n",
    "3. ❌ **Incorrect** – The **Two-Sample T-Test** compares means, not medians, and assumes normality.  \n",
    "4. ❌ **Incorrect** – The **Z-Test** is used for comparing means when sample sizes are large and population variance is known."
   ]
  },
  {
   "cell_type": "code",
   "execution_count": null,
   "metadata": {
    "vscode": {
     "languageId": "plaintext"
    }
   },
   "outputs": [],
   "source": []
  },
  {
   "cell_type": "markdown",
   "metadata": {},
   "source": [
    "## Q3. Which of the following statistical tests is used to test the relationship between two continuous variables?\n",
    "1. Pearson Correlation\n",
    "2. Chi-Square Test\n",
    "3. ANOVA\n",
    "4. Mann-Whitney U Test"
   ]
  },
  {
   "cell_type": "markdown",
   "metadata": {},
   "source": [
    "The correct answer is:  \n",
    "**1. Pearson Correlation**  \n",
    "\n",
    "### Explanation of each option:  \n",
    "1. ✅ **Correct** – **Pearson Correlation** measures the strength and direction of the linear relationship between two continuous variables.  \n",
    "2. ❌ **Incorrect** – **Chi-Square Test** is used for categorical data, not continuous variables.  \n",
    "3. ❌ **Incorrect** – **ANOVA** compares means across multiple groups, not relationships between continuous variables.  \n",
    "4. ❌ **Incorrect** – **Mann-Whitney U Test** compares medians of two independent groups, not relationships between variables."
   ]
  },
  {
   "cell_type": "code",
   "execution_count": null,
   "metadata": {
    "vscode": {
     "languageId": "plaintext"
    }
   },
   "outputs": [],
   "source": []
  },
  {
   "cell_type": "markdown",
   "metadata": {},
   "source": [
    "## Q4. Which type of error occurs when you fail to reject the null hypothesis when it is actually false?\n",
    "1. Type I Error\n",
    "2. Type II Error\n",
    "3. Type III Error\n",
    "4. Type IV Error"
   ]
  },
  {
   "cell_type": "markdown",
   "metadata": {},
   "source": [
    "The correct answer is:  \n",
    "**2. Type II Error**  \n",
    "\n",
    "### Explanation of each option:  \n",
    "1. ❌ **Incorrect** – **Type I Error** occurs when you reject a true null hypothesis (false positive).  \n",
    "2. ✅ **Correct** – **Type II Error** occurs when you fail to reject a false null hypothesis (false negative).  \n",
    "3. ❌ **Incorrect** – **Type III Error** refers to correctly rejecting the null but misinterpreting the result.  \n",
    "4. ❌ **Incorrect** – **Type IV Error** is not a standard statistical term."
   ]
  },
  {
   "cell_type": "code",
   "execution_count": null,
   "metadata": {
    "vscode": {
     "languageId": "plaintext"
    }
   },
   "outputs": [],
   "source": []
  },
  {
   "cell_type": "markdown",
   "metadata": {},
   "source": [
    "## Q5. Which test would you use if you want to test the mean of a single sample against a known population mean?\n",
    "1. Z-Test\n",
    "2. Two-Sample T-Test\n",
    "3. Paired-Sample T-Test\n",
    "4. Chi-Square Test"
   ]
  },
  {
   "cell_type": "markdown",
   "metadata": {},
   "source": [
    "The correct answer is:  \n",
    "**1. Z-Test** (if population variance is known & large sample) **or** **One-Sample T-Test** (if variance is unknown & small sample).  \n",
    "\n",
    "### Explanation of each option:  \n",
    "1. ✅ **Correct** – **Z-Test** is used to compare a single sample mean to a known population mean when the population variance is known and \\( n > 30 \\).  \n",
    "2. ❌ **Incorrect** – **Two-Sample T-Test** compares the means of two independent samples, not one sample against a population mean.  \n",
    "3. ❌ **Incorrect** – **Paired-Sample T-Test** is used for dependent samples (before-after studies).  \n",
    "4. ❌ **Incorrect** – **Chi-Square Test** is used for categorical data, not mean comparison."
   ]
  },
  {
   "cell_type": "code",
   "execution_count": null,
   "metadata": {
    "vscode": {
     "languageId": "plaintext"
    }
   },
   "outputs": [],
   "source": []
  },
  {
   "cell_type": "markdown",
   "metadata": {},
   "source": [
    "## Q6. Which of the following is true if the p-value is less than the significance level (Alpha)?\n",
    "1. Accept the null hypothesis\n",
    "2. Reject the null hypothesis\n",
    "3. Accept the alternative hypothesis\n",
    "4. Fail to reject the null hypothesis"
   ]
  },
  {
   "cell_type": "markdown",
   "metadata": {},
   "source": [
    "The correct answer is:  \n",
    "**2. Reject the null hypothesis**  \n",
    "\n",
    "### Explanation of each option:  \n",
    "1. ❌ **Incorrect** – We never \"accept\" the null hypothesis in hypothesis testing; we either reject it or fail to reject it.  \n",
    "2. ✅ **Correct** – If **p-value < α**, we have enough evidence to **reject** the null hypothesis.  \n",
    "3. ❌ **Incorrect** – We do not \"accept\" the alternative hypothesis; we only reject or fail to reject the null.  \n",
    "4. ❌ **Incorrect** – \"Fail to reject\" occurs when **p-value > α**, meaning insufficient evidence against the null."
   ]
  },
  {
   "cell_type": "code",
   "execution_count": null,
   "metadata": {
    "vscode": {
     "languageId": "plaintext"
    }
   },
   "outputs": [],
   "source": []
  },
  {
   "cell_type": "markdown",
   "metadata": {},
   "source": [
    "## Q7. In hypothesis testing, what is th enull hypothesis (H0)?\n",
    "1. The hypothesis that is assumed to be true\n",
    "2. The hypothesis that is being tested\n",
    "3. The hypothesis that there is an effect or difference\n",
    "4. The hypothesis that the sample mean equals the population mean"
   ]
  },
  {
   "cell_type": "markdown",
   "metadata": {},
   "source": [
    "The correct answer is:  \n",
    "**1. The hypothesis that is assumed to be true**  \n",
    "\n",
    "### Explanation of each option:  \n",
    "1. ✅ **Correct** – The **null hypothesis (H₀)** represents the default assumption, which we test against.  \n",
    "2. ❌ **Incorrect** – While H₀ is tested, this definition is too vague; alternative hypotheses (H₁) are also tested.  \n",
    "3. ❌ **Incorrect** – H₀ assumes **no effect or no difference**; the alternative hypothesis (H₁) states there is an effect.  \n",
    "4. ❌ **Incorrect** – This is a specific case of H₀ in mean comparisons but does not define H₀ in general."
   ]
  },
  {
   "cell_type": "code",
   "execution_count": null,
   "metadata": {
    "vscode": {
     "languageId": "plaintext"
    }
   },
   "outputs": [],
   "source": []
  },
  {
   "cell_type": "markdown",
   "metadata": {},
   "source": [
    "## Q8. What is the primary purpose of conducting an ANOVA?\n",
    "1. To test for differences in variances between groups\n",
    "2. To test for differences in means between two or more groups\n",
    "3. To estimate the population mean\n",
    "4. To test for correlation between variables "
   ]
  },
  {
   "cell_type": "markdown",
   "metadata": {},
   "source": [
    "The correct answer is:  \n",
    "**2. To test for differences in means between two or more groups**  \n",
    "\n",
    "### Explanation of each option:  \n",
    "1. ❌ **Incorrect** – ANOVA tests for mean differences, not variance differences (use Levene’s test for variance).  \n",
    "2. ✅ **Correct** – ANOVA determines if there is a statistically significant difference in **means** among **two or more groups**.  \n",
    "3. ❌ **Incorrect** – Estimating the population mean is done using confidence intervals or a t-test, not ANOVA.  \n",
    "4. ❌ **Incorrect** – ANOVA does not test for correlation; **Pearson correlation** is used for that."
   ]
  },
  {
   "cell_type": "code",
   "execution_count": null,
   "metadata": {
    "vscode": {
     "languageId": "plaintext"
    }
   },
   "outputs": [],
   "source": []
  },
  {
   "cell_type": "markdown",
   "metadata": {},
   "source": [
    "## Q9. In a one-way ANOVA, what does a significant F-statistic indicate?\n",
    "1. All group means are equal\n",
    "2. At least one group mean is different from the others\n",
    "3. The variances within groups are equal\n",
    "4. The sample size is sufficient"
   ]
  },
  {
   "cell_type": "markdown",
   "metadata": {},
   "source": [
    "The correct answer is:  \n",
    "**2. At least one group mean is different from the others**  \n",
    "\n",
    "### Explanation of each option:  \n",
    "1. ❌ **Incorrect** – A significant F-statistic suggests that **not all** group means are equal.  \n",
    "2. ✅ **Correct** – ANOVA tests if there is a significant difference **among at least one** group mean.  \n",
    "3. ❌ **Incorrect** – ANOVA assumes equal variances (homoscedasticity), but a significant F does not confirm this.  \n",
    "4. ❌ **Incorrect** – A significant F does not indicate sufficient sample size; **power analysis** is used for that."
   ]
  },
  {
   "cell_type": "code",
   "execution_count": null,
   "metadata": {
    "vscode": {
     "languageId": "plaintext"
    }
   },
   "outputs": [],
   "source": []
  },
  {
   "cell_type": "markdown",
   "metadata": {},
   "source": [
    "## Q10. Which of the following assumptions is NOT required for ANOVA?\n",
    "1. Independence of observations\n",
    "2. Normality of residuals\n",
    "3. Homogeneity of variances\n",
    "4. Equal sample sizes in all groups"
   ]
  },
  {
   "cell_type": "markdown",
   "metadata": {},
   "source": [
    "The correct answer is:  \n",
    "**4. Equal sample sizes in all groups**  \n",
    "\n",
    "### Explanation of each option:  \n",
    "1. ✅ **Required** – **Independence of observations** is a key assumption for ANOVA to ensure valid results.  \n",
    "2. ✅ **Required** – **Normality of residuals** is assumed, especially for small sample sizes, to ensure valid p-values.  \n",
    "3. ✅ **Required** – **Homogeneity of variances** (equal variances) is needed; tested using Levene’s test.  \n",
    "4. ❌ **Not Required** – **Equal sample sizes** are not mandatory, though they improve power and robustness."
   ]
  },
  {
   "cell_type": "code",
   "execution_count": null,
   "metadata": {
    "vscode": {
     "languageId": "plaintext"
    }
   },
   "outputs": [],
   "source": []
  },
  {
   "cell_type": "markdown",
   "metadata": {},
   "source": [
    "## Q11. The chi-square test is commonly used to test. . . \n",
    "1. DIfference in means between two groups\n",
    "2. The association between two categorical variables\n",
    "3. The equality of variances\n",
    "4. The relationship between a dependent and independent variable"
   ]
  },
  {
   "cell_type": "markdown",
   "metadata": {},
   "source": [
    "The correct answer is:  \n",
    "**2. The association between two categorical variables**  \n",
    "\n",
    "### Explanation of each option:  \n",
    "1. ❌ **Incorrect** – A **t-test** or **ANOVA** is used to test differences in means, not the chi-square test.  \n",
    "2. ✅ **Correct** – The **chi-square test** is used to test whether there is an association or independence between two categorical variables.  \n",
    "3. ❌ **Incorrect** – **Levene’s test** or other variance tests are used to check equality of variances, not the chi-square test.  \n",
    "4. ❌ **Incorrect** – The chi-square test is not used for relationships between dependent and independent variables; **regression analysis** is used for that."
   ]
  },
  {
   "cell_type": "code",
   "execution_count": null,
   "metadata": {
    "vscode": {
     "languageId": "plaintext"
    }
   },
   "outputs": [],
   "source": []
  },
  {
   "cell_type": "markdown",
   "metadata": {},
   "source": [
    "## Q12. Which of the following is a characteristic of the Chi-square distribution?\n",
    "1. It is symmetric around the mesn\n",
    "2. It is used for continuous data\n",
    "3. It is skewed to the right\n",
    "4. It has a mean of 0 and standard deviation of 1"
   ]
  },
  {
   "cell_type": "markdown",
   "metadata": {},
   "source": [
    "The correct answer is:  \n",
    "**3. It is skewed to the right**  \n",
    "\n",
    "### Explanation of each option:  \n",
    "1. ❌ **Incorrect** – The **Chi-square distribution** is **not symmetric**; it is skewed, especially for smaller degrees of freedom.  \n",
    "2. ❌ **Incorrect** – The Chi-square test is used for **categorical data**, not continuous data.  \n",
    "3. ✅ **Correct** – The **Chi-square distribution** is **right-skewed**, especially with low degrees of freedom.  \n",
    "4. ❌ **Incorrect** – The Chi-square distribution has a **mean of k (degrees of freedom)** and a **variance of 2k**, not 0 and 1."
   ]
  },
  {
   "cell_type": "code",
   "execution_count": null,
   "metadata": {
    "vscode": {
     "languageId": "plaintext"
    }
   },
   "outputs": [],
   "source": []
  },
  {
   "cell_type": "markdown",
   "metadata": {},
   "source": [
    "## Q13. In a chi-square test, the expected frequencies are calculated under the assumption that. . . \n",
    "1. The variables are independent\n",
    "2. The variables are dependent\n",
    "3. The observed frequencies are equal\n",
    "4. The observed frequencies follow a normal distribution"
   ]
  },
  {
   "cell_type": "markdown",
   "metadata": {},
   "source": [
    "The correct answer is:  \n",
    "**1. The variables are independent**  \n",
    "\n",
    "### Explanation of each option:  \n",
    "1. ✅ **Correct** – The **expected frequencies** are calculated based on the assumption that the **variables are independent**.  \n",
    "2. ❌ **Incorrect** – The assumption of **dependence** is tested, not assumed, in a chi-square test.  \n",
    "3. ❌ **Incorrect** – The chi-square test does not assume **equal observed frequencies**; it tests the differences between observed and expected frequencies.  \n",
    "4. ❌ **Incorrect** – The chi-square test does not require the observed frequencies to follow a normal distribution; it is based on categorical data."
   ]
  },
  {
   "cell_type": "code",
   "execution_count": null,
   "metadata": {
    "vscode": {
     "languageId": "plaintext"
    }
   },
   "outputs": [],
   "source": []
  },
  {
   "cell_type": "markdown",
   "metadata": {},
   "source": [
    "## Q14. What does the Central Limit Theorem state about the sampling distribution of the sample mean?\n",
    "1. It becomes skewed as the sample size increases.\n",
    "2. It becomes normally distributed as the sample size increases.\n",
    "3. It remains unchanged regardless of sample size.\n",
    "4. It becomes uniform as the sample size increases."
   ]
  },
  {
   "cell_type": "markdown",
   "metadata": {},
   "source": [
    "The correct answer is:  \n",
    "**2. It becomes normally distributed as the sample size increases.**  \n",
    "\n",
    "### Explanation of each option:  \n",
    "1. ❌ **Incorrect** – The sampling distribution of the sample mean **becomes less skewed** as sample size increases.  \n",
    "2. ✅ **Correct** – The **Central Limit Theorem** states that the sampling distribution of the sample mean approaches a **normal distribution** as the sample size increases, regardless of the population distribution.  \n",
    "3. ❌ **Incorrect** – The sampling distribution changes as the sample size increases, especially in terms of normality.  \n",
    "4. ❌ **Incorrect** – The sampling distribution does not become **uniform**; it becomes normal with increasing sample size."
   ]
  },
  {
   "cell_type": "code",
   "execution_count": null,
   "metadata": {
    "vscode": {
     "languageId": "plaintext"
    }
   },
   "outputs": [],
   "source": []
  },
  {
   "cell_type": "markdown",
   "metadata": {},
   "source": [
    "## Q15. What is the purpose of a hypothesis test?\n",
    "1. To calculate the sample mean.\n",
    "2. To determine if a sample is representative of the population.\n",
    "3. To test a claim or hypothesis about a population parameter.\n",
    "4. To estimate the population variance."
   ]
  },
  {
   "cell_type": "markdown",
   "metadata": {},
   "source": [
    "The correct answer is:  \n",
    "**3. To test a claim or hypothesis about a population parameter.**  \n",
    "\n",
    "### Explanation of each option:  \n",
    "1. ❌ **Incorrect** – The **sample mean** is simply calculated, not the purpose of a hypothesis test.  \n",
    "2. ❌ **Incorrect** – Hypothesis tests do not directly test representativeness; they test claims about population parameters.  \n",
    "3. ✅ **Correct** – The purpose of a **hypothesis test** is to assess evidence regarding a **claim** about a population parameter (e.g., mean, proportion).  \n",
    "4. ❌ **Incorrect** – Estimating population variance is done using **confidence intervals**, not through a hypothesis test."
   ]
  },
  {
   "cell_type": "code",
   "execution_count": null,
   "metadata": {
    "vscode": {
     "languageId": "plaintext"
    }
   },
   "outputs": [],
   "source": []
  },
  {
   "cell_type": "markdown",
   "metadata": {},
   "source": [
    "## Q16. A p-value of 0.03 with a significance level of 0.05 indicates that:\n",
    "1. The null hypothesis should be rejected.\n",
    "2. The null hypothesis should not be rejected\n",
    "3. The sample mean is equal to the population mean.\n",
    "4. The test is inconclusive."
   ]
  },
  {
   "cell_type": "markdown",
   "metadata": {},
   "source": [
    "The correct answer is:  \n",
    "**1. The null hypothesis should be rejected.**  \n",
    "\n",
    "### Explanation of each option:  \n",
    "1. ✅ **Correct** – A **p-value of 0.03** is less than the **significance level of 0.05**, so we reject the null hypothesis.  \n",
    "2. ❌ **Incorrect** – The null hypothesis should be **rejected** if the p-value is less than the significance level.  \n",
    "3. ❌ **Incorrect** – A p-value doesn't directly indicate the sample mean's equality with the population mean; it tests the null hypothesis.  \n",
    "4. ❌ **Incorrect** – The test is **conclusive** because the p-value is less than the significance level, leading to rejection of the null hypothesis."
   ]
  },
  {
   "cell_type": "code",
   "execution_count": null,
   "metadata": {
    "vscode": {
     "languageId": "plaintext"
    }
   },
   "outputs": [],
   "source": []
  },
  {
   "cell_type": "markdown",
   "metadata": {},
   "source": [
    "## Q17. Which type of error occurs when you reject the null hypothesis when it is actually true?\n",
    "1. Type I Error\n",
    "2. Type II Error\n",
    "3. Type III Error\n",
    "4. Type IV Error"
   ]
  },
  {
   "cell_type": "markdown",
   "metadata": {},
   "source": [
    "The correct answer is:  \n",
    "**1. Type I Error**  \n",
    "\n",
    "### Explanation of each option:  \n",
    "1. ✅ **Correct** – **Type I Error** occurs when you **reject the null hypothesis** even though it is true (false positive).  \n",
    "2. ❌ **Incorrect** – **Type II Error** occurs when you **fail to reject** the null hypothesis when it is actually false (false negative).  \n",
    "3. ❌ **Incorrect** – **Type III Error** refers to correctly rejecting the null but misinterpreting the result.  \n",
    "4. ❌ **Incorrect** – **Type IV Error** is not a recognized term in hypothesis testing."
   ]
  },
  {
   "cell_type": "code",
   "execution_count": null,
   "metadata": {
    "vscode": {
     "languageId": "plaintext"
    }
   },
   "outputs": [],
   "source": []
  },
  {
   "cell_type": "markdown",
   "metadata": {},
   "source": [
    "## Q18. In a confidence interval calculation, what does the margin of error depend on?\n",
    "1. Sample size and population variance\n",
    "2. Sample mean and sample standard deviation\n",
    "3. Critical value and standard error\n",
    "4. Population mean and sample variance"
   ]
  },
  {
   "cell_type": "markdown",
   "metadata": {},
   "source": [
    "The correct answer is:  \n",
    "**3. Critical value and standard error**  \n",
    "\n",
    "### Explanation of each option:  \n",
    "1. ❌ **Incorrect** – The **sample size** and **population variance** affect the **standard error**, but not directly the margin of error itself.  \n",
    "2. ❌ **Incorrect** – **Sample mean** and **standard deviation** influence the confidence interval but are not the sole factors for the margin of error.  \n",
    "3. ✅ **Correct** – The **margin of error** depends on the **critical value** (from the confidence level) and the **standard error** (which involves sample size and standard deviation).  \n",
    "4. ❌ **Incorrect** – The **population mean** is not part of the margin of error calculation, and **sample variance** influences the standard error, not directly the margin."
   ]
  },
  {
   "cell_type": "code",
   "execution_count": null,
   "metadata": {
    "vscode": {
     "languageId": "plaintext"
    }
   },
   "outputs": [],
   "source": []
  },
  {
   "cell_type": "markdown",
   "metadata": {},
   "source": [
    "## Q19. Which statistical test would you use to compare the means of two independent groups?\n",
    "1. Paired-Sample T-Test\n",
    "2. One-Sample T-Test\n",
    "3. Two-Sample T-Test\n",
    "4. Z-Test"
   ]
  },
  {
   "cell_type": "markdown",
   "metadata": {},
   "source": [
    "The correct answer is:  \n",
    "**3. Two-Sample T-Test**  \n",
    "\n",
    "### Explanation of each option:  \n",
    "1. ❌ **Incorrect** – **Paired-Sample T-Test** compares the means of two **related** groups (e.g., before and after).  \n",
    "2. ❌ **Incorrect** – **One-Sample T-Test** compares the mean of a **single sample** to a known population mean.  \n",
    "3. ✅ **Correct** – **Two-Sample T-Test** compares the means of two **independent** groups to see if they are significantly different.  \n",
    "4. ❌ **Incorrect** – **Z-Test** is typically used for large sample sizes and known population variance, not for comparing two independent groups with unknown variances."
   ]
  },
  {
   "cell_type": "code",
   "execution_count": null,
   "metadata": {
    "vscode": {
     "languageId": "plaintext"
    }
   },
   "outputs": [],
   "source": []
  },
  {
   "cell_type": "markdown",
   "metadata": {},
   "source": [
    "## Q20. The Chi-square test for independence determines:\n",
    "1. Whether a sample mean is significantly different from a population mean.\n",
    "2. The association between two categorical variables.\n",
    "3. The distribution of a single categorical variable.\n",
    "4. The variance of a sample."
   ]
  },
  {
   "cell_type": "markdown",
   "metadata": {},
   "source": [
    "The correct answer is:  \n",
    "**2. The association between two categorical variables.**  \n",
    "\n",
    "### Explanation of each option:  \n",
    "1. ❌ **Incorrect** – A **t-test** or **ANOVA** is used to test if a sample mean is different from a population mean, not the chi-square test.  \n",
    "2. ✅ **Correct** – The **Chi-square test for independence** is used to test if two categorical variables are **independent** or if there is an **association** between them.  \n",
    "3. ❌ **Incorrect** – The **Chi-square goodness-of-fit test** is used to test the distribution of a **single categorical variable**, not the test for independence.  \n",
    "4. ❌ **Incorrect** – The **Chi-square test** does not assess **variance**; other tests like the **F-test** or **Levene's test** are used for variance."
   ]
  },
  {
   "cell_type": "code",
   "execution_count": null,
   "metadata": {
    "vscode": {
     "languageId": "plaintext"
    }
   },
   "outputs": [],
   "source": []
  },
  {
   "cell_type": "markdown",
   "metadata": {},
   "source": [
    "## Q21. What is the purpose of ANOVA (Analysis of Variance)?\n",
    "1. To test the association between two categorical variables.\n",
    "2. To determine if there are significant differences between the means of three or more groups.\n",
    "3. To calculate the variance of a single sample.\n",
    "4. To estimate the population proportion."
   ]
  },
  {
   "cell_type": "markdown",
   "metadata": {},
   "source": [
    "The correct answer is:  \n",
    "**2. To determine if there are significant differences between the means of three or more groups.**  \n",
    "\n",
    "### Explanation of each option:  \n",
    "1. ❌ **Incorrect** – **Chi-square test** is used to test the association between categorical variables, not ANOVA.  \n",
    "2. ✅ **Correct** – **ANOVA** is used to test if there are significant differences in the **means** of three or more groups.  \n",
    "3. ❌ **Incorrect** – **Variance calculation** for a single sample is done using standard deviation, not ANOVA.  \n",
    "4. ❌ **Incorrect** – **Population proportion estimation** is done using a **proportion test**, not ANOVA."
   ]
  },
  {
   "cell_type": "code",
   "execution_count": null,
   "metadata": {
    "vscode": {
     "languageId": "plaintext"
    }
   },
   "outputs": [],
   "source": []
  },
  {
   "cell_type": "markdown",
   "metadata": {},
   "source": [
    "## Q22. Which of the following is NOT an assumption of the one-way ANOVA test?\n",
    "1. Independence of observations\n",
    "2. Homogeneity of variances\n",
    "3. Normally distributed response variable\n",
    "4. Equal sample sizes"
   ]
  },
  {
   "cell_type": "markdown",
   "metadata": {},
   "source": [
    "The correct answer is:  \n",
    "**4. Equal sample sizes**  \n",
    "\n",
    "### Explanation of each option:  \n",
    "1. ✅ **Required** – **Independence of observations** is a key assumption for ANOVA, ensuring that each observation is independent.  \n",
    "2. ✅ **Required** – **Homogeneity of variances** (equal variances) is assumed across groups in ANOVA.  \n",
    "3. ✅ **Required** – **Normality** of the response variable is assumed, especially for small sample sizes, for accurate p-values.  \n",
    "4. ❌ **Not Required** – **Equal sample sizes** are not mandatory for ANOVA, though they improve robustness and power."
   ]
  },
  {
   "cell_type": "code",
   "execution_count": null,
   "metadata": {
    "vscode": {
     "languageId": "plaintext"
    }
   },
   "outputs": [],
   "source": []
  },
  {
   "cell_type": "markdown",
   "metadata": {},
   "source": [
    "## Q23. What is the significance level (alpha) typically used in hypothesis testing?\n",
    "1. 0.01\n",
    "2. 0.05\n",
    "3. 0.10\n",
    "4. 0.15"
   ]
  },
  {
   "cell_type": "markdown",
   "metadata": {},
   "source": [
    "The correct answer is:  \n",
    "**2. 0.05**  \n",
    "\n",
    "### Explanation of each option:  \n",
    "1. ❌ **Incorrect** – **0.01** is a more stringent significance level, used in situations requiring stronger evidence.  \n",
    "2. ✅ **Correct** – **0.05** is the most commonly used significance level in hypothesis testing, representing a 5% risk of Type I error.  \n",
    "3. ❌ **Incorrect** – **0.10** is less common but sometimes used in less rigorous testing.  \n",
    "4. ❌ **Incorrect** – **0.15** is not a standard significance level used in hypothesis testing."
   ]
  },
  {
   "cell_type": "code",
   "execution_count": null,
   "metadata": {
    "vscode": {
     "languageId": "plaintext"
    }
   },
   "outputs": [],
   "source": []
  },
  {
   "cell_type": "markdown",
   "metadata": {},
   "source": [
    "## Q24. What does a p-value represent in hypothesis tesing?\n",
    "1. The probability of rejecting the null hypothesis when it is true\n",
    "2. The probability of obtaining a result at least as extreme as the one observed, assuming the null hypothesis is true\n",
    "3. The probability of the null hypothesis being true\n",
    "4. The probability of the alternative hypothesis being true"
   ]
  },
  {
   "cell_type": "markdown",
   "metadata": {},
   "source": [
    "The correct answer is:  \n",
    "**2. The probability of obtaining a result at least as extreme as the one observed, assuming the null hypothesis is true**  \n",
    "\n",
    "### Explanation of each option:  \n",
    "1. ❌ **Incorrect** – This describes a **Type I error**, not the p-value.  \n",
    "2. ✅ **Correct** – The **p-value** tells us the probability of observing a result as extreme or more extreme than the observed data, **assuming the null hypothesis is true**.  \n",
    "3. ❌ **Incorrect** – The p-value does not provide the probability of the **null hypothesis** being true.  \n",
    "4. ❌ **Incorrect** – The p-value does not give the probability of the **alternative hypothesis** being true."
   ]
  },
  {
   "cell_type": "code",
   "execution_count": null,
   "metadata": {
    "vscode": {
     "languageId": "plaintext"
    }
   },
   "outputs": [],
   "source": []
  },
  {
   "cell_type": "code",
   "execution_count": null,
   "metadata": {
    "vscode": {
     "languageId": "plaintext"
    }
   },
   "outputs": [],
   "source": []
  }
 ],
 "metadata": {
  "language_info": {
   "name": "python"
  }
 },
 "nbformat": 4,
 "nbformat_minor": 2
}
