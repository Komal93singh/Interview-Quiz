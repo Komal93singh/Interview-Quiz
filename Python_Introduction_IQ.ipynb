{
 "cells": [
  {
   "cell_type": "markdown",
   "metadata": {},
   "source": [
    "# Python Introduction Question"
   ]
  },
  {
   "cell_type": "markdown",
   "metadata": {},
   "source": [
    "## Q1. Which of the following methods is used to sort a list in Python in-place?\n",
    "1. sorted()\n",
    "2. sort()\n",
    "3. reverse()\n",
    "4. order()"
   ]
  },
  {
   "cell_type": "markdown",
   "metadata": {},
   "source": [
    "The correct answer is:  **2. `sort()`**  \n",
    "\n",
    "### Explanation:  \n",
    "`sort()` sorts a list **in-place**, modifying the original list and returning `None`.  \n",
    "\n",
    "- `sorted()` returns a **new sorted list** without modifying the original.  \n",
    "- `reverse()` only **reverses** the list, not sorting it.  \n",
    "- `order()` **does not exist** in Python."
   ]
  },
  {
   "cell_type": "code",
   "execution_count": null,
   "metadata": {
    "vscode": {
     "languageId": "plaintext"
    }
   },
   "outputs": [],
   "source": []
  },
  {
   "cell_type": "markdown",
   "metadata": {},
   "source": [
    "## Q2. Which will be the result of the following code?\n",
    "a = (1,2,3)\n",
    "b = (4,5)\n",
    "c = a+b\n",
    "d = c*2\n",
    "\n",
    "1. (1, 2, 3, 4, 5, 1, 2, 3, 4, 5)\n",
    "2. (1, 2, 3, 4, 5, 1, 2, 3, 4, 5, 1, 2, 3, 4, 5)\n",
    "3. (1, 2, 3, 4, 5, 4, 5, 1, 2, 3, 4, 5)\n",
    "4. (1, 2, 3, 4, 5, 1, 2, 3, 4, 5, 4, 5)"
   ]
  },
  {
   "cell_type": "markdown",
   "metadata": {},
   "source": [
    "Let's analyze the code step by step:\n",
    "\n",
    "```\n",
    "a = (1,2,3)   # Tuple (1, 2, 3)\n",
    "b = (4,5)     # Tuple (4, 5)\n",
    "c = a + b     # Tuple concatenation: (1, 2, 3, 4, 5)\n",
    "d = c * 2     # Tuple repetition: (1, 2, 3, 4, 5, 1, 2, 3, 4, 5)\n",
    "print(d)\n",
    "```\n",
    "\n",
    "### **Output:**\n",
    "\n",
    "**1. (1, 2, 3, 4, 5, 1, 2, 3, 4, 5)**\n",
    "\n",
    "### **Explanation:**\n",
    "1. `a + b` concatenates `(1, 2, 3)` and `(4, 5)`, resulting in `(1, 2, 3, 4, 5)`.\n",
    "2. `c * 2` repeats the tuple twice, giving `(1, 2, 3, 4, 5, 1, 2, 3, 4, 5)`."
   ]
  },
  {
   "cell_type": "code",
   "execution_count": null,
   "metadata": {
    "vscode": {
     "languageId": "plaintext"
    }
   },
   "outputs": [],
   "source": []
  },
  {
   "cell_type": "markdown",
   "metadata": {},
   "source": [
    "## Q3. What will be the output of the following list comprehension?\n",
    "squares = [x**2 for x in range(1, 6) if x % 2 == 0]\n",
    "\n",
    "1. [1,4,9,16,25]\n",
    "2. [4,16]\n",
    "3. [1,9,25]\n",
    "4. [4,9,16,25]"
   ]
  },
  {
   "cell_type": "markdown",
   "metadata": {},
   "source": [
    "Let's analyze the list comprehension step by step:  \n",
    "\n",
    "```\n",
    "squares = [x**2 for x in range(1, 6) if x % 2 == 0]\n",
    "print(squares)\n",
    "```\n",
    "\n",
    "### **Explanation:**\n",
    "1. `range(1, 6)` generates numbers: **1, 2, 3, 4, 5**.\n",
    "2. `if x % 2 == 0` filters only **even** numbers: **2, 4**.\n",
    "3. `x**2` squares each selected number:  \n",
    "   - \\( 2^2 = 4 \\)  \n",
    "   - \\( 4^2 = 16 \\)  \n",
    "\n",
    "### **Output:**\n",
    "**2. [4, 16]**\n"
   ]
  },
  {
   "cell_type": "code",
   "execution_count": null,
   "metadata": {
    "vscode": {
     "languageId": "plaintext"
    }
   },
   "outputs": [],
   "source": []
  },
  {
   "cell_type": "markdown",
   "metadata": {},
   "source": [
    "## Q4. What will be the output of the following code?\n",
    "set1 = {1, 2, 3, 4}\n",
    "set2 = {3, 4, 5, 6}\n",
    "result = set1.union(set2).difference(set1.intersection(set2))\n",
    "print(result)\n",
    "\n",
    "1. {1,2,5,6}\n",
    "2. {1,2,3,4,5,6}\n"
   ]
  },
  {
   "cell_type": "markdown",
   "metadata": {},
   "source": [
    "Let's analyze the given code step by step:  \n",
    "\n",
    "```\n",
    "set1 = {1, 2, 3, 4}\n",
    "set2 = {3, 4, 5, 6}\n",
    "\n",
    "result = set1.union(set2).difference(set1.intersection(set2))\n",
    "\n",
    "print(result)\n",
    "```\n",
    "\n",
    "### **Step-by-Step Execution:**\n",
    "\n",
    "1. **Find `set1.union(set2)`:**  \n",
    "   ```python\n",
    "   set1 ∪ set2 = {1, 2, 3, 4, 5, 6}\n",
    "   ```\n",
    "\n",
    "2. **Find `set1.intersection(set2)`:**  \n",
    "   ```python\n",
    "   set1 ∩ set2 = {3, 4}\n",
    "   ```\n",
    "\n",
    "3. **Find `difference()` (elements in the union but not in the intersection):**  \n",
    "   ```python\n",
    "   {1, 2, 3, 4, 5, 6} - {3, 4} = {1, 2, 5, 6}\n",
    "   ```\n",
    "\n",
    "### **Output:**\n",
    "**1. {1, 2, 5, 6}**"
   ]
  },
  {
   "cell_type": "code",
   "execution_count": null,
   "metadata": {
    "vscode": {
     "languageId": "plaintext"
    }
   },
   "outputs": [],
   "source": []
  },
  {
   "cell_type": "markdown",
   "metadata": {},
   "source": [
    "## Q5. Given the following code, what will be the value  of my_list?\n",
    "my_list = [10, 20, 30]\n",
    "my_list.insert(1, [40, 50])\n",
    "my_list.extend([60, 70])\n",
    "\n",
    "1. [10,[40,50],20,30,60,70]\n",
    "2. [10,[40,50],20,30,60,70]\n",
    "3. [10,40,50,20,30,60,70]\n",
    "4. [10,20,30,[40,50],60,70]\n"
   ]
  },
  {
   "cell_type": "markdown",
   "metadata": {},
   "source": [
    "Let's analyze the given code step by step:  \n",
    "\n",
    "```\n",
    "my_list = [10, 20, 30]  # Initial list\n",
    "```\n",
    "\n",
    "### **Step 1: `insert(1, [40, 50])`**\n",
    "```python\n",
    "my_list.insert(1, [40, 50])\n",
    "```\n",
    "- **`insert(index, value)`** inserts `value` at the given `index` without replacing existing elements.\n",
    "- Inserts `[40, 50]` at index `1`.  \n",
    "- **New list:**\n",
    "  ```python\n",
    "  [10, [40, 50], 20, 30]\n",
    "  ```\n",
    "\n",
    "### **Step 2: `extend([60, 70])`**\n",
    "```python\n",
    "my_list.extend([60, 70])\n",
    "```\n",
    "- **`extend(iterable)`** adds each element of `iterable` to the end of the list.\n",
    "- Extends with `60, 70`.\n",
    "- **Final list:**\n",
    "  ```python\n",
    "  [10, [40, 50], 20, 30, 60, 70]\n",
    "  ```\n",
    "\n",
    "### **Final Output:**\n",
    "**1. [10, [40, 50], 20, 30, 60, 70]**\n"
   ]
  },
  {
   "cell_type": "code",
   "execution_count": null,
   "metadata": {
    "vscode": {
     "languageId": "plaintext"
    }
   },
   "outputs": [],
   "source": []
  },
  {
   "cell_type": "markdown",
   "metadata": {},
   "source": [
    "## Q6. What will be the result of the following list comprehension?\n",
    "result = [[i, j] for i in range(3) for j in range(2) if i != j]\n",
    "print(result)\n",
    "\n",
    "1. [[0,0],[0,1],[1,0],[1,1],[2,0],[2,1]]\n",
    "2. [[0,1],[1,0],[2,0],[2,1]]\n",
    "3. [[0,1],[1,0],[1,1],[2,0],[2,1]]\n",
    "4. [[0,1],[1,0],[2,0],[2,1],[2,2]]"
   ]
  },
  {
   "cell_type": "markdown",
   "metadata": {},
   "source": [
    "When i is 0, j can be 1, so [0, 1] is included.\n",
    "When i is 1, j can be 0, so [1, 0] is included.\n",
    "When i is 2, j can be 0 or 1, so [2, 0] and [2, 1] are included.\n",
    "The result is 2. [[0, 1], [1, 0], [2, 0], [2, 1]].\n",
    "\n",
    "Let's analyze the list comprehension step by step:\n",
    "\n",
    "```python\n",
    "result = [[i, j] for i in range(3) for j in range(2) if i != j]\n",
    "print(result)\n",
    "```\n",
    "\n",
    "### **Step-by-Step Execution:**\n",
    "\n",
    "1. **Outer Loop (`for i in range(3)`)**  \n",
    "   - `i` takes values: **0, 1, 2**  \n",
    "\n",
    "2. **Inner Loop (`for j in range(2)`)**  \n",
    "   - `j` takes values: **0, 1**  \n",
    "\n",
    "3. **Condition (`if i != j`)**  \n",
    "   - Pairs where `i` is **not equal** to `j` are included in the result.\n",
    "\n",
    "### **Generated Pairs:**\n",
    "| `i` | `j` | `i != j`? | Included in `result`? |\n",
    "|----|----|------------|----------------|\n",
    "| 0  | 0  | ❌ (0 == 0) | ❌ |\n",
    "| 0  | 1  | ✅ (0 ≠ 1) | ✅ `[0, 1]` |\n",
    "| 1  | 0  | ✅ (1 ≠ 0) | ✅ `[1, 0]` |\n",
    "| 1  | 1  | ❌ (1 == 1) | ❌ |\n",
    "| 2  | 0  | ✅ (2 ≠ 0) | ✅ `[2, 0]` |\n",
    "| 2  | 1  | ✅ (2 ≠ 1) | ✅ `[2, 1]` |\n",
    "\n",
    "### **Final Output:**\n",
    "**2. [[0, 1], [1, 0], [2, 0], [2, 1]]**\n"
   ]
  },
  {
   "cell_type": "code",
   "execution_count": null,
   "metadata": {
    "vscode": {
     "languageId": "plaintext"
    }
   },
   "outputs": [],
   "source": []
  },
  {
   "cell_type": "markdown",
   "metadata": {},
   "source": [
    "## Q7. What does the following slicing operation return?\n",
    "numbers = [100, 200, 300, 400, 500, 600]\n",
    "result = numbers[-5:-2]\n",
    "\n",
    "1. [100,200,300]\n",
    "2. [200,300,400]\n",
    "3. [300,400,500]\n",
    "4. [200,300,400,500]"
   ]
  },
  {
   "cell_type": "markdown",
   "metadata": {},
   "source": [
    "Let's analyze the slicing operation step by step:  \n",
    "\n",
    "```python\n",
    "numbers = [100, 200, 300, 400, 500, 600]\n",
    "result = numbers[-5:-2]\n",
    "```\n",
    "\n",
    "### **Step 1: Understanding Negative Indexing**  \n",
    "Negative indices count from the end of the list:  \n",
    "\n",
    "| Index | -6  | -5  | -4  | -3  | -2  | -1  |\n",
    "|--------|-----|-----|-----|-----|-----|-----|\n",
    "| Value  | 100 | 200 | 300 | 400 | 500 | 600 |\n",
    "\n",
    "### **Step 2: Applying `numbers[-5:-2]`**  \n",
    "- **Start at index `-5`** → `200`  \n",
    "- **Stop at index `-2` (exclusive)** → Stops before `500`  \n",
    "\n",
    "### **Extracted Slice:**\n",
    "```python\n",
    "[200, 300, 400]\n",
    "```\n",
    "\n",
    "### **Final Output:**\n",
    "**2. [200, 300, 400]**"
   ]
  },
  {
   "cell_type": "code",
   "execution_count": null,
   "metadata": {
    "vscode": {
     "languageId": "plaintext"
    }
   },
   "outputs": [],
   "source": []
  },
  {
   "cell_type": "markdown",
   "metadata": {},
   "source": [
    "## Q8. What will be the output of the following code?\n",
    "multiply = lambda a, b: a * b\n",
    "print(multiply(4, 5))\n",
    "\n",
    "1. 9\n",
    "2. 20\n",
    "3. 45\n",
    "4. 25"
   ]
  },
  {
   "cell_type": "markdown",
   "metadata": {},
   "source": [
    "Let's analyze the given code step by step:\n",
    "\n",
    "```python\n",
    "multiply = lambda a, b: a * b\n",
    "print(multiply(4, 5))\n",
    "```\n",
    "\n",
    "### **Step 1: Understanding the Lambda Function**\n",
    "- `lambda a, b: a * b` is an **anonymous function** that takes two arguments (`a` and `b`) and returns their product.\n",
    "\n",
    "### **Step 2: Function Execution**\n",
    "- `multiply(4, 5)` → \\( 4 \\times 5 = 20 \\)\n",
    "\n",
    "### **Final Output:**\n",
    "**2. 20**"
   ]
  },
  {
   "cell_type": "code",
   "execution_count": null,
   "metadata": {
    "vscode": {
     "languageId": "plaintext"
    }
   },
   "outputs": [],
   "source": []
  },
  {
   "cell_type": "markdown",
   "metadata": {},
   "source": [
    "## Q9. What is the purpose of the break statement in a loop?\n",
    "1. to skip the current iteration and continue with the next one\n",
    "2. to exit the loop immediately and resume execution after the loop\n",
    "3. to restart the loop from the beginning\n",
    "4. to pause the loop and resume it later"
   ]
  },
  {
   "cell_type": "markdown",
   "metadata": {},
   "source": [
    "The correct answer is:  \n",
    "\n",
    "**2. To exit the loop immediately and resume execution after the loop**  \n",
    "\n",
    "### **Explanation:**  \n",
    "The `break` statement **terminates** the loop instantly, skipping any remaining iterations, and execution continues **after** the loop."
   ]
  },
  {
   "cell_type": "code",
   "execution_count": null,
   "metadata": {
    "vscode": {
     "languageId": "plaintext"
    }
   },
   "outputs": [],
   "source": []
  },
  {
   "cell_type": "markdown",
   "metadata": {},
   "source": [
    "## Q10. What will be the output of the following code?\n",
    "numbers = [5, 3, 8, 1, 2]\n",
    "numbers.sort(reverse=True)\n",
    "print(numbers)\n",
    "\n",
    "1. [1,2,3,5,8]\n",
    "2. [8,5,3,2,1]\n",
    "3. [5,3,8,1,2]\n",
    "4. [2,1,3,5,8]"
   ]
  },
  {
   "cell_type": "markdown",
   "metadata": {},
   "source": [
    "Let's analyze the given code step by step:\n",
    "\n",
    "```python\n",
    "numbers = [5, 3, 8, 1, 2]\n",
    "\n",
    "numbers.sort(reverse=True)\n",
    "\n",
    "print(numbers)\n",
    "```\n",
    "\n",
    "### **Step 1: Initial List**\n",
    "```\n",
    "[5, 3, 8, 1, 2]\n",
    "```\n",
    "\n",
    "### **Step 2: Sorting in Descending Order**\n",
    "- The `sort(reverse=True)` method **sorts the list in-place** in **descending order**.\n",
    "\n",
    "### **Sorted List:**\n",
    "```\n",
    "[8, 5, 3, 2, 1]\n",
    "```\n",
    "\n",
    "### **Final Output:**\n",
    "**2. [8, 5, 3, 2, 1]**\n"
   ]
  },
  {
   "cell_type": "code",
   "execution_count": null,
   "metadata": {
    "vscode": {
     "languageId": "plaintext"
    }
   },
   "outputs": [],
   "source": []
  },
  {
   "cell_type": "markdown",
   "metadata": {},
   "source": [
    "## Q11. Which function is used to return a new sorted list from the elements of an existing list without modeifying the original list?\n",
    "1. sort()\n",
    "2. reversed()\n",
    "3. sorted()\n",
    "4. order()"
   ]
  },
  {
   "cell_type": "markdown",
   "metadata": {},
   "source": [
    "The correct answer is:  \n",
    "\n",
    "**3. `sorted()`**  \n",
    "\n",
    "### **Explanation:**  \n",
    "`sorted()` returns a **new sorted list** without modifying the original list.  \n",
    "\n",
    "- `sort()` modifies the original list in place.\n",
    "- `reversed()` returns a reversed iterator, not a sorted list.\n",
    "- `order()` is not a valid function in Python."
   ]
  },
  {
   "cell_type": "code",
   "execution_count": null,
   "metadata": {
    "vscode": {
     "languageId": "plaintext"
    }
   },
   "outputs": [],
   "source": []
  },
  {
   "cell_type": "markdown",
   "metadata": {},
   "source": [
    "## Q12. Which of the following commands will sort the list in alphabetical order?\n",
    "fruits = ['apple', 'banana', 'cherry', 'date']\n",
    "\n",
    "1. fruits.order()\n",
    "2. sort(fruits)\n",
    "3. fruits.sorted()\n",
    "4. fruits.sort()"
   ]
  },
  {
   "cell_type": "markdown",
   "metadata": {},
   "source": [
    "To sort the list `fruits` in alphabetical order, you can use the following command:\n",
    "\n",
    "```python\n",
    "fruits.sort()\n",
    "```\n",
    "\n",
    "### **Explanation:**\n",
    "- `sort()` will modify the list **in place** and sort it alphabetically.\n",
    "- The list `fruits` will be changed to:\n",
    "  ```python\n",
    "  ['apple', 'banana', 'cherry', 'date']\n",
    "  ```\n",
    "\n",
    "If we want to **keep the original list intact** and return a sorted version, we can use:\n",
    "The correct answer is : **4. sorted(fruits)**"
   ]
  },
  {
   "cell_type": "code",
   "execution_count": null,
   "metadata": {
    "vscode": {
     "languageId": "plaintext"
    }
   },
   "outputs": [],
   "source": []
  },
  {
   "cell_type": "markdown",
   "metadata": {},
   "source": [
    "## Q13. Which of the following commands would sort the list in ascending order and store it in a new list sorted_nums?\n",
    "nums = [4, 2, 9, 1, 5]\n",
    "1. sorted_nums = nums.sort()\n",
    "2. sorted_nums = sorted(nums)\n",
    "3. sorted_nums = nums[::-1]\n",
    "4. sorted_nums = nums.order()"
   ]
  },
  {
   "cell_type": "markdown",
   "metadata": {},
   "source": [
    "The correct answer is:  \n",
    "\n",
    "**2. `sorted_nums = sorted(nums)`**  \n",
    "\n",
    "### **Explanation:**  \n",
    "- `sorted(nums)` returns a **new sorted list** without modifying the original list.\n",
    "- `nums.sort()` sorts the list **in-place** and returns `None`, so it can't be assigned to `sorted_nums`.\n",
    "- `nums[::-1]` reverses the list, not sorts it.\n",
    "- `order()` is not a valid method in Python."
   ]
  },
  {
   "cell_type": "code",
   "execution_count": null,
   "metadata": {
    "vscode": {
     "languageId": "plaintext"
    }
   },
   "outputs": [],
   "source": []
  },
  {
   "cell_type": "markdown",
   "metadata": {},
   "source": [
    "## Q14. Which of the following variable names follows the PEP 8 naming conventions in python?\n",
    "1. TotalSum\n",
    "2. total_sum\n",
    "3. totalSum\n",
    "4. total-sum"
   ]
  },
  {
   "cell_type": "markdown",
   "metadata": {},
   "source": [
    "The correct answer is:  \n",
    "\n",
    "**2. `total_sum`**  \n",
    "\n",
    "### **Explanation:**  \n",
    "- **PEP 8** recommends using **snake_case** for variable names, which means lowercase letters with underscores separating words.\n",
    "- `TotalSum` and `totalSum` are **CamelCase**, which is typically used for classes.\n",
    "- `total-sum` is invalid because hyphens are not allowed in variable names."
   ]
  },
  {
   "cell_type": "code",
   "execution_count": null,
   "metadata": {
    "vscode": {
     "languageId": "plaintext"
    }
   },
   "outputs": [],
   "source": []
  },
  {
   "cell_type": "markdown",
   "metadata": {},
   "source": [
    "## Q15. Which of the following is the correct naming convention for a class name in Python according to PEP 8?\n",
    "1. EmployeeDetails\n",
    "2. employeeDetails\n",
    "3. employee_details\n",
    "4. Employee_details"
   ]
  },
  {
   "cell_type": "markdown",
   "metadata": {},
   "source": [
    "The correct answer is:  \n",
    "\n",
    "**1. `EmployeeDetails`**  \n",
    "\n",
    "### **Explanation:**  \n",
    "According to **PEP 8**, class names should follow the **CapWords (CamelCase)** convention, where each word starts with a capital letter and no underscores are used.  \n",
    "- `employeeDetails` and `employee_details` are not correct for class names.\n",
    "- `Employee_details` is also not the preferred style for class names."
   ]
  },
  {
   "cell_type": "code",
   "execution_count": null,
   "metadata": {
    "vscode": {
     "languageId": "plaintext"
    }
   },
   "outputs": [],
   "source": []
  },
  {
   "cell_type": "markdown",
   "metadata": {},
   "source": [
    "## Q16. which of the following is a reserved keyword in Python and cannot be used as an identifier (Such as a variable of function name)?\n",
    "1. lambda\n",
    "2. function\n",
    "3. variable\n",
    "4. define"
   ]
  },
  {
   "cell_type": "markdown",
   "metadata": {},
   "source": [
    "The correct answer is:  \n",
    "\n",
    "**1. `lambda`**  \n",
    "\n",
    "### **Explanation:**  \n",
    "`lambda` is a **reserved keyword** in Python, used to create anonymous functions.  \n",
    "- `function`, `variable`, and `define` are **not reserved keywords** and can be used as identifiers."
   ]
  },
  {
   "cell_type": "code",
   "execution_count": null,
   "metadata": {
    "vscode": {
     "languageId": "plaintext"
    }
   },
   "outputs": [],
   "source": []
  },
  {
   "cell_type": "markdown",
   "metadata": {},
   "source": [
    "## Q17. which operator is used to raise a number to a power in python?\n",
    "1. ^\n",
    "2. **\n",
    "3. *\n",
    "4. //"
   ]
  },
  {
   "cell_type": "markdown",
   "metadata": {},
   "source": [
    "The correct answer is:  \n",
    "\n",
    "**2. `**`**  \n",
    "\n",
    "### **Explanation:**  \n",
    "The `**` operator is used for **exponentiation** (raising a number to a power) in Python.  \n",
    "For example, `2 ** 3` results in `8`.\n",
    "\n",
    "- `^` is the bitwise XOR operator.\n",
    "- `*` is the multiplication operator.\n",
    "- `//` is the floor division operator."
   ]
  },
  {
   "cell_type": "code",
   "execution_count": null,
   "metadata": {
    "vscode": {
     "languageId": "plaintext"
    }
   },
   "outputs": [],
   "source": []
  },
  {
   "cell_type": "markdown",
   "metadata": {},
   "source": [
    "## Q18. What will be the result of the following Python expression?\n",
    "7+3*2\n",
    "\n",
    "1. 13\n",
    "2. 20\n",
    "3. 17\n",
    "4. 10"
   ]
  },
  {
   "cell_type": "markdown",
   "metadata": {},
   "source": [
    "The result of the expression `7 + 3 * 2` is:\n",
    "\n",
    "### **Explanation:**\n",
    "- Python follows the **order of operations** (PEMDAS: Parentheses, Exponents, Multiplication and Division, Addition and Subtraction).\n",
    "- First, multiplication is performed:  \n",
    "  `3 * 2 = 6`\n",
    "- Then, addition is performed:  \n",
    "  `7 + 6 = 13`\n",
    "\n",
    "### **Result:** The correct answer is : **1. 13**\n"
   ]
  },
  {
   "cell_type": "code",
   "execution_count": null,
   "metadata": {
    "vscode": {
     "languageId": "plaintext"
    }
   },
   "outputs": [],
   "source": []
  },
  {
   "cell_type": "markdown",
   "metadata": {},
   "source": [
    "## Q19. Given the following code, what will be the value of result?\n",
    "a = 7\n",
    "b = 2\n",
    "result = a % b + a // b * b\n",
    "\n",
    "1. 7\n",
    "2. 2\n",
    "3. 1\n",
    "4. 0"
   ]
  },
  {
   "cell_type": "markdown",
   "metadata": {},
   "source": [
    "Let's break down the given code step by step:\n",
    "\n",
    "```python\n",
    "a = 7\n",
    "b = 2\n",
    "\n",
    "result = a % b + a // b * b\n",
    "```\n",
    "\n",
    "### **Step 1: Calculate `a % b` (modulus)**\n",
    "- `a % b` gives the remainder when `a` is divided by `b`.\n",
    "- `7 % 2` results in `1` (since 7 divided by 2 gives a remainder of 1).\n",
    "\n",
    "### **Step 2: Calculate `a // b` (floor division)**\n",
    "- `a // b` performs integer division, giving the quotient without the remainder.\n",
    "- `7 // 2` results in `3` (since 7 divided by 2 gives a quotient of 3).\n",
    "\n",
    "### **Step 3: Calculate `a // b * b`**\n",
    "- From the previous step, we have `a // b = 3`, so:\n",
    "- `3 * b = 3 * 2 = 6`\n",
    "\n",
    "### **Step 4: Final Calculation**\n",
    "Now, combine the results:\n",
    "- `result = 1 + 6 = 7`\n",
    "\n",
    "### **Final Result:** The correct answer is **1. 7**"
   ]
  },
  {
   "cell_type": "code",
   "execution_count": null,
   "metadata": {
    "vscode": {
     "languageId": "plaintext"
    }
   },
   "outputs": [],
   "source": []
  },
  {
   "cell_type": "markdown",
   "metadata": {},
   "source": [
    "## Q20. what will be the output of the following expression?\n",
    "5 + 3 * 2 ** 4 / 4\n",
    "\n",
    "1. 11\n",
    "2. 13.0\n",
    "3. 19.0\n",
    "4. 17.0"
   ]
  },
  {
   "cell_type": "markdown",
   "metadata": {},
   "source": [
    "Let's break down the expression `5 + 3 * 2 ** 4 / 4` step by step:\n",
    "\n",
    "### **Step 1: Exponentiation (`2 ** 4`)**\n",
    "- `2 ** 4` is **2 raised to the power of 4**, which equals `16`.\n",
    "\n",
    "### **Step 2: Multiplication (`3 * 16`)**\n",
    "- `3 * 16 = 48`\n",
    "\n",
    "### **Step 3: Division (`48 / 4`)**\n",
    "- `48 / 4 = 12.0` (Python performs floating-point division by default).\n",
    "\n",
    "### **Step 4: Addition (`5 + 12.0`)**\n",
    "- `5 + 12.0 = 17.0` (Adding an integer and a float results in a float).\n",
    "\n",
    "### **Final Output:** The correct answer is : **4. 17.0**"
   ]
  },
  {
   "cell_type": "code",
   "execution_count": null,
   "metadata": {
    "vscode": {
     "languageId": "plaintext"
    }
   },
   "outputs": [],
   "source": []
  },
  {
   "cell_type": "markdown",
   "metadata": {},
   "source": [
    "## Q21. what is the value of result?\n",
    "x = 5\n",
    "y = 10\n",
    "result = x * y + x / y - x % y\n",
    "\n",
    "1. 50.5\n",
    "2. 52.5\n",
    "3. 45.5\n",
    "4. 50.0\n"
   ]
  },
  {
   "cell_type": "markdown",
   "metadata": {},
   "source": [
    "Let's break down the given expression step by step:\n",
    "\n",
    "```python\n",
    "x = 5\n",
    "y = 10\n",
    "\n",
    "result = x * y + x / y - x % y\n",
    "```\n",
    "\n",
    "### **Step 1: Calculate `x * y` (multiplication)**\n",
    "- `x * y = 5 * 10 = 50`\n",
    "\n",
    "### **Step 2: Calculate `x / y` (division)**\n",
    "- `x / y = 5 / 10 = 0.5`\n",
    "\n",
    "### **Step 3: Calculate `x % y` (modulus)**\n",
    "- `x % y = 5 % 10 = 5` (remainder when 5 is divided by 10)\n",
    "\n",
    "### **Step 4: Combine the results**\n",
    "Now, substitute the values into the expression:\n",
    "- `result = 50 + 0.5 - 5`\n",
    "\n",
    "### **Final Calculation:**\n",
    "- `result = 50 + 0.5 - 5 = 45.5`\n",
    "\n",
    "### **Final Result:** The correct answer is : **3. 45.5**"
   ]
  },
  {
   "cell_type": "code",
   "execution_count": null,
   "metadata": {
    "vscode": {
     "languageId": "plaintext"
    }
   },
   "outputs": [],
   "source": []
  },
  {
   "cell_type": "markdown",
   "metadata": {},
   "source": [
    "## Q22. What will be the output of the following expression in Python?\n",
    "x = 5\n",
    "y = 10\n",
    "result = (x > 2) and (y < 15) or (x == y)\n",
    "print(result)\n",
    "\n",
    "1. True\n",
    "2. False\n",
    "3. None\n",
    "4. SyntaxError"
   ]
  },
  {
   "cell_type": "markdown",
   "metadata": {},
   "source": [
    "Let's break down the expression step by step:\n",
    "\n",
    "```python\n",
    "x = 5\n",
    "y = 10\n",
    "\n",
    "result = (x > 2) and (y < 15) or (x == y)\n",
    "print(result)\n",
    "```\n",
    "\n",
    "### **Step 1: Evaluate `(x > 2)`**\n",
    "- `x = 5`, so `x > 2` is **True**.\n",
    "\n",
    "### **Step 2: Evaluate `(y < 15)`**\n",
    "- `y = 10`, so `y < 15` is **True**.\n",
    "\n",
    "### **Step 3: Evaluate `(x > 2) and (y < 15)`**\n",
    "- Since both conditions are **True**, the `and` operator returns **True**.\n",
    "\n",
    "### **Step 4: Evaluate `(x == y)`**\n",
    "- `x = 5` and `y = 10`, so `x == y` is **False**.\n",
    "\n",
    "### **Step 5: Evaluate the entire expression**\n",
    "- The expression becomes:  \n",
    "  `True or False`\n",
    "- The `or` operator returns **True** if at least one operand is **True**.\n",
    "\n",
    "### **Final Result:** The correct answer is : **1. True**"
   ]
  },
  {
   "cell_type": "code",
   "execution_count": null,
   "metadata": {
    "vscode": {
     "languageId": "plaintext"
    }
   },
   "outputs": [],
   "source": []
  },
  {
   "cell_type": "markdown",
   "metadata": {},
   "source": [
    "## Q23. what will be the output of the following Python code?\n",
    "a = True\n",
    "b = False\n",
    "c = a or b and not a\n",
    "print(c)\n",
    "\n",
    "1. True\n",
    "2. False\n",
    "3. None\n",
    "4. SyntaxError"
   ]
  },
  {
   "cell_type": "markdown",
   "metadata": {},
   "source": [
    "Let's break down the given code step by step:\n",
    "\n",
    "```python\n",
    "a = True\n",
    "b = False\n",
    "\n",
    "c = a or b and not a\n",
    "\n",
    "print(c)\n",
    "```\n",
    "\n",
    "### **Step 1: Understand operator precedence**\n",
    "In Python, the logical operators follow this precedence:  \n",
    "1. `not`  \n",
    "2. `and`  \n",
    "3. `or`  \n",
    "\n",
    "### **Step 2: Evaluate `b and not a`**\n",
    "- `not a` gives **False** because `a = True`.\n",
    "- `b and not a` is evaluated as `False and False`, which gives **False**.\n",
    "\n",
    "### **Step 3: Evaluate `a or (b and not a)`**\n",
    "- Now, the expression becomes `True or False`, which is **True**.\n",
    "\n",
    "### **Final Output:** The correct answer is : **1. True**\n"
   ]
  },
  {
   "cell_type": "code",
   "execution_count": null,
   "metadata": {
    "vscode": {
     "languageId": "plaintext"
    }
   },
   "outputs": [],
   "source": []
  },
  {
   "cell_type": "markdown",
   "metadata": {},
   "source": [
    "## Q24. What will be the output of the following code?\n",
    "for i in range(5):\n",
    "\n",
    "    if i == 2:\n",
    "\n",
    "        continue\n",
    "\n",
    "    print(i)\n",
    "\n",
    "1. 0 1 2 3 4\n",
    "2. 0 1 3 4\n",
    "3. 1 2 3 4 \n",
    "4. 0 1 2"
   ]
  },
  {
   "cell_type": "markdown",
   "metadata": {},
   "source": [
    "Let's break down the given code:\n",
    "\n",
    "```python\n",
    "for i in range(5):\n",
    "    if i == 2:\n",
    "        continue\n",
    "    print(i)\n",
    "```\n",
    "\n",
    "### **Step 1: Loop through `range(5)`**\n",
    "- `range(5)` generates numbers: **0, 1, 2, 3, 4**\n",
    "\n",
    "### **Step 2: Check the condition `if i == 2:`**\n",
    "- When `i == 2`, the `continue` statement is triggered, which skips the rest of the loop's body for that iteration (i.e., it skips `print(i)` when `i == 2`).\n",
    "\n",
    "### **Step 3: Iterations**\n",
    "- **Iteration 1:** `i = 0` → `print(i)` outputs `0`\n",
    "- **Iteration 2:** `i = 1` → `print(i)` outputs `1`\n",
    "- **Iteration 3:** `i = 2` → The `continue` statement skips the `print(i)` for this iteration.\n",
    "- **Iteration 4:** `i = 3` → `print(i)` outputs `3`\n",
    "- **Iteration 5:** `i = 4` → `print(i)` outputs `4`\n",
    "\n",
    "### **Final Output:** The correct answer is : **1. 0 1 2 3 4 **\n",
    "0\n",
    "1\n",
    "2\n",
    "3\n",
    "4"
   ]
  },
  {
   "cell_type": "code",
   "execution_count": null,
   "metadata": {
    "vscode": {
     "languageId": "plaintext"
    }
   },
   "outputs": [],
   "source": []
  },
  {
   "cell_type": "markdown",
   "metadata": {},
   "source": [
    "## Q25. What will be the output of the following code?\n",
    "i = 0\n",
    "\n",
    "while i < 5:\n",
    "\n",
    "    i += 1\n",
    "\n",
    "    if i == 3:\n",
    "\n",
    "        continue\n",
    "\n",
    "    print(i)\n",
    "\n",
    "Solutions\n",
    "1. 1 2 3 4 5\n",
    "2. 1 2 4 5\n",
    "3. 1 2 3 \n",
    "4. 1 2 3 4"
   ]
  },
  {
   "cell_type": "markdown",
   "metadata": {},
   "source": [
    "Let's break down the given code:\n",
    "\n",
    "```python\n",
    "i = 0\n",
    "\n",
    "while i < 5:\n",
    "    i += 1\n",
    "\n",
    "    if i == 3:\n",
    "        continue\n",
    "\n",
    "    print(i)\n",
    "```\n",
    "\n",
    "### **Step 1: Initialize `i`**\n",
    "- `i = 0`\n",
    "\n",
    "### **Step 2: Loop through the `while i < 5` condition**\n",
    "- The `while` loop will continue as long as `i < 5`.\n",
    "\n",
    "### **Step 3: Iterate through the loop**\n",
    "1. **Iteration 1:** `i = 0`\n",
    "   - `i += 1` → `i = 1`\n",
    "   - `i == 3` is **False**, so `print(i)` outputs `1`\n",
    "\n",
    "2. **Iteration 2:** `i = 1`\n",
    "   - `i += 1` → `i = 2`\n",
    "   - `i == 3` is **False**, so `print(i)` outputs `2`\n",
    "\n",
    "3. **Iteration 3:** `i = 2`\n",
    "   - `i += 1` → `i = 3`\n",
    "   - `i == 3` is **True**, so `continue` is triggered, which skips the `print(i)` for this iteration.\n",
    "\n",
    "4. **Iteration 4:** `i = 3`\n",
    "   - `i += 1` → `i = 4`\n",
    "   - `i == 3` is **False**, so `print(i)` outputs `4`\n",
    "\n",
    "5. **Iteration 5:** `i = 4`\n",
    "   - `i += 1` → `i = 5`\n",
    "   - `i == 3` is **False**, so `print(i)` outputs `5`\n",
    "\n",
    "### **Final Output:** The correct answer is : **2. 1 2 4 5** \n",
    "1\n",
    "2\n",
    "4\n",
    "5"
   ]
  },
  {
   "cell_type": "code",
   "execution_count": null,
   "metadata": {
    "vscode": {
     "languageId": "plaintext"
    }
   },
   "outputs": [],
   "source": []
  },
  {
   "cell_type": "markdown",
   "metadata": {},
   "source": [
    "## Q26. Which of the following is the correct syntax tod efine a lambda function in Python that returns the square of a number x?\n",
    "1. lambda x: return x**2\n",
    "2. lambda x:x**2\n",
    "3. lambda x: x^2\n",
    "4. def lambda(x): x**2"
   ]
  },
  {
   "cell_type": "markdown",
   "metadata": {},
   "source": [
    "The correct answer is:  \n",
    "\n",
    "**2. `lambda x: x**2`**  \n",
    "\n",
    "### **Explanation:**  \n",
    "- The correct syntax for a lambda function is:  \n",
    "  `lambda argument: expression`\n",
    "- `lambda x: x**2` defines a function that returns the square of `x`.  \n",
    "- `x^2` uses bitwise XOR, not exponentiation, so it’s incorrect for squaring a number."
   ]
  },
  {
   "cell_type": "code",
   "execution_count": null,
   "metadata": {
    "vscode": {
     "languageId": "plaintext"
    }
   },
   "outputs": [],
   "source": []
  },
  {
   "cell_type": "markdown",
   "metadata": {},
   "source": [
    "## Q27. What will be the output of the following code?\n",
    "mixed_list = [1, 'hello', 3.14, True, None]\n",
    "sliced = mixed_list[1:4]\n",
    "print(sliced)\n",
    "\n",
    "1. ['hello', 3.14, True]\n",
    "2. [1, 'hello', 3.14]\n",
    "3. [1, 'hello', 3.14, True]\n",
    "4. ['hello', 3.14, True, None]\n"
   ]
  },
  {
   "cell_type": "markdown",
   "metadata": {},
   "source": [
    "Let's break down the code step by step:\n",
    "\n",
    "```python\n",
    "mixed_list = [1, 'hello', 3.14, True, None]\n",
    "\n",
    "sliced = mixed_list[1:4]\n",
    "\n",
    "print(sliced)\n",
    "```\n",
    "\n",
    "### **Step 1: Define `mixed_list`**\n",
    "```python\n",
    "mixed_list = [1, 'hello', 3.14, True, None]\n",
    "```\n",
    "The list contains:\n",
    "- `1` (integer)\n",
    "- `'hello'` (string)\n",
    "- `3.14` (float)\n",
    "- `True` (boolean)\n",
    "- `None` (NoneType)\n",
    "\n",
    "### **Step 2: Apply slicing (`mixed_list[1:4]`)**\n",
    "- The slice `1:4` means starting at index `1` and ending at index `4` (exclusive).\n",
    "- This includes the elements at index 1, 2, and 3:\n",
    "  - Index 1 → `'hello'`\n",
    "  - Index 2 → `3.14`\n",
    "  - Index 3 → `True`\n",
    "\n",
    "### **Final Output:** The correct answer is : **1. ['hello', 3.14, True]**"
   ]
  },
  {
   "cell_type": "code",
   "execution_count": null,
   "metadata": {
    "vscode": {
     "languageId": "plaintext"
    }
   },
   "outputs": [],
   "source": []
  },
  {
   "cell_type": "markdown",
   "metadata": {},
   "source": [
    "## Q28. What will be the result of the following list comprehension?\n",
    "even_numbers = [x for x in range(10) if x % 2 == 0]\n",
    "print(even_numbers)\n",
    "\n",
    "1. [0, 1, 2, 3, 4, 5, 6, 7, 8, 9]\n",
    "2. [1, 3, 5, 7, 9]\n",
    "3. [0, 2, 4, 6, 8]\n",
    "4. [0, 2, 4, 6, 8, 10]"
   ]
  },
  {
   "cell_type": "markdown",
   "metadata": {},
   "source": [
    "Let's break down the list comprehension:\n",
    "\n",
    "```python\n",
    "even_numbers = [x for x in range(10) if x % 2 == 0]\n",
    "\n",
    "print(even_numbers)\n",
    "```\n",
    "\n",
    "### **Step 1: Understand the List Comprehension**\n",
    "- The list comprehension iterates over the range `0` to `9` (since `range(10)` generates numbers from 0 to 9).\n",
    "- The condition `if x % 2 == 0` filters out all numbers that are not divisible by 2 (i.e., it keeps only even numbers).\n",
    "\n",
    "### **Step 2: Evaluate the Range**\n",
    "- The numbers from `0` to `9` are:  \n",
    "  `0, 1, 2, 3, 4, 5, 6, 7, 8, 9`\n",
    "\n",
    "- The even numbers are:  \n",
    "  `0, 2, 4, 6, 8`\n",
    "\n",
    "### **Final Output:** The correct answer is : **3. [0, 2, 4, 6, 8]**"
   ]
  },
  {
   "cell_type": "code",
   "execution_count": null,
   "metadata": {
    "vscode": {
     "languageId": "plaintext"
    }
   },
   "outputs": [],
   "source": []
  },
  {
   "cell_type": "markdown",
   "metadata": {},
   "source": [
    "## Q29. What will be the output of the following code?\n",
    "a = [1, 2, 3]\n",
    "b = [4, 5]\n",
    "\n",
    "a.append(b)\n",
    "\n",
    "b.append(6)\n",
    "\n",
    "print(a)\n",
    "\n",
    "1. [1, 2, 3, [4,5], 6]\n",
    "2. [1,2,3,[4,5,6]]\n",
    "3. [1,2,3,4,5,6]\n",
    "4. [1,2,3,[4,5],[6]]"
   ]
  },
  {
   "cell_type": "markdown",
   "metadata": {},
   "source": [
    "Let's break down the code step by step:\n",
    "\n",
    "```python\n",
    "a = [1, 2, 3]\n",
    "\n",
    "b = [4, 5]\n",
    "\n",
    "a.append(b)\n",
    "\n",
    "b.append(6)\n",
    "\n",
    "print(a)\n",
    "```\n",
    "\n",
    "### **Step 1: Initial lists**\n",
    "- `a = [1, 2, 3]`\n",
    "- `b = [4, 5]`\n",
    "\n",
    "### **Step 2: `a.append(b)`**\n",
    "- The `append()` method adds the entire list `b` as a single element at the end of list `a`.\n",
    "- After `a.append(b)`, the list `a` becomes:  \n",
    "  `[1, 2, 3, [4, 5]]`\n",
    "\n",
    "### **Step 3: `b.append(6)`**\n",
    "- The `append()` method adds `6` to the list `b`.\n",
    "- After `b.append(6)`, the list `b` becomes:  \n",
    "  `[4, 5, 6]`\n",
    "\n",
    "### **Step 4: Final output**\n",
    "- The list `a` is:  \n",
    "  `[1, 2, 3, [4, 5]]`\n",
    "\n",
    "### **Final Output:** The correct answer is : **2. [1, 2, 3, [4, 5 ,6]]**"
   ]
  },
  {
   "cell_type": "code",
   "execution_count": null,
   "metadata": {
    "vscode": {
     "languageId": "plaintext"
    }
   },
   "outputs": [],
   "source": []
  },
  {
   "cell_type": "markdown",
   "metadata": {},
   "source": [
    "## Q30. What will be the output of the following code?\n",
    "data = ['a', 'b', 'c', 'd', 'e']\n",
    "\n",
    "data.remove('c')\n",
    "\n",
    "data.remove('f')\n",
    "\n",
    "print(data)\n",
    "\n",
    "1. ['a', 'b', 'd', 'e']\n",
    "2. ['a', 'b', 'd', 'e', 'f']\n",
    "3. ['a', 'b', 'd', 'e'] (with an exception raised)\n",
    "4. ['a', 'b', 'd', 'e'] (if f does not exist)"
   ]
  },
  {
   "cell_type": "markdown",
   "metadata": {},
   "source": [
    "Let's break down the code step by step:\n",
    "\n",
    "```python\n",
    "data = ['a', 'b', 'c', 'd', 'e']\n",
    "\n",
    "data.remove('c')\n",
    "\n",
    "data.remove('f')\n",
    "\n",
    "print(data)\n",
    "```\n",
    "\n",
    "### **Step 1: Initialize `data`**\n",
    "- `data = ['a', 'b', 'c', 'd', 'e']`\n",
    "\n",
    "### **Step 2: `data.remove('c')`**\n",
    "- The `remove()` method removes the **first occurrence** of the specified value from the list.\n",
    "- After `data.remove('c')`, the list becomes:  \n",
    "  `['a', 'b', 'd', 'e']`\n",
    "\n",
    "### **Step 3: `data.remove('f')`**\n",
    "- The `remove()` method will raise a **ValueError** if the specified value is not found in the list.\n",
    "- Since `'f'` is not in the list `data`, the code will raise an error at this point.\n",
    "\n",
    "### **Final Output:** The correct answer is : **3. ['a', 'b', 'd', 'e'] (with an exception raised)**"
   ]
  },
  {
   "cell_type": "code",
   "execution_count": null,
   "metadata": {
    "vscode": {
     "languageId": "plaintext"
    }
   },
   "outputs": [],
   "source": []
  },
  {
   "cell_type": "markdown",
   "metadata": {},
   "source": [
    "## Q31. What will be the output of the following code?\n",
    "set1 = {10, 20, 30}\n",
    "\n",
    "set1.add(40)\n",
    "\n",
    "set1.remove(20)\n",
    "\n",
    "print(set1)\n",
    "\n",
    "1. {40, 10, 30}\n",
    "2. {10, 20, 30, 40}\n",
    "3. {10, 30}\n",
    "4. {20, 30, 40}"
   ]
  },
  {
   "cell_type": "markdown",
   "metadata": {},
   "source": [
    "Let's break down the code step by step:\n",
    "\n",
    "```python\n",
    "set1 = {10, 20, 30}\n",
    "\n",
    "set1.add(40)\n",
    "\n",
    "set1.remove(20)\n",
    "\n",
    "print(set1)\n",
    "```\n",
    "\n",
    "### **Step 1: Initialize `set1`**\n",
    "- `set1 = {10, 20, 30}`  \n",
    "  The set contains `{10, 20, 30}`.\n",
    "\n",
    "### **Step 2: `set1.add(40)`**\n",
    "- The `add()` method adds the element `40` to the set.\n",
    "- After `set1.add(40)`, `set1` becomes:  \n",
    "  `{10, 20, 30, 40}`.\n",
    "\n",
    "### **Step 3: `set1.remove(20)`**\n",
    "- The `remove()` method removes the element `20` from the set.\n",
    "- After `set1.remove(20)`, `set1` becomes:  \n",
    "  `{10, 30, 40}`.\n",
    "\n",
    "### **Final Output: The correct answer is : **1. {40, 10, 30}**"
   ]
  },
  {
   "cell_type": "code",
   "execution_count": null,
   "metadata": {
    "vscode": {
     "languageId": "plaintext"
    }
   },
   "outputs": [],
   "source": []
  },
  {
   "cell_type": "markdown",
   "metadata": {},
   "source": [
    "## Q32. What does the following list comprehension produce?\n",
    "result = [str(x) + '!' for x in range(3) for y in range(2)]\n",
    "\n",
    "print(result)\n",
    "\n",
    "1. ['0!0!', '0!1!', '1!0!', '1!1!', '2!0!', '2!1!']\n",
    "2. ['0!0!', '0!1!', '1!0!', '1!1!']\n",
    "3. ['0!', '1!', '2!']\n",
    "4. ['0!1!', '1!2!', '2!0!']"
   ]
  },
  {
   "cell_type": "markdown",
   "metadata": {},
   "source": [
    "Let's break down the given list comprehension step by step:\n",
    "\n",
    "```python\n",
    "result = [str(x) + '!' for x in range(3) for y in range(2)]\n",
    "\n",
    "print(result)\n",
    "```\n",
    "\n",
    "### **Step 1: Understand the List Comprehension Structure**\n",
    "- This list comprehension consists of two `for` loops:\n",
    "  - `for x in range(3)` → `x` will take values from 0 to 2 (i.e., `0, 1, 2`).\n",
    "  - `for y in range(2)` → `y` will take values from 0 to 1 (i.e., `0, 1`).\n",
    "\n",
    "- For each combination of `x` and `y`, the expression `str(x) + '!'` is evaluated and added to the list.\n",
    "\n",
    "### **Step 2: Iterate through the loops**\n",
    "1. **When `x = 0`**:\n",
    "   - For `y = 0`: `str(0) + '!'` → `'0!'`\n",
    "   - For `y = 1`: `str(0) + '!'` → `'0!'`\n",
    "\n",
    "2. **When `x = 1`**:\n",
    "   - For `y = 0`: `str(1) + '!'` → `'1!'`\n",
    "   - For `y = 1`: `str(1) + '!'` → `'1!'`\n",
    "\n",
    "3. **When `x = 2`**:\n",
    "   - For `y = 0`: `str(2) + '!'` → `'2!'`\n",
    "   - For `y = 1`: `str(2) + '!'` → `'2!'`\n",
    "\n",
    "### **Step 3: Final list**\n",
    "The list `result` will contain the following values:\n",
    "```python\n",
    "['0!', '0!', '1!', '1!', '2!', '2!']\n",
    "```\n",
    "\n",
    "### **Final Output:** The correct answer is : **1. ['0!0!', '0!1!', '1!0!', '1!1!', '2!0!', '2!1!']**"
   ]
  },
  {
   "cell_type": "code",
   "execution_count": null,
   "metadata": {
    "vscode": {
     "languageId": "plaintext"
    }
   },
   "outputs": [],
   "source": []
  },
  {
   "cell_type": "code",
   "execution_count": null,
   "metadata": {
    "vscode": {
     "languageId": "plaintext"
    }
   },
   "outputs": [],
   "source": []
  }
 ],
 "metadata": {
  "language_info": {
   "name": "python"
  }
 },
 "nbformat": 4,
 "nbformat_minor": 2
}
