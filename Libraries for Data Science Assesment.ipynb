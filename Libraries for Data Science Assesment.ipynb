{
 "cells": [
  {
   "cell_type": "markdown",
   "metadata": {},
   "source": [
    "# Quiz : Libraries for Data Science Assesment"
   ]
  },
  {
   "cell_type": "markdown",
   "metadata": {},
   "source": [
    "## Q1. Which Python library is most commonly used for data manipulation and analysis?\n",
    "1. NumPy\n",
    "2. Pandas\n",
    "3. Matplotlib\n",
    "4. Seaborn "
   ]
  },
  {
   "cell_type": "markdown",
   "metadata": {},
   "source": [
    "**Correct Answer:**  **2. Pandas**  \n",
    "\n",
    "**Explanation:** Pandas is the most commonly used Python library for data manipulation and analysis. It provides data structures like **DataFrame** and **Series**, offering powerful tools for data cleaning, transformation, and analysis."
   ]
  },
  {
   "cell_type": "code",
   "execution_count": null,
   "metadata": {
    "vscode": {
     "languageId": "plaintext"
    }
   },
   "outputs": [],
   "source": []
  },
  {
   "cell_type": "markdown",
   "metadata": {},
   "source": [
    "## Q2. Which of the following is used to create subplots in Matplotlib?\n",
    "1. plt.plot()\n",
    "2. plt.subplot()\n",
    "3. plt.scatter()\n",
    "4. plt.grid()"
   ]
  },
  {
   "cell_type": "markdown",
   "metadata": {},
   "source": [
    "**Correct Answer:** **2. plt.subplot()**  \n",
    "\n",
    "**Explanation:** `plt.subplot()` is used to create multiple subplots in a single figure by specifying the grid layout (rows, columns, and index of the subplot)."
   ]
  },
  {
   "cell_type": "code",
   "execution_count": null,
   "metadata": {
    "vscode": {
     "languageId": "plaintext"
    }
   },
   "outputs": [],
   "source": []
  },
  {
   "cell_type": "markdown",
   "metadata": {},
   "source": [
    "## Q3. Which of the following is used to generate random numbers in NumPy?\n",
    "1. np.array()\n",
    "2. np.random()\n",
    "3. np.dot()\n",
    "4. np.sum()"
   ]
  },
  {
   "cell_type": "markdown",
   "metadata": {},
   "source": [
    "**Correct Answer:** **2. np.random()**  \n",
    "\n",
    "**Explanation:** `np.random()` is used to generate random numbers in NumPy, including random integers, floats, and distributions."
   ]
  },
  {
   "cell_type": "code",
   "execution_count": null,
   "metadata": {
    "vscode": {
     "languageId": "plaintext"
    }
   },
   "outputs": [],
   "source": []
  },
  {
   "cell_type": "markdown",
   "metadata": {},
   "source": [
    "## Q4. Which of the following is true about the Pandas Series?\n",
    "1. It can hold multiple columns\n",
    "2. It is a one-dimensional array\n",
    "3. It is similar to a SQL table\n",
    "4. It is primarily used for data visualization "
   ]
  },
  {
   "cell_type": "markdown",
   "metadata": {},
   "source": [
    "**Correct Answer:** **2. It is a one-dimensional array**  \n",
    "\n",
    "**Explanation:** A Pandas **Series** is a one-dimensional labeled array that can hold data of any type (int, float, string, etc.), similar to a column in a DataFrame."
   ]
  },
  {
   "cell_type": "code",
   "execution_count": null,
   "metadata": {
    "vscode": {
     "languageId": "plaintext"
    }
   },
   "outputs": [],
   "source": []
  },
  {
   "cell_type": "markdown",
   "metadata": {},
   "source": [
    "## Q5. Which plot would you use in Seaborn to visualize the relationship between two variables with a linear regression fit?\n",
    "1. sns.lmplot()\n",
    "2. sns.boxplot()\n",
    "3. sns.hisplot()\n",
    "4. sns.scatterplot()"
   ]
  },
  {
   "cell_type": "markdown",
   "metadata": {},
   "source": [
    "**Correct Answer:** **1. sns.lmplot()**  \n",
    "\n",
    "**Explanation:** `sns.lmplot()` is used to visualize the relationship between two variables with a **linear regression fit**, showing both the data points and the regression line."
   ]
  },
  {
   "cell_type": "code",
   "execution_count": null,
   "metadata": {
    "vscode": {
     "languageId": "plaintext"
    }
   },
   "outputs": [],
   "source": []
  },
  {
   "cell_type": "markdown",
   "metadata": {},
   "source": [
    "## Q6. Which Seaborn function is used to visualize the distribution of a dataset?\n",
    "1. sns.scatterplot()\n",
    "2. sns.displot()\n",
    "3. sns.barplot()\n",
    "4. sns.lineplot()"
   ]
  },
  {
   "cell_type": "markdown",
   "metadata": {},
   "source": [
    "**Correct Answer:** **2. sns.displot()**  \n",
    "\n",
    "**Explanation:** `sns.displot()` is used to visualize the distribution of a dataset using histograms, KDE plots, or both, helping to understand the data’s spread and density."
   ]
  },
  {
   "cell_type": "code",
   "execution_count": null,
   "metadata": {
    "vscode": {
     "languageId": "plaintext"
    }
   },
   "outputs": [],
   "source": []
  },
  {
   "cell_type": "markdown",
   "metadata": {},
   "source": [
    "## Q7. How can you add a title to a plot in Matplotlib?\n",
    "1. plt.xlabel()\n",
    "2. plt.title()\n",
    "3. plt.annotate()\n",
    "4. plt.legend()"
   ]
  },
  {
   "cell_type": "markdown",
   "metadata": {},
   "source": [
    "**Correct Answer:** **2. plt.title()**  \n",
    "\n",
    "**Explanation:** `plt.title()` is used to add a title to a plot in Matplotlib, enhancing readability and providing context to the visualization."
   ]
  },
  {
   "cell_type": "code",
   "execution_count": null,
   "metadata": {
    "vscode": {
     "languageId": "plaintext"
    }
   },
   "outputs": [],
   "source": []
  },
  {
   "cell_type": "markdown",
   "metadata": {},
   "source": [
    "## Q8. Which of the following libraries is used for data visualization in Python?\n",
    "1. NumPy\n",
    "2. Seaborn\n",
    "3. Pandas\n",
    "4. TensorFlow"
   ]
  },
  {
   "cell_type": "markdown",
   "metadata": {},
   "source": [
    "**Correct Answer:** **2. Seaborn**  \n",
    "\n",
    "**Explanation:** **Seaborn** is a Python library built on **Matplotlib** that provides advanced data visualization with beautiful and informative statistical graphics."
   ]
  },
  {
   "cell_type": "code",
   "execution_count": null,
   "metadata": {
    "vscode": {
     "languageId": "plaintext"
    }
   },
   "outputs": [],
   "source": []
  },
  {
   "cell_type": "markdown",
   "metadata": {},
   "source": [
    "## Q9. Which Python library is primarily used for numerical computations and array operations?\n",
    "1. Pandas\n",
    "2. NumPy\n",
    "3. Matplotlib\n",
    "4. Keras"
   ]
  },
  {
   "cell_type": "markdown",
   "metadata": {},
   "source": [
    "**Correct Answer:** **2. NumPy**  \n",
    "\n",
    "**Explanation:** **NumPy** is the primary library for numerical computations and array operations in Python, providing support for multi-dimensional arrays, mathematical functions, and linear algebra."
   ]
  },
  {
   "cell_type": "code",
   "execution_count": null,
   "metadata": {
    "vscode": {
     "languageId": "plaintext"
    }
   },
   "outputs": [],
   "source": []
  },
  {
   "cell_type": "markdown",
   "metadata": {},
   "source": [
    "## Q10. Which library would you use to build machine learning models in Python?\n",
    "1. Pandas\n",
    "2. NumPy\n",
    "3. Scikit-learn\n",
    "4. Matplotlib"
   ]
  },
  {
   "cell_type": "markdown",
   "metadata": {},
   "source": [
    "**Correct Answer:** **3. Scikit-learn**  \n",
    "\n",
    "**Explanation:** **Scikit-learn** is a popular Python library for building machine learning models, providing tools for classification, regression, clustering, and preprocessing."
   ]
  },
  {
   "cell_type": "code",
   "execution_count": null,
   "metadata": {
    "vscode": {
     "languageId": "plaintext"
    }
   },
   "outputs": [],
   "source": []
  },
  {
   "cell_type": "markdown",
   "metadata": {},
   "source": [
    "## Q11. Which Python library provides data structures like Series and DataFrame?\n",
    "1. NumPy\n",
    "2. Pandas\n",
    "3. Matplotlib\n",
    "4. TensorFlow"
   ]
  },
  {
   "cell_type": "markdown",
   "metadata": {},
   "source": [
    "**Correct Answer:** **2. Pandas**  \n",
    "\n",
    "**Explanation:** **Pandas** provides data structures like **Series** (one-dimensional) and **DataFrame** (two-dimensional) for efficient data manipulation and analysis."
   ]
  },
  {
   "cell_type": "code",
   "execution_count": null,
   "metadata": {
    "vscode": {
     "languageId": "plaintext"
    }
   },
   "outputs": [],
   "source": []
  },
  {
   "cell_type": "markdown",
   "metadata": {},
   "source": [
    "## Q12. What method in Pandas is used to read a CSV file into a DataFrame?\n",
    "1. pd.read_table()\n",
    "2. pd.read_csv()\n",
    "3. pd.read_excel()\n",
    "4. pd.read_sql()"
   ]
  },
  {
   "cell_type": "markdown",
   "metadata": {},
   "source": [
    "**Correct Answer:** **2. pd.read_csv()**  \n",
    "\n",
    "**Explanation:** `pd.read_csv()` is used to read a **CSV** file into a **DataFrame**, making it easy to manipulate and analyze tabular data."
   ]
  },
  {
   "cell_type": "code",
   "execution_count": null,
   "metadata": {
    "vscode": {
     "languageId": "plaintext"
    }
   },
   "outputs": [],
   "source": []
  },
  {
   "cell_type": "markdown",
   "metadata": {},
   "source": [
    "## Q13. Which function i sused to check for missing values in a DataFrame?\n",
    "1. isnull()\n",
    "2. fillna()\n",
    "3. dropna()\n",
    "4. replace()"
   ]
  },
  {
   "cell_type": "markdown",
   "metadata": {},
   "source": [
    "**Correct Answer:** **1. isnull()**  \n",
    "\n",
    "**Explanation:** `isnull()` is used to check for missing (NaN) values in a **DataFrame**, returning a Boolean DataFrame indicating the presence of missing values."
   ]
  },
  {
   "cell_type": "code",
   "execution_count": null,
   "metadata": {
    "vscode": {
     "languageId": "plaintext"
    }
   },
   "outputs": [],
   "source": []
  },
  {
   "cell_type": "markdown",
   "metadata": {},
   "source": [
    "## Q14. What dores the df.loc[] function in Pandas allow you to do?\n",
    "1. Select rows and columns by label\n",
    "2. Select rows and columns by index position \n",
    "3. Perform Boolean indexing\n",
    "4. Drop rows or columns"
   ]
  },
  {
   "cell_type": "markdown",
   "metadata": {},
   "source": [
    "**Correct Answer:** **1. Select rows and columns by label**  \n",
    "\n",
    "**Explanation:** `df.loc[]` allows you to select rows and columns from a **DataFrame** by **label** (index or column name), enabling label-based indexing."
   ]
  },
  {
   "cell_type": "code",
   "execution_count": null,
   "metadata": {
    "vscode": {
     "languageId": "plaintext"
    }
   },
   "outputs": [],
   "source": []
  },
  {
   "cell_type": "markdown",
   "metadata": {},
   "source": [
    "## Q15. In Pandas, how do you merge two DataFrames on a common column?\n",
    "1. df.concat()\n",
    "2. df.join()\n",
    "3. df.merge()\n",
    "4. df.append()"
   ]
  },
  {
   "cell_type": "markdown",
   "metadata": {},
   "source": [
    "**Correct Answer:** **3. df.merge()**  \n",
    "\n",
    "**Explanation:** `df.merge()` is used to merge two **DataFrames** on a common column (or index), similar to SQL JOIN operations."
   ]
  },
  {
   "cell_type": "code",
   "execution_count": null,
   "metadata": {
    "vscode": {
     "languageId": "plaintext"
    }
   },
   "outputs": [],
   "source": []
  },
  {
   "cell_type": "markdown",
   "metadata": {},
   "source": [
    "## Q16. Which function is used in Pandas to group data by a particular column?\n",
    "1. groupby()\n",
    "2. apply()\n",
    "3. pivot_table()\n",
    "4. aggregate()"
   ]
  },
  {
   "cell_type": "markdown",
   "metadata": {},
   "source": [
    "**Correct Answer:** **1. groupby()**  \n",
    "\n",
    "**Explanation:** `groupby()` is used to group data by a specific column, enabling aggregation and analysis on grouped subsets of the data."
   ]
  },
  {
   "cell_type": "code",
   "execution_count": null,
   "metadata": {
    "vscode": {
     "languageId": "plaintext"
    }
   },
   "outputs": [],
   "source": []
  },
  {
   "cell_type": "markdown",
   "metadata": {},
   "source": [
    "## Q17. Which data structure is provided by NumPy for multidimensional data?\n",
    "1. List\n",
    "2. DataFrame\n",
    "3. Array\n",
    "4. Dictionary"
   ]
  },
  {
   "cell_type": "markdown",
   "metadata": {},
   "source": [
    "**Correct Answer:** **3. Array**  \n",
    "\n",
    "**Explanation:** **NumPy** provides the **array** data structure, which supports multi-dimensional arrays for efficient numerical computations and data manipulation."
   ]
  },
  {
   "cell_type": "code",
   "execution_count": null,
   "metadata": {
    "vscode": {
     "languageId": "plaintext"
    }
   },
   "outputs": [],
   "source": []
  },
  {
   "cell_type": "markdown",
   "metadata": {},
   "source": [
    "## Q18. Which function in NumPy is used to create an array of zeros?\n",
    "1. np.zeros()\n",
    "2. np.ones()\n",
    "3. np.empty()\n",
    "4. np.array()"
   ]
  },
  {
   "cell_type": "markdown",
   "metadata": {},
   "source": [
    "**Correct Answer:** **1. np.zeros()**  \n",
    "\n",
    "**Explanation:** `np.zeros()` is used to create an array filled with zeros, often used for initializing data structures."
   ]
  },
  {
   "cell_type": "code",
   "execution_count": null,
   "metadata": {
    "vscode": {
     "languageId": "plaintext"
    }
   },
   "outputs": [],
   "source": []
  },
  {
   "cell_type": "markdown",
   "metadata": {},
   "source": [
    "## Q19. What does the np.dot() function do in NumPy?\n",
    "1. Element-wise multiplication\n",
    "2. Matrix multiplication\n",
    "3. Array Concatenation\n",
    "4. Array reshaping"
   ]
  },
  {
   "cell_type": "markdown",
   "metadata": {},
   "source": [
    "**Correct Answer:** **2. Matrix multiplication**  \n",
    "\n",
    "**Explanation:** `np.dot()` performs matrix multiplication (dot product) for arrays, which can also be used for vector dot products or matrix-vector products."
   ]
  },
  {
   "cell_type": "code",
   "execution_count": null,
   "metadata": {
    "vscode": {
     "languageId": "plaintext"
    }
   },
   "outputs": [],
   "source": []
  },
  {
   "cell_type": "markdown",
   "metadata": {},
   "source": [
    "## Q20. How do you convert a DataFrame to a NumPy array?\n",
    "1. df.array()\n",
    "2. df.to_list()\n",
    "3. df.values()\n",
    "4. np.array(df)"
   ]
  },
  {
   "cell_type": "markdown",
   "metadata": {},
   "source": [
    "**Correct Answer:** **3. df.values()**  \n",
    "\n",
    "**Explanation:** `df.values()` converts a **DataFrame** to a **NumPy array**, preserving the data without the labels."
   ]
  },
  {
   "cell_type": "code",
   "execution_count": null,
   "metadata": {
    "vscode": {
     "languageId": "plaintext"
    }
   },
   "outputs": [],
   "source": []
  },
  {
   "cell_type": "markdown",
   "metadata": {},
   "source": [
    "## Q21. Which function is used to create a line plot in Matplotlib?\n",
    "1. plt.plot()\n",
    "2. plt.scatter()\n",
    "3. plt.bar()\n",
    "4. plt.hist()"
   ]
  },
  {
   "cell_type": "markdown",
   "metadata": {},
   "source": [
    "**Correct Answer:** **1. plt.plot()**  \n",
    "\n",
    "**Explanation:** `plt.plot()` is used to create line plots in Matplotlib, connecting data points with a line, commonly used for time-series or continuous data."
   ]
  },
  {
   "cell_type": "code",
   "execution_count": null,
   "metadata": {
    "vscode": {
     "languageId": "plaintext"
    }
   },
   "outputs": [],
   "source": []
  },
  {
   "cell_type": "markdown",
   "metadata": {},
   "source": [
    "## Q22. How can you display multiple plots in a single figure in Matplotlib?\n",
    "1. plt.show()\n",
    "2. plt.subplots()\n",
    "3. plt.subplot()\n",
    "4. plt.multiplot()"
   ]
  },
  {
   "cell_type": "markdown",
   "metadata": {},
   "source": [
    "**Correct Answer:** **3. plt.subplot()**  \n",
    "\n",
    "**Explanation:** \n",
    "\n",
    "The correct answer is **3. plt.subplot()** for creating multiple plots in a single figure. \n",
    "\n",
    "- **`plt.subplot()`** creates individual subplots within a grid of plots in one figure, by specifying the number of rows, columns, and the index of the subplot.\n",
    "- **`plt.subplots()`** is also correct for creating multiple subplots, but it is typically used to create a figure and a grid of axes objects, which can be useful when customizing each subplot.\n",
    "\n",
    "So both **`plt.subplot()`** and **`plt.subplots()`** can be used to display multiple plots, but **`plt.subplot()`** is directly used to place a plot in a grid, while **`plt.subplots()`** provides more control with axes objects."
   ]
  },
  {
   "cell_type": "code",
   "execution_count": null,
   "metadata": {
    "vscode": {
     "languageId": "plaintext"
    }
   },
   "outputs": [],
   "source": []
  },
  {
   "cell_type": "markdown",
   "metadata": {},
   "source": [
    "## Q23. Which function in Matplotlib is used to create a scatter plot?\n",
    "1. plt.plot()\n",
    "2. plt.scatter()\n",
    "3. plt.bar()\n",
    "4. plt.hist()"
   ]
  },
  {
   "cell_type": "markdown",
   "metadata": {},
   "source": [
    "**Correct Answer:** **2. plt.scatter()**  \n",
    "\n",
    "**Explanation:** `plt.scatter()` is used to create scatter plots, displaying data points as individual markers on a 2D plane."
   ]
  },
  {
   "cell_type": "code",
   "execution_count": null,
   "metadata": {
    "vscode": {
     "languageId": "plaintext"
    }
   },
   "outputs": [],
   "source": []
  },
  {
   "cell_type": "markdown",
   "metadata": {},
   "source": [
    "## Q24. Which function in Matplotlib is used to create a bar plot?\n",
    "1. plt.plot()\n",
    "2. plt.bar()\n",
    "3. plt.scatter()\n",
    "4. plt.hist()"
   ]
  },
  {
   "cell_type": "markdown",
   "metadata": {},
   "source": [
    "**Correct Answer:** **2. plt.bar()**  \n",
    "\n",
    "**Explanation:** `plt.bar()` is used to create bar plots, displaying rectangular bars with heights corresponding to values, useful for categorical comparisons."
   ]
  },
  {
   "cell_type": "code",
   "execution_count": null,
   "metadata": {
    "vscode": {
     "languageId": "plaintext"
    }
   },
   "outputs": [],
   "source": []
  },
  {
   "cell_type": "markdown",
   "metadata": {},
   "source": [
    "## Q25. Which Seaborn function is used to create a heatmap?\n",
    "1. sns.barplot()\n",
    "2. sns.heatmap()\n",
    "3. sns.lineplot()\n",
    "4. sns.scatterplot()"
   ]
  },
  {
   "cell_type": "markdown",
   "metadata": {},
   "source": [
    "**Correct Answer:** **2. sns.heatmap()**  \n",
    "\n",
    "**Explanation:** `sns.heatmap()` is used to create heatmaps, visualizing data in matrix form with color gradients representing values, useful for correlation and patterns."
   ]
  },
  {
   "cell_type": "code",
   "execution_count": null,
   "metadata": {
    "vscode": {
     "languageId": "plaintext"
    }
   },
   "outputs": [],
   "source": []
  },
  {
   "cell_type": "markdown",
   "metadata": {},
   "source": [
    "## Q26. What does the sns.pairplot() function do in Seaborn?\n",
    "1. Plots a single pair of variables\n",
    "2. Creates a scatter plot\n",
    "3. Plots pairwise relationships in a dataset\n",
    "4. Creates a bar plot"
   ]
  },
  {
   "cell_type": "markdown",
   "metadata": {},
   "source": [
    "**Correct Answer:** **3. Plots pairwise relationships in a dataset**  \n",
    "\n",
    "**Explanation:** `sns.pairplot()` creates a grid of scatter plots for all pairs of variables in a dataset, helping to visualize relationships and distributions."
   ]
  },
  {
   "cell_type": "code",
   "execution_count": null,
   "metadata": {
    "vscode": {
     "languageId": "plaintext"
    }
   },
   "outputs": [],
   "source": []
  },
  {
   "cell_type": "markdown",
   "metadata": {},
   "source": [
    "## Q27. Which of the following is NOT a type of plot in Matplotlib?\n",
    "1. Line plot\n",
    "2. DataFrame plot\n",
    "3. Scatter plot\n",
    "4. Bar plot"
   ]
  },
  {
   "cell_type": "markdown",
   "metadata": {},
   "source": [
    "**Correct Answer:** **2. DataFrame plot**  \n",
    "\n",
    "**Explanation:** **DataFrame plot** is not a direct plot type in Matplotlib. Matplotlib has built-in plot types like line, scatter, and bar plots. **DataFrame plot** refers to pandas' `.plot()` method for plotting DataFrame data."
   ]
  },
  {
   "cell_type": "code",
   "execution_count": null,
   "metadata": {
    "vscode": {
     "languageId": "plaintext"
    }
   },
   "outputs": [],
   "source": []
  },
  {
   "cell_type": "markdown",
   "metadata": {},
   "source": [
    "## Q28. Which Pandas function is used to concatenate DataFrames?\n",
    "1. pd.concat()\n",
    "2. pd.append()\n",
    "3. pd.join()\n",
    "4. pd.merge()"
   ]
  },
  {
   "cell_type": "markdown",
   "metadata": {},
   "source": [
    "**Correct Answer:** **1. pd.concat()**  \n",
    "\n",
    "**Explanation:** `pd.concat()` is used to concatenate multiple **DataFrames** along a particular axis (rows or columns), combining them into a single DataFrame."
   ]
  },
  {
   "cell_type": "code",
   "execution_count": null,
   "metadata": {
    "vscode": {
     "languageId": "plaintext"
    }
   },
   "outputs": [],
   "source": []
  },
  {
   "cell_type": "code",
   "execution_count": null,
   "metadata": {
    "vscode": {
     "languageId": "plaintext"
    }
   },
   "outputs": [],
   "source": []
  }
 ],
 "metadata": {
  "language_info": {
   "name": "python"
  }
 },
 "nbformat": 4,
 "nbformat_minor": 2
}
