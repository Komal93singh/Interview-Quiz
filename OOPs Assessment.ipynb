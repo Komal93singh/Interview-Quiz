{
 "cells": [
  {
   "cell_type": "markdown",
   "metadata": {},
   "source": [
    "# OOPs Assessment"
   ]
  },
  {
   "cell_type": "markdown",
   "metadata": {},
   "source": [
    "## Q1. Which keyword is used to define an abstract method in Python?\n",
    "1. 'abstract' \n",
    "2. 'def' \n",
    "3. 'pass' \n",
    "4. '@abstractmethod'"
   ]
  },
  {
   "cell_type": "markdown",
   "metadata": {},
   "source": [
    "The correct answer is:  \n",
    "\n",
    "**4. `@abstractmethod`**  \n",
    "\n",
    "### Explanation:  \n",
    "- The `@abstractmethod` decorator from the `abc` module is used to define an abstract method in an abstract class.  \n",
    "- It ensures that subclasses must implement the method.  \n",
    "\n",
    "Example:  \n",
    "```python\n",
    "from abc import ABC, abstractmethod\n",
    "\n",
    "class MyClass(ABC):\n",
    "    @abstractmethod\n",
    "    def my_method(self):\n",
    "        pass  # Must be implemented by subclasses\n",
    "```"
   ]
  },
  {
   "cell_type": "code",
   "execution_count": null,
   "metadata": {
    "vscode": {
     "languageId": "plaintext"
    }
   },
   "outputs": [],
   "source": []
  },
  {
   "cell_type": "markdown",
   "metadata": {},
   "source": [
    "## Q2. What is a mixin in object-oriented programming? \n",
    "1. A class that is used to provide a default implementation of methods\n",
    "2. A class that is used to add functionality to other classes through inheritance \n",
    "3. A class that defines methods without providing any implementation \n",
    "4. A class that is used to create objects with default attributes"
   ]
  },
  {
   "cell_type": "markdown",
   "metadata": {},
   "source": [
    "The correct answer is:  \n",
    "\n",
    "**2. A class that is used to add functionality to other classes through inheritance**  \n",
    "\n",
    "### Explanation:  \n",
    "- A **mixin** is a class that provides additional functionality to other classes via multiple inheritance.  \n",
    "- It is not meant to be instantiated on its own.  \n",
    "\n",
    "Example:  \n",
    "```python\n",
    "class LoggingMixin:\n",
    "    def log(self, message):\n",
    "        print(f\"Log: {message}\")\n",
    "\n",
    "class MyClass(LoggingMixin):\n",
    "    def process(self):\n",
    "        self.log(\"Processing data\")\n",
    "\n",
    "obj = MyClass()\n",
    "obj.process()  # Output: Log: Processing data\n",
    "```"
   ]
  },
  {
   "cell_type": "code",
   "execution_count": null,
   "metadata": {
    "vscode": {
     "languageId": "plaintext"
    }
   },
   "outputs": [],
   "source": []
  },
  {
   "cell_type": "markdown",
   "metadata": {},
   "source": [
    "## Q3. In the context of inheritance, what is meant by \"method resolution order\" (MRO) in python? \n",
    "1. The order in which methods are called in a class \n",
    "2. The order in which methods are inherited from multiple parent classes \n",
    "3. The order in which methods are executed during program runtime \n",
    "4. The order in which methods are defined in a class"
   ]
  },
  {
   "cell_type": "markdown",
   "metadata": {},
   "source": [
    "The correct answer is:  \n",
    "\n",
    "**2. The order in which methods are inherited from multiple parent classes**  \n",
    "\n",
    "### Explanation:  \n",
    "- **Method Resolution Order (MRO)** defines the sequence in which Python looks for methods in a class hierarchy.  \n",
    "- It follows the **C3 Linearization (DFS + Left-to-Right order)** in multiple inheritance.  \n",
    "- You can check MRO using `ClassName.__mro__` or `ClassName.mro()`.  \n",
    "\n",
    "Example:  \n",
    "```python\n",
    "class A: pass\n",
    "class B(A): pass\n",
    "class C(A): pass\n",
    "class D(B, C): pass\n",
    "\n",
    "print(D.mro())  # Shows the method resolution order\n",
    "```"
   ]
  },
  {
   "cell_type": "code",
   "execution_count": null,
   "metadata": {
    "vscode": {
     "languageId": "plaintext"
    }
   },
   "outputs": [],
   "source": []
  },
  {
   "cell_type": "markdown",
   "metadata": {},
   "source": [
    "## Q4. Which principle allows a class to be used in place of another class with a similar interface, without affecting the correctness of the program? \n",
    "1. Encapsulation \n",
    "2. Inheritance \n",
    "3. Polymorphism \n",
    "4. Abstraction "
   ]
  },
  {
   "cell_type": "markdown",
   "metadata": {},
   "source": [
    "The correct answer is:  \n",
    "\n",
    "**3. Polymorphism**  \n",
    "\n",
    "### Explanation:  \n",
    "- **Polymorphism** allows objects of different classes to be treated as objects of a common superclass, as long as they implement the same interface or method.  \n",
    "- It enables one class to be used in place of another, maintaining the program's correctness.\n",
    "\n",
    "Example:  \n",
    "```python\n",
    "class Dog:\n",
    "    def speak(self):\n",
    "        return \"Bark\"\n",
    "\n",
    "class Cat:\n",
    "    def speak(self):\n",
    "        return \"Meow\"\n",
    "\n",
    "def make_animal_speak(animal):\n",
    "    print(animal.speak())\n",
    "\n",
    "make_animal_speak(Dog())  # Outputs: Bark\n",
    "make_animal_speak(Cat())  # Outputs: Meow\n",
    "```"
   ]
  },
  {
   "cell_type": "code",
   "execution_count": null,
   "metadata": {
    "vscode": {
     "languageId": "plaintext"
    }
   },
   "outputs": [],
   "source": []
  },
  {
   "cell_type": "markdown",
   "metadata": {},
   "source": [
    "## Q5. Which keyword is used to prevent a method from being overridden in a subclass in java? \n",
    "1. 'static' \n",
    "2. 'final' \n",
    "3. 'private' \n",
    "4. 'abstract'"
   ]
  },
  {
   "cell_type": "markdown",
   "metadata": {},
   "source": [
    "The correct answer is:  \n",
    "\n",
    "**2. 'final'**  \n",
    "\n",
    "### Explanation:  \n",
    "- The `final` keyword in Java is used to prevent a method from being overridden in a subclass.  \n",
    "- It can also be applied to variables and classes to prevent modification or inheritance, respectively.  \n",
    "\n",
    "Example:  \n",
    "```java\n",
    "class Parent {\n",
    "    public final void myMethod() {\n",
    "        System.out.println(\"This cannot be overridden.\");\n",
    "    }\n",
    "}\n",
    "```"
   ]
  },
  {
   "cell_type": "code",
   "execution_count": null,
   "metadata": {
    "vscode": {
     "languageId": "plaintext"
    }
   },
   "outputs": [],
   "source": []
  },
  {
   "cell_type": "markdown",
   "metadata": {},
   "source": [
    "## Q6. In which scenario would you prefer to use an interface in a language that supports it? \n",
    "1. When you want to provide a default implementation for all methods \n",
    "2. When you want to enforce a contract that classes must follow, without defining how the methods are implemented \n",
    "3. When you want to create a new class with predefined attributes \n",
    "4. When you need to create a class that can only be used once "
   ]
  },
  {
   "cell_type": "markdown",
   "metadata": {},
   "source": [
    "The correct answer is:  \n",
    "\n",
    "**2. When you want to enforce a contract that classes must follow, without defining how the methods are implemented**  \n",
    "\n",
    "### Explanation:  \n",
    "- An **interface** defines a contract for classes, specifying the methods they must implement, but not how they should do so.  \n",
    "- It allows multiple classes to implement the same interface with their own method definitions.  \n",
    "\n",
    "Example:  \n",
    "```java\n",
    "interface Animal {\n",
    "    void sound();  // No implementation\n",
    "}\n",
    "\n",
    "class Dog implements Animal {\n",
    "    public void sound() {\n",
    "        System.out.println(\"Bark\");\n",
    "    }\n",
    "}\n",
    "```"
   ]
  },
  {
   "cell_type": "code",
   "execution_count": null,
   "metadata": {
    "vscode": {
     "languageId": "plaintext"
    }
   },
   "outputs": [],
   "source": []
  },
  {
   "cell_type": "markdown",
   "metadata": {},
   "source": [
    "## Q7. Which of the following is NOT a feature of encapsulation in OOP? \n",
    "1. Hiding internal state \n",
    "2. Provide public methods to access and modify private data \n",
    "3. Creating instances of a class \n",
    "4. Restricting access to the internal representation of objects "
   ]
  },
  {
   "cell_type": "markdown",
   "metadata": {},
   "source": [
    "The correct answer is:  \n",
    "\n",
    "**3. Creating instances of a class**  \n",
    "\n",
    "### Explanation:  \n",
    "- **Encapsulation** focuses on **hiding internal state** and **restricting access** to an object's internal data, typically by using private fields and providing public methods for access.  \n",
    "- **Creating instances of a class** is related to object instantiation, not encapsulation.\n",
    "\n",
    "Example:  \n",
    "```java\n",
    "class Person {\n",
    "    private String name;  // Hides internal state\n",
    "    \n",
    "    public String getName() {  // Public method to access private data\n",
    "        return name;\n",
    "    }\n",
    "    \n",
    "    public void setName(String name) {  // Public method to modify private data\n",
    "        this.name = name;\n",
    "    }\n",
    "}\n",
    "```"
   ]
  },
  {
   "cell_type": "code",
   "execution_count": null,
   "metadata": {
    "vscode": {
     "languageId": "plaintext"
    }
   },
   "outputs": [],
   "source": []
  },
  {
   "cell_type": "markdown",
   "metadata": {},
   "source": [
    "## Q8. How do you define a properly in Python that can be accessed like an attribute but computed dynamically? \n",
    "1. Using the '@staticmethod' decorator \n",
    "2. Using the '@property' decorator \n",
    "3. Using the '@classmethod' decorator\n",
    "4. Using the '@abstractmethod' decorator "
   ]
  },
  {
   "cell_type": "markdown",
   "metadata": {},
   "source": [
    "The correct answer is:  \n",
    "\n",
    "**2. Using the '@property' decorator**  \n",
    "\n",
    "### Explanation:  \n",
    "- The `@property` decorator allows you to define a method that can be accessed like an attribute, but it computes the value dynamically when accessed.  \n",
    "- It enables the use of a method while keeping the syntax of an attribute.\n",
    "\n",
    "Example:  \n",
    "```python\n",
    "class Circle:\n",
    "    def __init__(self, radius):\n",
    "        self._radius = radius\n",
    "    \n",
    "    @property\n",
    "    def area(self):\n",
    "        return 3.14 * (self._radius ** 2)\n",
    "\n",
    "circle = Circle(5)\n",
    "print(circle.area)  # Dynamically computed like an attribute\n",
    "```"
   ]
  },
  {
   "cell_type": "code",
   "execution_count": null,
   "metadata": {
    "vscode": {
     "languageId": "plaintext"
    }
   },
   "outputs": [],
   "source": []
  },
  {
   "cell_type": "markdown",
   "metadata": {},
   "source": [
    "## Q9. Which of the following is true about private methods in Python? \n",
    "1. They are accessible from outside the class \n",
    "2. They can only be accessed within the class itself \n",
    "3. They are accessible i subclasses \n",
    "4. They are automatically inherited by subclass "
   ]
  },
  {
   "cell_type": "markdown",
   "metadata": {},
   "source": [
    "The correct answer is:  \n",
    "\n",
    "**2. They can only be accessed within the class itself**  \n",
    "\n",
    "### Explanation:  \n",
    "- Private methods in Python are not strictly private. They are accessible within the class and subclasses, but they are name-mangled by prepending `_ClassName` to the method name (e.g., `_MyClass__method`).  \n",
    "- They are not intended for external access but can still be accessed in subclasses.\n",
    "\n",
    "Example:  \n",
    "```python\n",
    "class Parent:\n",
    "    def __private_method(self):\n",
    "        print(\"Private method\")\n",
    "\n",
    "class Child(Parent):\n",
    "    def access_private(self):\n",
    "        self._Parent__private_method()  # Accessed in subclass\n",
    "\n",
    "child = Child()\n",
    "child.access_private()  # Works in subclass, but not from outside\n",
    "```"
   ]
  },
  {
   "cell_type": "code",
   "execution_count": null,
   "metadata": {
    "vscode": {
     "languageId": "plaintext"
    }
   },
   "outputs": [],
   "source": []
  },
  {
   "cell_type": "markdown",
   "metadata": {},
   "source": [
    "## Q10. What is method chaining? \n",
    "1. Calling multiple methods on different objects \n",
    "2. Calling multiple methods in sequence on the same object\n",
    "3. Defining multiple methods in the same class \n",
    "4. Overriding methods in different classes "
   ]
  },
  {
   "cell_type": "markdown",
   "metadata": {},
   "source": [
    "The correct answer is:  \n",
    "\n",
    "**2. Calling multiple methods in sequence on the same object**  \n",
    "\n",
    "### Explanation:  \n",
    "- **Method chaining** allows you to call multiple methods on the same object in a single statement by returning the object itself from each method.  \n",
    "- It helps to write more concise and readable code.\n",
    "\n",
    "Example:  \n",
    "```python\n",
    "class Car:\n",
    "    def start(self):\n",
    "        print(\"Car started\")\n",
    "        return self\n",
    "    \n",
    "    def drive(self):\n",
    "        print(\"Car is driving\")\n",
    "        return self\n",
    "\n",
    "car = Car()\n",
    "car.start().drive()  # Method chaining: multiple methods on the same object\n",
    "```"
   ]
  },
  {
   "cell_type": "code",
   "execution_count": null,
   "metadata": {
    "vscode": {
     "languageId": "plaintext"
    }
   },
   "outputs": [],
   "source": []
  },
  {
   "cell_type": "markdown",
   "metadata": {},
   "source": [
    "## Q11. What is the benefit of using composition over inheritance? \n",
    "1. Composition leads to better performance \n",
    "2. Composition allows for more flexibility and reduces tight coupling \n",
    "3. Composition avoids the use of constructors\n",
    "4. Composition simplifies multiple inheritance "
   ]
  },
  {
   "cell_type": "markdown",
   "metadata": {},
   "source": [
    "The correct answer is:  \n",
    "\n",
    "**2. Composition allows for more flexibility and reduces tight coupling**  \n",
    "\n",
    "### Explanation:  \n",
    "- **Composition** allows objects to be built using other objects, leading to more flexible designs and less tight coupling between classes, compared to inheritance.  \n",
    "- It helps avoid the rigidity of class hierarchies and allows for easier changes and maintenance.\n",
    "\n",
    "Example:  \n",
    "```python\n",
    "class Engine:\n",
    "    def start(self):\n",
    "        print(\"Engine started\")\n",
    "\n",
    "class Car:\n",
    "    def __init__(self, engine):\n",
    "        self.engine = engine  # Composition: Car has an Engine\n",
    "\n",
    "    def start(self):\n",
    "        self.engine.start()  # Delegating behavior to the Engine\n",
    "\n",
    "engine = Engine()\n",
    "car = Car(engine)\n",
    "car.start()  # Car starts by using Engine's start method\n",
    "```"
   ]
  },
  {
   "cell_type": "code",
   "execution_count": null,
   "metadata": {
    "vscode": {
     "languageId": "plaintext"
    }
   },
   "outputs": [],
   "source": []
  },
  {
   "cell_type": "markdown",
   "metadata": {},
   "source": [
    "## Q12. Which concept is being used when a subclass is able to use methods from its parent class and add new methods? \n",
    "1. Encapsulation\n",
    "2. Inheritance\n",
    "3. Polymorphism\n",
    "4. Abstraction "
   ]
  },
  {
   "cell_type": "markdown",
   "metadata": {},
   "source": [
    "The correct answer is:  \n",
    "\n",
    "**2. Inheritance**  \n",
    "\n",
    "### Explanation:  \n",
    "- **Inheritance** allows a subclass to use methods and properties from its parent class while adding new methods or overriding existing ones.  \n",
    "- It promotes code reuse and a hierarchical relationship between classes.\n",
    "\n",
    "Example:  \n",
    "```python\n",
    "class Animal:\n",
    "    def speak(self):\n",
    "        return \"Animal sound\"\n",
    "\n",
    "class Dog(Animal):\n",
    "    def speak(self):\n",
    "        return \"Bark\"\n",
    "\n",
    "dog = Dog()\n",
    "print(dog.speak())  # Uses method from Dog (overrides parent class)\n",
    "```"
   ]
  },
  {
   "cell_type": "code",
   "execution_count": null,
   "metadata": {
    "vscode": {
     "languageId": "plaintext"
    }
   },
   "outputs": [],
   "source": []
  },
  {
   "cell_type": "markdown",
   "metadata": {},
   "source": [
    "## Q13. What is the purpose of the 'self' keyword in Python classes?\n",
    "1. To refer to the class itself\n",
    "2. To refer to the superclass \n",
    "3. To refer to the instance of the class \n",
    "4. To create new classes "
   ]
  },
  {
   "cell_type": "markdown",
   "metadata": {},
   "source": [
    "The correct answer is:  \n",
    "\n",
    "**3. To refer to the instance of the class**  \n",
    "\n",
    "### Explanation:  \n",
    "- The `self` keyword in Python is used to refer to the current instance of the class within its methods. It allows access to instance attributes and methods.  \n",
    "- It's a convention, not a keyword, and it differentiates instance variables from local variables.\n",
    "\n",
    "Example:  \n",
    "```python\n",
    "class Dog:\n",
    "    def __init__(self, name):\n",
    "        self.name = name  # 'self' refers to the instance\n",
    "    \n",
    "    def speak(self):\n",
    "        return f\"{self.name} says woof!\"\n",
    "\n",
    "dog = Dog(\"Buddy\")\n",
    "print(dog.speak())  # 'self' refers to the instance 'dog'\n",
    "```"
   ]
  },
  {
   "cell_type": "code",
   "execution_count": null,
   "metadata": {
    "vscode": {
     "languageId": "plaintext"
    }
   },
   "outputs": [],
   "source": []
  },
  {
   "cell_type": "markdown",
   "metadata": {},
   "source": [
    "## Q14. What does the term \"composition\" refer to in object-oriented programming? \n",
    "1. A class inherits from another class\n",
    "2. A class contains instances of other classes\n",
    "3. A class overrides methods from its parent class\n",
    "4. A class implements multiple interfaces"
   ]
  },
  {
   "cell_type": "markdown",
   "metadata": {},
   "source": [
    "The correct answer is:  \n",
    "\n",
    "**2. A class contains instances of other classes**  \n",
    "\n",
    "### Explanation:  \n",
    "- **Composition** in OOP refers to a class containing instances of other classes, creating relationships between objects. It models \"has-a\" relationships, as opposed to inheritance, which models \"is-a\" relationships.\n",
    "\n",
    "Example:  \n",
    "```python\n",
    "class Engine:\n",
    "    def start(self):\n",
    "        return \"Engine started\"\n",
    "\n",
    "class Car:\n",
    "    def __init__(self):\n",
    "        self.engine = Engine()  # Composition: Car has an Engine\n",
    "    \n",
    "    def start(self):\n",
    "        return self.engine.start()\n",
    "\n",
    "car = Car()\n",
    "print(car.start())  # Delegates behavior to the Engine\n",
    "```"
   ]
  },
  {
   "cell_type": "code",
   "execution_count": null,
   "metadata": {
    "vscode": {
     "languageId": "plaintext"
    }
   },
   "outputs": [],
   "source": []
  },
  {
   "cell_type": "markdown",
   "metadata": {},
   "source": [
    "## Q15. What does the principle of polymorphism allow you to do?\n",
    "1. Create multiple objects of different classes with the same interface \n",
    "2. Define methods with different names in the same class \n",
    "3. Override methods in a subclass \n",
    "4. Use a single class to represent multiple types"
   ]
  },
  {
   "cell_type": "markdown",
   "metadata": {},
   "source": [
    "The correct answer is:  \n",
    "\n",
    "**1. Create multiple objects of different classes with the same interface**  \n",
    "\n",
    "### Explanation:  \n",
    "- **Polymorphism** allows objects of different classes to be treated as objects of a common interface or superclass, enabling them to be used interchangeably, as long as they implement the same methods.\n",
    "\n",
    "Example:  \n",
    "```python\n",
    "class Dog:\n",
    "    def speak(self):\n",
    "        return \"Bark\"\n",
    "\n",
    "class Cat:\n",
    "    def speak(self):\n",
    "        return \"Meow\"\n",
    "\n",
    "def make_animal_speak(animal):\n",
    "    print(animal.speak())\n",
    "\n",
    "make_animal_speak(Dog())  # Outputs: Bark\n",
    "make_animal_speak(Cat())  # Outputs: Meow\n",
    "```"
   ]
  },
  {
   "cell_type": "code",
   "execution_count": null,
   "metadata": {
    "vscode": {
     "languageId": "plaintext"
    }
   },
   "outputs": [],
   "source": []
  },
  {
   "cell_type": "markdown",
   "metadata": {},
   "source": [
    "## Q16. What is an abstract class?\n",
    "1. A class that cannot be instantiated and contains one or more abstract methods \n",
    "2. A class that has only private methods\n",
    "3. A class that can be instantiated and has no methods \n",
    "4. A class contains only static methods"
   ]
  },
  {
   "cell_type": "markdown",
   "metadata": {},
   "source": [
    "The correct answer is:  \n",
    "\n",
    "**1. A class that cannot be instantiated and contains one or more abstract methods**  \n",
    "\n",
    "### Explanation:  \n",
    "- An **abstract class** cannot be instantiated directly. It may contain **abstract methods**, which must be implemented by subclasses. It provides a blueprint for other classes.\n",
    "\n",
    "Example:  \n",
    "```python\n",
    "from abc import ABC, abstractmethod\n",
    "\n",
    "class Animal(ABC):\n",
    "    @abstractmethod\n",
    "    def speak(self):\n",
    "        pass\n",
    "\n",
    "# animal = Animal()  # This will raise an error as Animal is abstract\n",
    "```"
   ]
  },
  {
   "cell_type": "code",
   "execution_count": null,
   "metadata": {
    "vscode": {
     "languageId": "plaintext"
    }
   },
   "outputs": [],
   "source": []
  },
  {
   "cell_type": "markdown",
   "metadata": {},
   "source": [
    "## Q17. In Python, how can you achieve method overloading? \n",
    "1. By definig multiple methods with the same name but different arguments \n",
    "2. By using default arguments or variable-length argument lists \n",
    "3. By using multiple inheritance \n",
    "4. By defining methods with different names "
   ]
  },
  {
   "cell_type": "markdown",
   "metadata": {},
   "source": [
    "The correct answer is:  \n",
    "\n",
    "**2. By using default arguments or variable-length argument lists**  \n",
    "\n",
    "### Explanation:  \n",
    "- Python does not support traditional method overloading (same method name with different signatures). Instead, you can achieve similar behavior by using **default arguments** or **variable-length arguments** (e.g., `*args`, `**kwargs`).\n",
    "\n",
    "Example:  \n",
    "```python\n",
    "def greet(name, message=\"Hello\"):\n",
    "    print(f\"{message}, {name}!\")\n",
    "\n",
    "greet(\"Alice\")  # Uses default argument\n",
    "greet(\"Bob\", \"Good morning\")  # Overloaded behavior using different arguments\n",
    "```"
   ]
  },
  {
   "cell_type": "code",
   "execution_count": null,
   "metadata": {
    "vscode": {
     "languageId": "plaintext"
    }
   },
   "outputs": [],
   "source": []
  },
  {
   "cell_type": "markdown",
   "metadata": {},
   "source": [
    "## Q18. What is the difference between public, protected, and private access modifiers in Python?\n",
    "1. Public attributes are accessible everywhere; protected attributes are accessible in subclasses; private attributes are accessible only within the class \n",
    "2. Public attributes are accessible within the class; protected attributes are accessible in everywhere; private attributes are accessible in subclasses \n",
    "3. Public attributes are accessible only within the class; protected attributes are accessible in subclasses; private attributes are accessible everywhere \n",
    "4. Public attributes are accessible within the class and subclasses; protected attributes are accessible everywhere; private attributes are accessible only within the class "
   ]
  },
  {
   "cell_type": "markdown",
   "metadata": {},
   "source": [
    "The correct answer is:  \n",
    "\n",
    "**1. Public attributes are accessible everywhere; protected attributes are accessible in subclasses; private attributes are accessible only within the class**  \n",
    "\n",
    "### Explanation:  \n",
    "- **Public**: Accessible everywhere (no leading underscores).\n",
    "- **Protected**: Accessible within the class and subclasses (single leading underscore, `_attribute`).\n",
    "- **Private**: Accessible only within the class itself (double leading underscore, `__attribute`).\n",
    "\n",
    "Example:  \n",
    "```python\n",
    "class MyClass:\n",
    "    public_attr = 1\n",
    "    _protected_attr = 2\n",
    "    __private_attr = 3\n",
    "\n",
    "obj = MyClass()\n",
    "print(obj.public_attr)  # Accessible everywhere\n",
    "print(obj._protected_attr)  # Accessible within class and subclasses\n",
    "# print(obj.__private_attr)  # Error: private attribute cannot be accessed outside\n",
    "```"
   ]
  },
  {
   "cell_type": "code",
   "execution_count": null,
   "metadata": {
    "vscode": {
     "languageId": "plaintext"
    }
   },
   "outputs": [],
   "source": []
  },
  {
   "cell_type": "markdown",
   "metadata": {},
   "source": [
    "## Q19. What is the purpose of the '__init__' method in Python? \n",
    "1. To define private attributes \n",
    "2. To initializes class attributes when an object is created \n",
    "3. To delete an object's attributes \n",
    "4. To create a new class "
   ]
  },
  {
   "cell_type": "markdown",
   "metadata": {},
   "source": [
    "The correct answer is:  \n",
    "\n",
    "**2. To initialize class attributes when an object is created**  \n",
    "\n",
    "### Explanation:  \n",
    "- The `__init__` method is the **constructor** in Python, used to initialize an object's attributes when it is created.  \n",
    "- It allows you to set initial values for instance variables.\n",
    "\n",
    "Example:  \n",
    "```python\n",
    "class Dog:\n",
    "    def __init__(self, name, age):\n",
    "        self.name = name  # Initializes attributes\n",
    "        self.age = age\n",
    "\n",
    "dog = Dog(\"Buddy\", 5)  # Initializes 'name' and 'age' when creating the object\n",
    "```"
   ]
  },
  {
   "cell_type": "code",
   "execution_count": null,
   "metadata": {
    "vscode": {
     "languageId": "plaintext"
    }
   },
   "outputs": [],
   "source": []
  },
  {
   "cell_type": "markdown",
   "metadata": {},
   "source": [
    "## Q20. What is method overriding in OOP?\n",
    "1. A method in a subclass with a different name than in the superclass\n",
    "2. A method in a superclass with a different implementation in the subclass \n",
    "3. A method in a subclass with the same name as in the superclass but a different implementation \n",
    "4. A method in a class that cannot be overridden"
   ]
  },
  {
   "cell_type": "markdown",
   "metadata": {},
   "source": [
    "The correct answer is:  \n",
    "\n",
    "**3. A method in a subclass with the same name as in the superclass but a different implementation**  \n",
    "\n",
    "### Explanation:  \n",
    "- **Method overriding** occurs when a subclass provides a **new implementation** for a method that is already defined in its superclass, using the same method name and signature.\n",
    "\n",
    "Example:  \n",
    "```python\n",
    "class Animal:\n",
    "    def speak(self):\n",
    "        return \"Animal sound\"\n",
    "\n",
    "class Dog(Animal):\n",
    "    def speak(self):  # Overriding the superclass method\n",
    "        return \"Bark\"\n",
    "\n",
    "dog = Dog()\n",
    "print(dog.speak())  # Outputs: Bark\n",
    "```"
   ]
  },
  {
   "cell_type": "code",
   "execution_count": null,
   "metadata": {
    "vscode": {
     "languageId": "plaintext"
    }
   },
   "outputs": [],
   "source": []
  },
  {
   "cell_type": "markdown",
   "metadata": {},
   "source": [
    "### Q21. Which method is used to call a parent class's method from a subclass?\n",
    "1. 'this()' \n",
    "2. 'super()' \n",
    "3. 'base()' \n",
    "4. 'parent()' "
   ]
  },
  {
   "cell_type": "markdown",
   "metadata": {},
   "source": [
    "The correct answer is:  \n",
    "\n",
    "**2. 'super()'**  \n",
    "\n",
    "### Explanation:  \n",
    "- The `super()` function is used to call a method from a **parent class** within a subclass, typically to extend or modify its behavior.\n",
    "\n",
    "Example:  \n",
    "```python\n",
    "class Animal:\n",
    "    def speak(self):\n",
    "        return \"Animal sound\"\n",
    "\n",
    "class Dog(Animal):\n",
    "    def speak(self):\n",
    "        return super().speak() + \" and bark\"  # Calling parent method using super()\n",
    "\n",
    "dog = Dog()\n",
    "print(dog.speak())  # Outputs: Animal sound and bark\n",
    "```"
   ]
  },
  {
   "cell_type": "code",
   "execution_count": null,
   "metadata": {
    "vscode": {
     "languageId": "plaintext"
    }
   },
   "outputs": [],
   "source": []
  },
  {
   "cell_type": "markdown",
   "metadata": {},
   "source": [
    "## Q22. What is the key difference between an abstract class and an interface? \n",
    "1. Abstract classes can only have abstract methods, while interfaces can have concrete methods.\n",
    "2. Abstract classes can have both abstract methods and concrete methods, while interfaces can have abstract methods. \n",
    "3. Abstract classes cannot have constructors, while interfaces can. \n",
    "4. Abstract classes can be instantiated, while interfaces cannot."
   ]
  },
  {
   "cell_type": "markdown",
   "metadata": {},
   "source": [
    "The correct answer is:  \n",
    "\n",
    "**2. Abstract classes can have both abstract methods and concrete methods, while interfaces can have abstract methods**  \n",
    "\n",
    "### Explanation:  \n",
    "- **Abstract classes** can have both **abstract methods** (without implementation) and **concrete methods** (with implementation).  \n",
    "- **Interfaces** typically contain only **abstract methods** (method signatures without implementation) in languages like Java, although modern languages (e.g., Python, Java 8+) allow default methods in interfaces.\n",
    "\n",
    "Example:  \n",
    "- **Abstract class**: Can have both abstract and concrete methods.\n",
    "- **Interface**: Primarily focuses on method signatures (abstract methods)."
   ]
  },
  {
   "cell_type": "code",
   "execution_count": null,
   "metadata": {
    "vscode": {
     "languageId": "plaintext"
    }
   },
   "outputs": [],
   "source": []
  },
  {
   "cell_type": "markdown",
   "metadata": {},
   "source": [
    "## Q23. What is the purpose of the 'super()' function in Python? \n",
    "1. To call a method from the parent class \n",
    "2. To create a new instance of a parent class \n",
    "3. To override a method in the parent class \n",
    "4. To access private attributes of the parent class "
   ]
  },
  {
   "cell_type": "markdown",
   "metadata": {},
   "source": [
    "The correct answer is:  \n",
    "\n",
    "**1. To call a method from the parent class**  \n",
    "\n",
    "### Explanation:  \n",
    "- The `super()` function is used to call a method from the **parent class** (or superclass) in a subclass. It allows you to extend or modify the behavior of inherited methods.\n",
    "\n",
    "Example:  \n",
    "```python\n",
    "class Animal:\n",
    "    def speak(self):\n",
    "        return \"Animal sound\"\n",
    "\n",
    "class Dog(Animal):\n",
    "    def speak(self):\n",
    "        return super().speak() + \" and bark\"\n",
    "\n",
    "dog = Dog()\n",
    "print(dog.speak())  # Outputs: Animal sound and bark\n",
    "```"
   ]
  },
  {
   "cell_type": "code",
   "execution_count": null,
   "metadata": {
    "vscode": {
     "languageId": "plaintext"
    }
   },
   "outputs": [],
   "source": []
  },
  {
   "cell_type": "markdown",
   "metadata": {},
   "source": [
    "## Q24. What is the purpose of the '@classmethod' decorator in Python? \n",
    "1. To define a method that can be called on an instance of the class \n",
    "2. To define a method that can be called on the class itself, rather than an instance \n",
    "3. To define a method that is automatically overridden \n",
    "4. To define a method that is abstract and must be implemented by subclasses "
   ]
  },
  {
   "cell_type": "markdown",
   "metadata": {},
   "source": [
    "The correct answer is:  \n",
    "\n",
    "**2. To define a method that can be called on the class itself, rather than an instance**  \n",
    "\n",
    "### Explanation:  \n",
    "- The `@classmethod` decorator is used to define a method that takes the **class** itself as its first argument (typically named `cls`), rather than an instance. It can be called on the class without creating an instance.\n",
    "\n",
    "Example:  \n",
    "```python\n",
    "class MyClass:\n",
    "    @classmethod\n",
    "    def greet(cls):\n",
    "        print(f\"Hello from {cls}\")\n",
    "\n",
    "MyClass.greet()  # Called on the class, not an instance\n",
    "```"
   ]
  },
  {
   "cell_type": "code",
   "execution_count": null,
   "metadata": {
    "vscode": {
     "languageId": "plaintext"
    }
   },
   "outputs": [],
   "source": []
  },
  {
   "cell_type": "markdown",
   "metadata": {},
   "source": [
    "## Q25. Which of the following statements about multiple inheritance in Python is true?\n",
    "1. Python does not support multiple inheritance. \n",
    "2. Multiple inheritance is onle allowed in Python if all parent classes are abstract 3. Python supports multiple inheritance using the Method Resolution Order (MRO) to handle conflicts 4. Multiple inheritance is supported but only for classes that do not have any methods."
   ]
  },
  {
   "cell_type": "markdown",
   "metadata": {},
   "source": [
    "The correct answer is:  \n",
    "\n",
    "**3. Python supports multiple inheritance using the Method Resolution Order (MRO) to handle conflicts**  \n",
    "\n",
    "### Explanation:  \n",
    "- **Python supports multiple inheritance**, allowing a class to inherit from more than one parent class.  \n",
    "- The **Method Resolution Order (MRO)** determines the order in which methods are called from multiple parent classes, resolving conflicts if the same method exists in multiple parents.\n",
    "\n",
    "Example:  \n",
    "```python\n",
    "class A:\n",
    "    def speak(self):\n",
    "        return \"A speaks\"\n",
    "\n",
    "class B:\n",
    "    def speak(self):\n",
    "        return \"B speaks\"\n",
    "\n",
    "class C(A, B):\n",
    "    pass\n",
    "\n",
    "c = C()\n",
    "print(c.speak())  # Uses MRO to call method from A first\n",
    "```"
   ]
  },
  {
   "cell_type": "code",
   "execution_count": null,
   "metadata": {
    "vscode": {
     "languageId": "plaintext"
    }
   },
   "outputs": [],
   "source": []
  },
  {
   "cell_type": "code",
   "execution_count": null,
   "metadata": {
    "vscode": {
     "languageId": "plaintext"
    }
   },
   "outputs": [],
   "source": []
  }
 ],
 "metadata": {
  "language_info": {
   "name": "python"
  }
 },
 "nbformat": 4,
 "nbformat_minor": 2
}
