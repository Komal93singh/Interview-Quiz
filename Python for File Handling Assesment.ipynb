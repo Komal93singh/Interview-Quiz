{
 "cells": [
  {
   "cell_type": "markdown",
   "metadata": {},
   "source": [
    "# Python for File Handling Assesment"
   ]
  },
  {
   "cell_type": "markdown",
   "metadata": {},
   "source": [
    "## Q1. What is the correct syntax to open a file in Python?\n",
    "1. 'file = open(\"filename.txt\")'\n",
    "2. 'file = openfile(\"filename.txt\")'\n",
    "3.  'file = file.open(\"filename.txt\")'\n",
    "4.  'file = open_file(\"filename.txt\")'"
   ]
  },
  {
   "cell_type": "markdown",
   "metadata": {},
   "source": [
    "The correct syntax is:  \n",
    "\n",
    "**1. `file = open(\"filename.txt\")`**  \n",
    "\n",
    "### Explanation:  \n",
    "- `open()` is a built-in Python function for opening files.  \n",
    "- `\"filename.txt\"` is the file name (with its extension).  \n",
    "- By default, it opens the file in read mode (`'r'`).  \n",
    "\n",
    "Other options are incorrect because:  \n",
    "- `openfile()` and `open_file()` are not built-in functions.  \n",
    "- `file.open()` is incorrect; `open()` is a standalone function, not a method of `file`."
   ]
  },
  {
   "cell_type": "code",
   "execution_count": null,
   "metadata": {
    "vscode": {
     "languageId": "plaintext"
    }
   },
   "outputs": [],
   "source": []
  },
  {
   "cell_type": "markdown",
   "metadata": {},
   "source": [
    "## Q2. How can you raise an exception manually in Python?\n",
    "1. 'raise Exception(\"Error message\")'\n",
    "2. 'throw Exception(\"Error message\")'\n",
    "3. 'raise(\"Error message\")'\n",
    "4. 'throw(\"Error message\")'"
   ]
  },
  {
   "cell_type": "markdown",
   "metadata": {},
   "source": [
    "The correct syntax is:  \n",
    "\n",
    "**1. `raise Exception(\"Error message\")`**  \n",
    "\n",
    "### Explanation:  \n",
    "- `raise` is the correct keyword to manually trigger an exception.  \n",
    "- `Exception(\"Error message\")` creates an exception object with a message.  \n",
    "\n",
    "Other options are incorrect because:  \n",
    "- `throw` is not a Python keyword (used in languages like Java, C++).  \n",
    "- `raise(\"Error message\")` is incorrect because `raise` must be followed by an exception type.  \n",
    "- `throw(\"Error message\")` is invalid as `throw` does not exist in Python."
   ]
  },
  {
   "cell_type": "code",
   "execution_count": null,
   "metadata": {
    "vscode": {
     "languageId": "plaintext"
    }
   },
   "outputs": [],
   "source": []
  },
  {
   "cell_type": "markdown",
   "metadata": {},
   "source": [
    "## Q3. Which of the following exceptions cannot be caught by a 'tryexcept' block?\n",
    "1. 'KeyboardInterrupt'\n",
    "2. 'FileNotFoundError'\n",
    "3. 'IndexError'\n",
    "4. 'ZeroDivisionError'"
   ]
  },
  {
   "cell_type": "markdown",
   "metadata": {},
   "source": [
    "The correct answer is:  \n",
    "\n",
    "**1. `KeyboardInterrupt`**  \n",
    "\n",
    "### Explanation:  \n",
    "- `KeyboardInterrupt` occurs when the user interrupts execution (e.g., pressing `Ctrl+C`).  \n",
    "- It is a system-level exception that may bypass `try-except` if not handled properly.  \n",
    "\n",
    "Other exceptions **can** be caught using `try-except`:  \n",
    "- `FileNotFoundError` (raised when a file is missing).  \n",
    "- `IndexError` (raised for invalid list indexing).  \n",
    "- `ZeroDivisionError` (raised when dividing by zero)."
   ]
  },
  {
   "cell_type": "code",
   "execution_count": null,
   "metadata": {
    "vscode": {
     "languageId": "plaintext"
    }
   },
   "outputs": [],
   "source": []
  },
  {
   "cell_type": "markdown",
   "metadata": {},
   "source": [
    "## Q4. Which block is guaranteed to execute, regardless of whether an exception occurs or not?\n",
    "1. 'else'\n",
    "2. 'finally'\n",
    "3. 'except'\n",
    "4. None"
   ]
  },
  {
   "cell_type": "markdown",
   "metadata": {},
   "source": [
    "The correct answer is:  \n",
    "\n",
    "**2. `finally`**  \n",
    "\n",
    "### Explanation:  \n",
    "- The `finally` block **always** executes, regardless of whether an exception occurs or not.  \n",
    "- It is typically used for cleanup actions (e.g., closing files, releasing resources).  \n",
    "\n",
    "Other options:  \n",
    "- `else` runs **only** if no exception occurs.  \n",
    "- `except` runs **only** if an exception occurs.  \n",
    "- `None` is incorrect because `finally` is guaranteed to execute."
   ]
  },
  {
   "cell_type": "code",
   "execution_count": null,
   "metadata": {
    "vscode": {
     "languageId": "plaintext"
    }
   },
   "outputs": [],
   "source": []
  },
  {
   "cell_type": "markdown",
   "metadata": {},
   "source": [
    "## Q5. How do you specify multiple exceptions in a single 'except' block?\n",
    "1. 'except (TypeError, ValueError):'\n",
    "2. 'except TypeError, ValueError:'\n",
    "3. 'except [TypeError, ValueError]:'\n",
    "4. 'except TypeError or ValueError'"
   ]
  },
  {
   "cell_type": "markdown",
   "metadata": {},
   "source": [
    "The correct answer is:  \n",
    "\n",
    "**1. `except (TypeError, ValueError):`**  \n",
    "\n",
    "### Explanation:  \n",
    "- Multiple exceptions are specified as a **tuple** inside parentheses.  \n",
    "- This catches either `TypeError` or `ValueError`.  \n",
    "\n",
    "Other options are incorrect because:  \n",
    "- `except TypeError, ValueError:` is invalid in Python 3.  \n",
    "- `except [TypeError, ValueError]:` uses a **list**, which is incorrect.  \n",
    "- `except TypeError or ValueError` is a logical expression, not valid syntax."
   ]
  },
  {
   "cell_type": "code",
   "execution_count": null,
   "metadata": {
    "vscode": {
     "languageId": "plaintext"
    }
   },
   "outputs": [],
   "source": []
  },
  {
   "cell_type": "markdown",
   "metadata": {},
   "source": [
    "## Q6. Which is the correct syntax for a basic 'tryexcept' block in Python?\n",
    "1. '''python\n",
    "    try:\n",
    "        #code\n",
    "    except: \n",
    "        #code\n",
    "    '''\n",
    "\n",
    "2.  '''python\n",
    "    except: \n",
    "        #code\n",
    "     try:\n",
    "        #code\n",
    "    '''   \n",
    "\n",
    "3. '''python\n",
    "    try:\n",
    "        #code\n",
    "    catch: \n",
    "        #code\n",
    "    '''\n",
    "\n",
    "4. '''python\n",
    "    except try: \n",
    "        #code\n",
    "    '''"
   ]
  },
  {
   "cell_type": "markdown",
   "metadata": {},
   "source": [
    "The correct syntax for a basic `try-except` block in Python is:  \n",
    "\n",
    "```python\n",
    "try:\n",
    "    # Code that may raise an exception\n",
    "    risky_operation()\n",
    "except Exception as e:\n",
    "    # Handle the exception\n",
    "    print(f\"An error occurred: {e}\")\n",
    "```\n",
    "\n",
    "### Explanation:  \n",
    "- **`try:`** Block: Contains code that might raise an exception.  \n",
    "- **`except Exception as e:`** Catches the exception and assigns it to `e`.  \n",
    "- **Handling:** The error message is printed or handled appropriately.  \n",
    "\n",
    "This ensures the program doesn’t crash if an error occurs.\n",
    "### The correct answer is : \n",
    "**1. '''python\n",
    "    try:\n",
    "        #code\n",
    "    except: \n",
    "        #code\n",
    "    '''**"
   ]
  },
  {
   "cell_type": "code",
   "execution_count": null,
   "metadata": {
    "vscode": {
     "languageId": "plaintext"
    }
   },
   "outputs": [],
   "source": []
  },
  {
   "cell_type": "markdown",
   "metadata": {},
   "source": [
    "## Q7. Which function is used to check if a file exists before performing operations on it?\n",
    "1. 'os.path.exists()'\n",
    "2. 'os.isfile()'\n",
    "3. 'os.exists()'\n",
    "4. 'os.fileexists()'"
   ]
  },
  {
   "cell_type": "markdown",
   "metadata": {},
   "source": [
    "The correct answer is:  \n",
    "\n",
    "**1. `os.path.exists()`**  \n",
    "\n",
    "### Explanation:  \n",
    "- `os.path.exists(\"filename\")` checks if a file **or directory** exists.  \n",
    "- It returns `True` if the path exists, `False` otherwise.  \n",
    "\n",
    "Other options are incorrect because:  \n",
    "- `os.isfile()` should be `os.path.isfile()`, which checks **only files**.  \n",
    "- `os.exists()` and `os.fileexists()` do not exist in the `os` module."
   ]
  },
  {
   "cell_type": "code",
   "execution_count": null,
   "metadata": {
    "vscode": {
     "languageId": "plaintext"
    }
   },
   "outputs": [],
   "source": []
  },
  {
   "cell_type": "markdown",
   "metadata": {},
   "source": [
    "## Q8. What method is used to write multiple rows to a CSV file in one go?\n",
    "1. 'write.writerows()'\n",
    "2. 'writer.writelines()'\n",
    "3. 'writer.writeall()'\n",
    "4. 'writer.appendrows()'"
   ]
  },
  {
   "cell_type": "markdown",
   "metadata": {},
   "source": [
    "The correct answer is:  \n",
    "\n",
    "**1. `writer.writerows()`**  \n",
    "\n",
    "### Explanation:  \n",
    "- `writer.writerows(iterable)` writes multiple rows at once to a CSV file.  \n",
    "- `iterable` should be a list of lists (each inner list is a row).  \n",
    "\n",
    "Other options are incorrect because:  \n",
    "- `writer.writelines()` is for writing multiple **strings** to a text file, not CSV.  \n",
    "- `writer.writeall()` and `writer.appendrows()` do not exist in the `csv` module."
   ]
  },
  {
   "cell_type": "code",
   "execution_count": null,
   "metadata": {
    "vscode": {
     "languageId": "plaintext"
    }
   },
   "outputs": [],
   "source": []
  },
  {
   "cell_type": "markdown",
   "metadata": {},
   "source": [
    "## Q9. What mode should be used to open a file for writing and truncating the file first?\n",
    "1. '\"w\"'\n",
    "2. '\"r\"'\n",
    "3. '\"a\"'\n",
    "4. '\"x\"'"
   ]
  },
  {
   "cell_type": "markdown",
   "metadata": {},
   "source": [
    "The correct answer is:  \n",
    "\n",
    "**1. `\"w\"`**  \n",
    "\n",
    "### Explanation:  \n",
    "- `\"w\"` (write mode) opens a file for writing and **truncates** (clears) it first.  \n",
    "- If the file doesn’t exist, it creates a new one.  \n",
    "\n",
    "Other options:  \n",
    "- `\"r\"` (read mode) doesn’t allow writing.  \n",
    "- `\"a\"` (append mode) writes without truncating.  \n",
    "- `\"x\"` (exclusive creation) fails if the file already exists."
   ]
  },
  {
   "cell_type": "code",
   "execution_count": null,
   "metadata": {
    "vscode": {
     "languageId": "plaintext"
    }
   },
   "outputs": [],
   "source": []
  },
  {
   "cell_type": "markdown",
   "metadata": {},
   "source": [
    "## Q10. Which of the following file modes allows reading and writing to a file without truncating it?\n",
    "1. '\"w+\"'\n",
    "2. '\"a+\"'\n",
    "3. '\"r+\"'\n",
    "4. '\"w\"'"
   ]
  },
  {
   "cell_type": "markdown",
   "metadata": {},
   "source": [
    "The correct answer is:  \n",
    "\n",
    "**3. `\"r+\"`**  \n",
    "\n",
    "### Explanation:  \n",
    "- `\"r+\"` allows both **reading and writing** **without truncating** the file.  \n",
    "- The file **must exist** beforehand, or an error occurs.  \n",
    "\n",
    "Other options:  \n",
    "- `\"w+\"` allows reading/writing **but truncates** the file.  \n",
    "- `\"a+\"` allows reading/appending **but doesn’t overwrite existing content**.  \n",
    "- `\"w\"` is **write-only** and **truncates** the file."
   ]
  },
  {
   "cell_type": "code",
   "execution_count": null,
   "metadata": {
    "vscode": {
     "languageId": "plaintext"
    }
   },
   "outputs": [],
   "source": []
  },
  {
   "cell_type": "markdown",
   "metadata": {},
   "source": [
    "## Q11. How do you properly close a file  in Python?\n",
    "1. 'file. close()'\n",
    "2.  'file.close'\n",
    "3. 'close(file)'\n",
    "4. 'close.file()'"
   ]
  },
  {
   "cell_type": "markdown",
   "metadata": {},
   "source": [
    "The correct answer is:  \n",
    "\n",
    "**1. `file.close()`**  \n",
    "\n",
    "### Explanation:  \n",
    "- `file.close()` properly closes the file to release system resources.  \n",
    "- The method must be called with parentheses.  \n",
    "\n",
    "Other options are incorrect because:  \n",
    "- `file.close` is missing parentheses.  \n",
    "- `close(file)` and `close.file()` are not valid syntax."
   ]
  },
  {
   "cell_type": "code",
   "execution_count": null,
   "metadata": {
    "vscode": {
     "languageId": "plaintext"
    }
   },
   "outputs": [],
   "source": []
  },
  {
   "cell_type": "markdown",
   "metadata": {},
   "source": [
    "## Q12. What happens if you try to open a non-existent file with \"r\" mode?\n",
    "1. A new file is created\n",
    "2. An empty file is returned\n",
    "3. A 'FileNotFoundError' is raised\n",
    "4. Nothing happens"
   ]
  },
  {
   "cell_type": "markdown",
   "metadata": {},
   "source": [
    "The correct answer is:  \n",
    "\n",
    "**3. A 'FileNotFoundError' is raised**  \n",
    "\n",
    "### Explanation:  \n",
    "- In `\"r\"` (read) mode, Python expects the file to exist.  \n",
    "- If the file does not exist, it raises a `FileNotFoundError`.  \n",
    "\n",
    "Other options:  \n",
    "- `\"r\"` does **not** create or return a new/empty file.  \n",
    "- It also does not ignore the error or proceed without raising an exception."
   ]
  },
  {
   "cell_type": "code",
   "execution_count": null,
   "metadata": {
    "vscode": {
     "languageId": "plaintext"
    }
   },
   "outputs": [],
   "source": []
  },
  {
   "cell_type": "markdown",
   "metadata": {},
   "source": [
    "## Q13. What is the correct way to read the entire contents of a file into a string?\n",
    "1. 'contents = file.read()'\n",
    "2. 'contens = file.readlines()'\n",
    "3. 'contents = file.readfile()'\n",
    "4. 'contents = file.input()'"
   ]
  },
  {
   "cell_type": "markdown",
   "metadata": {},
   "source": [
    "The correct answer is:  \n",
    "\n",
    "**1. `contents = file.read()`**  \n",
    "\n",
    "### Explanation:  \n",
    "- `file.read()` reads the entire contents of a file and returns it as a single string.  \n",
    "\n",
    "Other options:  \n",
    "- `file.readlines()` reads the file line by line and returns a list of lines, not a single string.  \n",
    "- `file.readfile()` and `file.input()` are not valid methods in Python."
   ]
  },
  {
   "cell_type": "code",
   "execution_count": null,
   "metadata": {
    "vscode": {
     "languageId": "plaintext"
    }
   },
   "outputs": [],
   "source": []
  },
  {
   "cell_type": "markdown",
   "metadata": {},
   "source": [
    "## Q14. Which method read a file line by line and returns a list of lines?\n",
    "1. 'read()'\n",
    "2. 'readline()'\n",
    "3. 'readlines()'\n",
    "4. 'readall()'"
   ]
  },
  {
   "cell_type": "markdown",
   "metadata": {},
   "source": [
    "The correct answer is:  \n",
    "\n",
    "**3. `readlines()`**  \n",
    "\n",
    "### Explanation:  \n",
    "- `file.readlines()` reads the file **line by line** and returns a **list** of lines.  \n",
    "\n",
    "Other options:  \n",
    "- `read()` reads the entire file as a single string.  \n",
    "- `readline()` reads **one line** at a time.  \n",
    "- `readall()` is not a valid method in Python."
   ]
  },
  {
   "cell_type": "code",
   "execution_count": null,
   "metadata": {
    "vscode": {
     "languageId": "plaintext"
    }
   },
   "outputs": [],
   "source": []
  },
  {
   "cell_type": "markdown",
   "metadata": {},
   "source": [
    "## Q15. What is the difference between the '\"w\"' and '\"a\"' file modes?\n",
    "1. '\"w\"' overwrites the file, '\"a\"' appends to the file\n",
    "2. '\"w\"' appends to the file, '\"a\"' overwrites the file\n",
    "3. '\"w\"' reads the file, '\"a\"' writes to the file\n",
    "4. '\"w\"' and '\"a\"' both do the same thing"
   ]
  },
  {
   "cell_type": "markdown",
   "metadata": {},
   "source": [
    "The correct answer is:  \n",
    "\n",
    "**1. `\"w\"` overwrites the file, `\"a\"` appends to the file**  \n",
    "\n",
    "### Explanation:  \n",
    "- `\"w\"` (write mode) **overwrites** the file, creating a new file if it doesn’t exist.  \n",
    "- `\"a\"` (append mode) **adds** new content to the end of the file without changing existing content."
   ]
  },
  {
   "cell_type": "code",
   "execution_count": null,
   "metadata": {
    "vscode": {
     "languageId": "plaintext"
    }
   },
   "outputs": [],
   "source": []
  },
  {
   "cell_type": "markdown",
   "metadata": {},
   "source": [
    "## Q16. Which of the following correctly writes the string \"Hello, World!\" to a file?\n",
    "1. 'file.write(\"Hello, World!\")'\n",
    "2. 'file.writeline(\"Hello, World!\")'\n",
    "3. 'write(file, \"Hello, World!\")'\n",
    "4. 'write(\"Hello, World!\")'"
   ]
  },
  {
   "cell_type": "markdown",
   "metadata": {},
   "source": [
    "The correct answer is:  \n",
    "\n",
    "**1. `file.write(\"Hello, World!\")`**  \n",
    "\n",
    "### Explanation:  \n",
    "- `file.write()` is the correct method to write a string to a file.  \n",
    "- The string is passed as an argument inside the parentheses.  \n",
    "\n",
    "Other options are incorrect because:  \n",
    "- `file.writeline()` is not a valid method; the correct method is `writelines()` (for lists).  \n",
    "- `write(file, \"Hello, World!\")` is incorrect syntax.  \n",
    "- `write(\"Hello, World!\")` lacks the necessary file object reference."
   ]
  },
  {
   "cell_type": "code",
   "execution_count": null,
   "metadata": {
    "vscode": {
     "languageId": "plaintext"
    }
   },
   "outputs": [],
   "source": []
  },
  {
   "cell_type": "markdown",
   "metadata": {},
   "source": [
    "## Q17. Which file mode is used to create a new file if it does not exist, but raise an error if it already exists?\n",
    "1. '\"w+\"'\n",
    "2. '\"a+\"'\n",
    "3. '\"x\"'\n",
    "4. '\"r\"'"
   ]
  },
  {
   "cell_type": "markdown",
   "metadata": {},
   "source": [
    "The correct answer is:  \n",
    "\n",
    "**3. `\"x\"`**  \n",
    "\n",
    "### Explanation:  \n",
    "- `\"x\"` (exclusive creation) creates a new file if it doesn't exist.  \n",
    "- If the file already exists, it raises a `FileExistsError`.  \n",
    "\n",
    "Other options:  \n",
    "- `\"w+\"` creates or truncates an existing file.  \n",
    "- `\"a+\"` opens a file for reading and appending.  \n",
    "- `\"r\"` opens an existing file for reading only."
   ]
  },
  {
   "cell_type": "code",
   "execution_count": null,
   "metadata": {
    "vscode": {
     "languageId": "plaintext"
    }
   },
   "outputs": [],
   "source": []
  },
  {
   "cell_type": "markdown",
   "metadata": {},
   "source": [
    "## Q18. Which method is used to return the currect position of the file pointer?\n",
    "1. 'file.tell()'\n",
    "2. 'file.pointer()'\n",
    "3. 'file. Location()'\n",
    "4. 'file.seek()'"
   ]
  },
  {
   "cell_type": "markdown",
   "metadata": {},
   "source": [
    "The correct answer is:  \n",
    "\n",
    "**1. `file.tell()`**  \n",
    "\n",
    "### Explanation:  \n",
    "- `file.tell()` returns the **current position** of the file pointer (in bytes) relative to the beginning of the file.  \n",
    "\n",
    "Other options are incorrect because:  \n",
    "- `file.pointer()`, `file.Location()`, and `file.seek()` are not valid methods.  \n",
    "- `file.seek()` is used to **move** the file pointer, not check its position."
   ]
  },
  {
   "cell_type": "code",
   "execution_count": null,
   "metadata": {
    "vscode": {
     "languageId": "plaintext"
    }
   },
   "outputs": [],
   "source": []
  },
  {
   "cell_type": "markdown",
   "metadata": {},
   "source": [
    "## Q19. How can you move the file pointer to the beginning of the file after reading some contents?\n",
    "1. 'file. Seek(0)'\n",
    "2. 'file. Rewind()'\n",
    "3. 'file. Reset()'\n",
    "4. 'file. Pointer(0)'"
   ]
  },
  {
   "cell_type": "markdown",
   "metadata": {},
   "source": [
    "The correct answer is:  \n",
    "\n",
    "**1. `file.seek(0)`**  \n",
    "\n",
    "### Explanation:  \n",
    "- `file.seek(0)` moves the file pointer to the **beginning** of the file (0 bytes from the start).  \n",
    "\n",
    "Other options are incorrect because:  \n",
    "- `file.rewind()`, `file.reset()`, and `file.pointer()` do not exist as valid methods in Python."
   ]
  },
  {
   "cell_type": "code",
   "execution_count": null,
   "metadata": {
    "vscode": {
     "languageId": "plaintext"
    }
   },
   "outputs": [],
   "source": []
  },
  {
   "cell_type": "markdown",
   "metadata": {},
   "source": [
    "## Q20. How can you write to a CSV file using the 'csv' module?\n",
    "1. 'csv.writer(file)'\n",
    "2. 'csv.write(file)'\n",
    "3. 'csv.writer(file).writerow([\"data1\", \"data2\"])'\n",
    "4. 'csv.writefile(file, [\"data1\", \"data2\"])'"
   ]
  },
  {
   "cell_type": "markdown",
   "metadata": {},
   "source": [
    "The correct answer is:  \n",
    "\n",
    "**3. `csv.writer(file).writerow([\"data1\", \"data2\"])`**  \n",
    "\n",
    "### Explanation:  \n",
    "- `csv.writer(file)` creates a writer object for the CSV file.  \n",
    "- `.writerow([\"data1\", \"data2\"])` writes a single row to the file.  \n",
    "\n",
    "Other options are incorrect because:  \n",
    "- `csv.write(file)` and `csv.writefile(file, ...)` are not valid methods in the `csv` module.  \n",
    "- `csv.writer(file)` alone does not write anything without calling `.writerow()."
   ]
  },
  {
   "cell_type": "code",
   "execution_count": null,
   "metadata": {
    "vscode": {
     "languageId": "plaintext"
    }
   },
   "outputs": [],
   "source": []
  },
  {
   "cell_type": "markdown",
   "metadata": {},
   "source": [
    "## Q21. How can you read a CSV file using the 'csv' module?\n",
    "1. 'csv.reader(file)'\n",
    "2. 'csv.read(file)'\n",
    "3. 'file. Reader()'\n",
    "4. 'file.csvread()'"
   ]
  },
  {
   "cell_type": "markdown",
   "metadata": {},
   "source": [
    "The correct answer is:  \n",
    "\n",
    "**1. `csv.reader(file)`**  \n",
    "\n",
    "### Explanation:  \n",
    "- `csv.reader(file)` creates a CSV reader object that can iterate over the rows in the file.  \n",
    "- It reads the contents of the CSV file as lists of values.  \n",
    "\n",
    "Other options are incorrect because:  \n",
    "- `csv.read(file)` and `file.csvread()` are not valid methods in the `csv` module.  \n",
    "- `file.Reader()` is incorrect syntax."
   ]
  },
  {
   "cell_type": "code",
   "execution_count": null,
   "metadata": {
    "vscode": {
     "languageId": "plaintext"
    }
   },
   "outputs": [],
   "source": []
  },
  {
   "cell_type": "markdown",
   "metadata": {},
   "source": [
    "## Q22. What is the correct way to parse a JSON file in Python?\n",
    "1. 'json.load(file)'\n",
    "2. 'json.loads(file)'\n",
    "3. 'file.loadjson()'\n",
    "4. 'file.jsonload()'"
   ]
  },
  {
   "cell_type": "markdown",
   "metadata": {},
   "source": [
    "The correct answer is:  \n",
    "\n",
    "**1. `json.load(file)`**  \n",
    "\n",
    "### Explanation:  \n",
    "- `json.load(file)` is used to **parse a JSON file** into a Python dictionary or list, depending on the content.  \n",
    "- The `file` object should be opened in read mode (`'r'`).  \n",
    "\n",
    "Other options are incorrect because:  \n",
    "- `json.loads()` is used to parse a **string** containing JSON, not a file.  \n",
    "- `file.loadjson()` and `file.jsonload()` are not valid methods."
   ]
  },
  {
   "cell_type": "code",
   "execution_count": null,
   "metadata": {
    "vscode": {
     "languageId": "plaintext"
    }
   },
   "outputs": [],
   "source": []
  },
  {
   "cell_type": "markdown",
   "metadata": {},
   "source": [
    "## Q23. Which method converts a Python object into a JSON string?\n",
    "1. 'json.dumps()'\n",
    "2. 'json.dump()'\n",
    "3. 'json.loads()'\n",
    "4. 'json.parse()'"
   ]
  },
  {
   "cell_type": "markdown",
   "metadata": {},
   "source": [
    "The correct answer is:  \n",
    "\n",
    "**1. `json.dumps()`**  \n",
    "\n",
    "### Explanation:  \n",
    "- `json.dumps()` converts a Python **object** (like a dictionary) into a **JSON string**.  \n",
    "\n",
    "Other options are incorrect because:  \n",
    "- `json.dump()` writes a Python object to a **file** as JSON, not a string.  \n",
    "- `json.loads()` parses a JSON string into a Python object.  \n",
    "- `json.parse()` is not a valid method in the `json` module."
   ]
  },
  {
   "cell_type": "code",
   "execution_count": null,
   "metadata": {
    "vscode": {
     "languageId": "plaintext"
    }
   },
   "outputs": [],
   "source": []
  },
  {
   "cell_type": "markdown",
   "metadata": {},
   "source": [
    "## Q24. Which of the following is a valid way to write JSON data to a file?\n",
    "1. 'json.dump(data, file)'\n",
    "2. 'json.write(data, file)'\n",
    "3. 'file.writejson(data)'\n",
    "4. 'jsonfile.write(data)'"
   ]
  },
  {
   "cell_type": "markdown",
   "metadata": {},
   "source": [
    "The correct answer is:  \n",
    "\n",
    "**1. `json.dump(data, file)`**  \n",
    "\n",
    "### Explanation:  \n",
    "- `json.dump(data, file)` writes the Python object `data` as JSON to the specified `file`.  \n",
    "\n",
    "Other options are incorrect because:  \n",
    "- `json.write(data, file)` and `file.writejson(data)` are not valid methods in the `json` module.  \n",
    "- `jsonfile.write(data)` is not correct syntax for JSON writing."
   ]
  },
  {
   "cell_type": "code",
   "execution_count": null,
   "metadata": {
    "vscode": {
     "languageId": "plaintext"
    }
   },
   "outputs": [],
   "source": []
  },
  {
   "cell_type": "markdown",
   "metadata": {},
   "source": [
    "## Q25. Which of the following can be used to read a specific number of characters from a file?\n",
    "1. 'file. Read(10)'\n",
    "2. 'file.readline(10)'\n",
    "3. 'file.readchars(10)'\n",
    "4. 'file. Get(10)'"
   ]
  },
  {
   "cell_type": "markdown",
   "metadata": {},
   "source": [
    "The correct answer is:  \n",
    "\n",
    "**1. `file.read(10)`**  \n",
    "\n",
    "### Explanation:  \n",
    "- `file.read(10)` reads **10 characters** from the file.  \n",
    "\n",
    "Other options are incorrect because:  \n",
    "- `file.readline(10)` reads a line, not a specific number of characters.  \n",
    "- `file.readchars(10)` and `file.get(10)` are not valid methods."
   ]
  },
  {
   "cell_type": "code",
   "execution_count": null,
   "metadata": {
    "vscode": {
     "languageId": "plaintext"
    }
   },
   "outputs": [],
   "source": []
  },
  {
   "cell_type": "markdown",
   "metadata": {},
   "source": [
    "## Q26. What will happen if an exception occurs within a 'try' block?\n",
    "1. The program will terminate\n",
    "2. The 'except' block will execute\n",
    "3. The program will ignore the exception\n",
    "4. The 'finally' block will execute immediately"
   ]
  },
  {
   "cell_type": "markdown",
   "metadata": {},
   "source": [
    "The correct answer is:  \n",
    "\n",
    "**2. The 'except' block will execute**  \n",
    "\n",
    "### Explanation:  \n",
    "- If an exception occurs in the `try` block, Python will look for the `except` block to handle the exception.  \n",
    "- The `finally` block will execute regardless of whether an exception occurred, but only after the `except` block if there is one.  \n",
    "\n",
    "Other options are incorrect because:  \n",
    "- The program does not terminate unless the exception is unhandled.  \n",
    "- The program does not ignore the exception.  \n",
    "- The `finally` block executes after the `try` and `except` blocks."
   ]
  },
  {
   "cell_type": "code",
   "execution_count": null,
   "metadata": {
    "vscode": {
     "languageId": "plaintext"
    }
   },
   "outputs": [],
   "source": []
  },
  {
   "cell_type": "markdown",
   "metadata": {},
   "source": [
    "## Q27. What exception is raised when trying to divide by zero?\n",
    "1. 'ZeroDivisionError'\n",
    "2. 'ValueError'\n",
    "3. 'ArithmeticError'\n",
    "4. 'TypeError'"
   ]
  },
  {
   "cell_type": "markdown",
   "metadata": {},
   "source": [
    "The correct answer is:  \n",
    "\n",
    "**1. `ZeroDivisionError`**  \n",
    "\n",
    "### Explanation:  \n",
    "- `ZeroDivisionError` is raised when you attempt to divide a number by zero.  \n",
    "\n",
    "Other options are incorrect because:  \n",
    "- `ValueError` occurs with invalid values, not division by zero.  \n",
    "- `ArithmeticError` is a general class for arithmetic errors, but `ZeroDivisionError` is more specific.  \n",
    "- `TypeError` occurs when an operation is performed on the wrong type of data."
   ]
  },
  {
   "cell_type": "code",
   "execution_count": null,
   "metadata": {
    "vscode": {
     "languageId": "plaintext"
    }
   },
   "outputs": [],
   "source": []
  },
  {
   "cell_type": "markdown",
   "metadata": {},
   "source": [
    "## Q28. What will happen if no exception occurs in the 'try' block and there is an 'else' clause?\n",
    "1. The 'else' block will execute\n",
    "2. The 'else' block will be skipped\n",
    "3. The program will terminate\n",
    "4. The 'except' block will execute"
   ]
  },
  {
   "cell_type": "markdown",
   "metadata": {},
   "source": [
    "The correct answer is:  \n",
    "\n",
    "**1. The 'else' block will execute**  \n",
    "\n",
    "### Explanation:  \n",
    "- If no exception occurs in the `try` block, the `else` block will execute.  \n",
    "- The `else` block is for code that should run **only if no exceptions** are raised in the `try` block.  \n",
    "\n",
    "Other options are incorrect because:  \n",
    "- The `else` block does not get skipped; it runs after a successful `try` block.  \n",
    "- The program doesn't terminate unless an unhandled exception occurs.  \n",
    "- The `except` block only runs if an exception is raised."
   ]
  },
  {
   "cell_type": "code",
   "execution_count": null,
   "metadata": {
    "vscode": {
     "languageId": "plaintext"
    }
   },
   "outputs": [],
   "source": []
  },
  {
   "cell_type": "markdown",
   "metadata": {},
   "source": [
    "## Q29. In the following code, what will be the output if no exception occurs?\n",
    "'''python\n",
    "\n",
    "    try:\n",
    "\n",
    "        print(\"Trying\")\n",
    "\n",
    "    except:\n",
    "\n",
    "        print(\"Exception\")\n",
    "\n",
    "    else:\n",
    "\n",
    "        print(\"Else\")\n",
    "\n",
    "    finally:\n",
    "\n",
    "        print(\"Finally\")\n",
    "'''\n",
    "\n",
    "1. Trying, Exception\n",
    "2. Trying , Finally\n",
    "3. Trying, Else, Finally\n",
    "4. Exception, Finally"
   ]
  },
  {
   "cell_type": "markdown",
   "metadata": {},
   "source": [
    "The correct answer is:  \n",
    "\n",
    "**3. Trying, Else, Finally**  \n",
    "\n",
    "### Explanation:  \n",
    "- The `try` block executes first, printing `\"Trying\"`.  \n",
    "- Since no exception occurs, the `else` block executes, printing `\"Else\"`.  \n",
    "- The `finally` block always executes, printing `\"Finally\"`.  \n",
    "\n",
    "Thus, the output is:  \n",
    "```\n",
    "Trying\n",
    "Else\n",
    "Finally\n",
    "```"
   ]
  },
  {
   "cell_type": "code",
   "execution_count": null,
   "metadata": {
    "vscode": {
     "languageId": "plaintext"
    }
   },
   "outputs": [],
   "source": []
  },
  {
   "cell_type": "markdown",
   "metadata": {},
   "source": [
    "## Q30. What is the purpose of the 'finally' block in exception handling?\n",
    "1. To execute code that must run no matter what\n",
    "2. To handle specific exceptions\n",
    "3. To terminate the program\n",
    "4. To skip the 'try' block"
   ]
  },
  {
   "cell_type": "markdown",
   "metadata": {},
   "source": [
    "The correct answer is:  \n",
    "\n",
    "**1. To execute code that must run no matter what**  \n",
    "\n",
    "### Explanation:  \n",
    "- The `finally` block executes **regardless** of whether an exception occurred or not.  \n",
    "- It is used for cleanup actions, such as closing files or releasing resources.  \n",
    "\n",
    "Other options are incorrect because:  \n",
    "- `finally` does not handle specific exceptions; that's the role of `except`.  \n",
    "- It does not terminate the program or skip the `try` block."
   ]
  },
  {
   "cell_type": "code",
   "execution_count": null,
   "metadata": {
    "vscode": {
     "languageId": "plaintext"
    }
   },
   "outputs": [],
   "source": []
  },
  {
   "cell_type": "code",
   "execution_count": null,
   "metadata": {
    "vscode": {
     "languageId": "plaintext"
    }
   },
   "outputs": [],
   "source": []
  }
 ],
 "metadata": {
  "language_info": {
   "name": "python"
  }
 },
 "nbformat": 4,
 "nbformat_minor": 2
}
