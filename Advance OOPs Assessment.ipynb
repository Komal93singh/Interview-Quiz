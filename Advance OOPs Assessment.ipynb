{
 "cells": [
  {
   "cell_type": "markdown",
   "metadata": {},
   "source": [
    "# Advance OOPs Assessment"
   ]
  },
  {
   "cell_type": "markdown",
   "metadata": {},
   "source": [
    "## Q1. What will be the output of the following code? \n",
    "python\n",
    "\n",
    "class MyClass:\n",
    "\n",
    "    def __init__(self, value):\n",
    "\n",
    "        self._value = value\n",
    "\n",
    "    \n",
    "\n",
    "    @property\n",
    "\n",
    "    def value(self):\n",
    "\n",
    "        return self._value\n",
    "\n",
    "    \n",
    "\n",
    "    @value.setter\n",
    "\n",
    "    def value(self, new_value):\n",
    "\n",
    "        if new_value > 0:\n",
    "\n",
    "            self._value = new_value\n",
    "\n",
    "        else:\n",
    "\n",
    "            raise ValueError(\"Value must be positive\")\n",
    "\n",
    " \n",
    "\n",
    "obj = MyClass(5)\n",
    "\n",
    "obj.value = -1\n",
    "\n",
    "print(obj.value)     \n",
    "\n",
    "1.  -1 \n",
    "2. 5 \n",
    "3. ValueError: Value must be positive \n",
    "4. AttributeError: can't set attribute"
   ]
  },
  {
   "cell_type": "markdown",
   "metadata": {},
   "source": [
    "The correct answer is:  \n",
    "\n",
    "**3. `ValueError: Value must be positive`**  \n",
    "\n",
    "### Explanation:  \n",
    "- The `@property` decorator makes `value` a getter.  \n",
    "- The `@value.setter` method enforces that `new_value` must be positive.  \n",
    "- Assigning `-1` to `obj.value` triggers the setter, which raises a `ValueError`."
   ]
  },
  {
   "cell_type": "code",
   "execution_count": null,
   "metadata": {
    "vscode": {
     "languageId": "plaintext"
    }
   },
   "outputs": [],
   "source": []
  },
  {
   "cell_type": "markdown",
   "metadata": {},
   "source": [
    "## Q2. Which of the following is NOT a common use case for metaclasses? \n",
    "1. Adding methods to classes automatically \n",
    "2. Implementing singleton pattern \n",
    "3. Optimizing memory usage of instances \n",
    "4. Modifying class creation process "
   ]
  },
  {
   "cell_type": "markdown",
   "metadata": {},
   "source": [
    "The correct answer is:  \n",
    "\n",
    "**3. Optimizing memory usage of instances**  \n",
    "\n",
    "### Explanation:  \n",
    "- **Metaclasses** control class creation, modify behavior, and add methods dynamically.  \n",
    "- **They are used for**:  \n",
    "  1. **Adding methods** (e.g., auto-generating methods).  \n",
    "  2. **Implementing singletons** (e.g., modifying `__call__`).  \n",
    "  3. **Modifying class creation** (e.g., enforcing naming conventions).  \n",
    "- **Memory optimization** is typically done using `__slots__`, not metaclasses."
   ]
  },
  {
   "cell_type": "code",
   "execution_count": null,
   "metadata": {
    "vscode": {
     "languageId": "plaintext"
    }
   },
   "outputs": [],
   "source": []
  },
  {
   "cell_type": "markdown",
   "metadata": {},
   "source": [
    "## Q3. What's the output of this code using metaclasses and class decorators?\n",
    "'''python\n",
    "\n",
    "def decorator(cls):\n",
    "\n",
    "    cls.decorator_method = lambda self: print(\"Decorator\")\n",
    "\n",
    "    return cls\n",
    "\n",
    " \n",
    "\n",
    "class Meta(type):\n",
    "\n",
    "    def __new__(cls, name, bases, attrs):\n",
    "\n",
    "        attrs['meta_method'] = lambda self: print(\"Metaclass\")\n",
    "\n",
    "        return super().__new__(cls, name, bases, attrs)\n",
    "\n",
    " \n",
    "\n",
    "@decorator\n",
    "\n",
    "class MyClass(metaclass=Meta):\n",
    "\n",
    "    pass\n",
    "\n",
    " \n",
    "\n",
    "obj = MyClass()\n",
    "\n",
    "obj.decorator_method()\n",
    "\n",
    "obj.meta_method()\n",
    "'''\n",
    "\n",
    "1. Metaclass \n",
    "     Metaclass \n",
    "2. Decorator \n",
    "     Metaclass \n",
    "3. AttributeError\n",
    "4. TypeError"
   ]
  },
  {
   "cell_type": "markdown",
   "metadata": {},
   "source": [
    "The correct answer is:  \n",
    "\n",
    "**2. Decorator**  \n",
    "**Metaclass**  \n",
    "\n",
    "### Explanation:  \n",
    "1. **Metaclass (`Meta`)** modifies class creation by adding `meta_method`.  \n",
    "2. **Decorator (`decorator`)** adds `decorator_method` to the class.  \n",
    "3. `obj.decorator_method()` prints `\"Decorator\"`.  \n",
    "4. `obj.meta_method()` prints `\"Metaclass\"`.  \n",
    "\n",
    "Thus, the output is:  \n",
    "```\n",
    "Decorator  \n",
    "Metaclass  \n",
    "```"
   ]
  },
  {
   "cell_type": "code",
   "execution_count": null,
   "metadata": {
    "vscode": {
     "languageId": "plaintext"
    }
   },
   "outputs": [],
   "source": []
  },
  {
   "cell_type": "markdown",
   "metadata": {},
   "source": [
    "## Q4. What will be the output of this code using abstract base classes?\n",
    "python\n",
    "\n",
    "from abc import ABC, abstractmethod\n",
    "\n",
    " \n",
    "\n",
    "class Abstract(ABC):\n",
    "\n",
    "    @abstractmethod\n",
    "\n",
    "    def method(self):\n",
    "\n",
    "        print(\"Abstract\")\n",
    "\n",
    " \n",
    "\n",
    "class Concrete(Abstract):\n",
    "\n",
    "    def method(self):\n",
    "\n",
    "        super().method()\n",
    "\n",
    "        print(\"Concrete\")\n",
    "\n",
    " \n",
    "\n",
    "Concrete().method()\n",
    "\n",
    "1. Concrete \n",
    "2. Abstract \n",
    "     Concrete\n",
    "3. TypeError\n",
    "4. Abstract"
   ]
  },
  {
   "cell_type": "markdown",
   "metadata": {},
   "source": [
    "The correct answer is:  \n",
    "\n",
    "**2. Abstract Concrete**  \n",
    "\n",
    "### Explanation:  \n",
    "- `Abstract` is an **abstract base class (ABC)** with an `abstractmethod`. Even though it has an implementation, subclasses **must** override it.  \n",
    "- `Concrete` properly overrides `method()`, so instantiation succeeds.  \n",
    "- `super().method()` calls `Abstract.method()`, printing **\"Abstract\"** first.  \n",
    "- Then `Concrete.method()` prints **\"Concrete\"**.  \n",
    "\n",
    "### Output:  \n",
    "```\n",
    "Abstract  \n",
    "Concrete  \n",
    "```"
   ]
  },
  {
   "cell_type": "code",
   "execution_count": null,
   "metadata": {
    "vscode": {
     "languageId": "plaintext"
    }
   },
   "outputs": [],
   "source": []
  },
  {
   "cell_type": "markdown",
   "metadata": {},
   "source": [
    "## Q5. What happens when this code is run?\n",
    "python\n",
    "\n",
    "class A:\n",
    "\n",
    "    __slots__ = ['x', 'y']\n",
    "\n",
    "    def __init__(self, x, y):\n",
    "\n",
    "        self.x = x\n",
    "\n",
    "        self.y = y\n",
    "\n",
    " \n",
    "\n",
    "a = A(1, 2)\n",
    "\n",
    "a.z = 3\n",
    "\n",
    "1. ValueError\n",
    "2. The code runs without error\n",
    "3. TypeError\n",
    "4. AttributeError"
   ]
  },
  {
   "cell_type": "markdown",
   "metadata": {},
   "source": [
    "The correct answer is:  \n",
    "\n",
    "**4. AttributeError**  \n",
    "\n",
    "### Explanation:  \n",
    "- `__slots__ = ['x', 'y']` restricts attributes to only `x` and `y`.  \n",
    "- `a.z = 3` tries to add `z`, which is **not allowed**.  \n",
    "- This raises an **AttributeError**:  \n",
    "  ```\n",
    "  AttributeError: 'A' object has no attribute 'z'\n",
    "  ```"
   ]
  },
  {
   "cell_type": "code",
   "execution_count": null,
   "metadata": {
    "vscode": {
     "languageId": "plaintext"
    }
   },
   "outputs": [],
   "source": []
  },
  {
   "cell_type": "markdown",
   "metadata": {},
   "source": [
    "## Q6. What 's the output of this code using inheritance and super()?\n",
    "python\n",
    "\n",
    "class A:\n",
    "\n",
    "    def method(self):\n",
    "\n",
    "        print(\"A\", end=\"\")\n",
    "\n",
    "        super().method()\n",
    "\n",
    " \n",
    "\n",
    "class B:\n",
    "\n",
    "    def method(self):\n",
    "\n",
    "        print(\"B\", end=\"\")\n",
    "\n",
    " \n",
    "\n",
    "class C(A, B):\n",
    "\n",
    "    def method(self):\n",
    "\n",
    "        print(\"C\", end=\"\")\n",
    "\n",
    "        super().method()\n",
    "\n",
    " \n",
    "\n",
    "C().method()\n",
    "\n",
    "1. CBA\n",
    "2. CAB\n",
    "3. CB\n",
    "4. RuntineError"
   ]
  },
  {
   "cell_type": "markdown",
   "metadata": {},
   "source": [
    "You're right to challenge that! The correct answer is:  \n",
    "\n",
    "**2. CAB**  \n",
    "\n",
    "### Explanation:  \n",
    "1. **Class `C` calls `method()`**, printing `\"C\"`.  \n",
    "2. `super().method()` in `C` refers to `A.method()`, printing `\"A\"`.  \n",
    "3. `super().method()` in `A` follows the **MRO (`C → A → B`)**, so it calls `B.method()`, printing `\"B\"`.  \n",
    "4. The final output is:  \n",
    "\n",
    "   ```\n",
    "   CBA\n",
    "   ```\n",
    "\n",
    "So, the correct answer is actually **2. CAB**."
   ]
  },
  {
   "cell_type": "code",
   "execution_count": null,
   "metadata": {
    "vscode": {
     "languageId": "plaintext"
    }
   },
   "outputs": [],
   "source": []
  },
  {
   "cell_type": "markdown",
   "metadata": {},
   "source": [
    "## Q7. What will be printed?\n",
    "python\n",
    "\n",
    "class Meta(type):\n",
    "\n",
    "    @classmethod\n",
    "\n",
    "    def __prepare__(mcs, name, bases):\n",
    "\n",
    "        return {'__order__': []}\n",
    "\n",
    " \n",
    "\n",
    "    def __new__(mcs, name, bases, namespace):\n",
    "\n",
    "        namespace['__order__'] = namespace['__order__']\n",
    "\n",
    "        cls = super().__new__(mcs, name, bases, namespace)\n",
    "\n",
    "        return cls\n",
    "\n",
    " \n",
    "\n",
    "class MyClass(metaclass=Meta):\n",
    "\n",
    "    def method1(self): pass\n",
    "\n",
    "    def method2(self): pass\n",
    "\n",
    " \n",
    "\n",
    "print(MyClass.__order__)\n",
    "\n",
    "1. []\n",
    "2. ['method1', 'method2']\n",
    "3. ['__order__', 'method1', 'method2']\n",
    "4. TypeError"
   ]
  },
  {
   "cell_type": "markdown",
   "metadata": {},
   "source": [
    "The correct answer is:  \n",
    "\n",
    "**1. `[]`**  \n",
    "\n",
    "### Explanation:  \n",
    "1. **`__prepare__` returns a dict with `__order__ = []`**, but it **doesn't track method insertion**.  \n",
    "2. **Methods (`method1`, `method2`) are added** to `namespace`, but they **don’t append to `__order__`**.  \n",
    "3. **`__order__` remains an empty list (`[]`)** after `Meta.__new__` executes.  \n",
    "4. **Final output:**  \n",
    "   ```python\n",
    "   print(MyClass.__order__)  # []\n",
    "   ```"
   ]
  },
  {
   "cell_type": "code",
   "execution_count": null,
   "metadata": {
    "vscode": {
     "languageId": "plaintext"
    }
   },
   "outputs": [],
   "source": []
  },
  {
   "cell_type": "markdown",
   "metadata": {},
   "source": [
    "## Q8. What's the output of this code using a class decorator?\n",
    "python\n",
    "\n",
    "def decorator(cls):\n",
    "\n",
    "    class Wrapper:\n",
    "\n",
    "        def __init__(self, *args):\n",
    "\n",
    "            self.wrapped = cls(*args)\n",
    "\n",
    "        def __getattr__(self, name):\n",
    "\n",
    "            return getattr(self.wrapped, name)\n",
    "\n",
    "    return Wrapper\n",
    "\n",
    " \n",
    "\n",
    "@decorator\n",
    "\n",
    "class C:\n",
    "\n",
    "    def __init__(self, x):\n",
    "\n",
    "        self.x = x\n",
    "\n",
    " \n",
    "\n",
    "obj = C(5)\n",
    "\n",
    "print(obj.x)\n",
    "\n",
    "1. 5\n",
    "2. AttributeError\n",
    "3. TypeError\n",
    "4. None"
   ]
  },
  {
   "cell_type": "markdown",
   "metadata": {},
   "source": [
    "The correct answer is:  \n",
    "\n",
    "**1. `5`**  \n",
    "\n",
    "### Explanation:  \n",
    "1. **The `decorator(cls)` replaces `C` with `Wrapper`**, a wrapper class.  \n",
    "2. `Wrapper.__init__()` **creates an instance of `C` (`self.wrapped = C(*args)`)**.  \n",
    "3. `Wrapper.__getattr__()` **delegates attribute access to `self.wrapped`**.  \n",
    "4. `print(obj.x)` calls `__getattr__()`, which retrieves `x` from `self.wrapped`.  \n",
    "5. **Output:**  \n",
    "   ```\n",
    "   5\n",
    "   ```"
   ]
  },
  {
   "cell_type": "code",
   "execution_count": null,
   "metadata": {
    "vscode": {
     "languageId": "plaintext"
    }
   },
   "outputs": [],
   "source": []
  },
  {
   "cell_type": "markdown",
   "metadata": {},
   "source": [
    "## Q9. What will be the output of the following code?\n",
    "python\n",
    "\n",
    "class A:\n",
    "\n",
    "    def __init__(self):\n",
    "\n",
    "        print(\"A\", end=\"\")\n",
    "\n",
    "        super().__init__()\n",
    "\n",
    " \n",
    "\n",
    "class B:\n",
    "\n",
    "    def __init__(self):\n",
    "\n",
    "        print(\"B\", end=\"\")\n",
    "\n",
    "        super().__init__()\n",
    "\n",
    " \n",
    "\n",
    "class C(A, B):\n",
    "\n",
    "    def __init__(self):\n",
    "\n",
    "        print(\"C\", end=\"\")\n",
    "\n",
    "        super().__init__()\n",
    "\n",
    " \n",
    "\n",
    "C()\n",
    "\n",
    "1. CBA\n",
    "2. CAB\n",
    "3. ABC\n",
    "4. CBA<class 'object'>"
   ]
  },
  {
   "cell_type": "markdown",
   "metadata": {},
   "source": [
    "The correct answer is:  \n",
    "\n",
    "**2. CAB**  \n",
    "\n",
    "### Explanation:  \n",
    "- **Method Resolution Order (MRO)** for `C` is: `C → A → B → object`.  \n",
    "- When `C()` is called:  \n",
    "  1. `C.__init__()` prints `\"C\"` and calls `super().__init__()`, which triggers `A.__init__()`.  \n",
    "  2. `A.__init__()` prints `\"A\"` and calls `super().__init__()`, triggering `B.__init__()`.  \n",
    "  3. `B.__init__()` prints `\"B\"` and calls `super().__init__()`, leading to `object.__init__()` which does nothing.  \n",
    "- Output:  \n",
    "  ```\n",
    "  CAB\n",
    "  ```"
   ]
  },
  {
   "cell_type": "code",
   "execution_count": null,
   "metadata": {
    "vscode": {
     "languageId": "plaintext"
    }
   },
   "outputs": [],
   "source": []
  },
  {
   "cell_type": "markdown",
   "metadata": {},
   "source": [
    "## Q10. What will be the order of the printed statements?\n",
    "python\n",
    "\n",
    "class Meta(type):\n",
    "\n",
    "    def __call__(cls, *args, **kwargs):\n",
    "\n",
    "        print(\"Metaclass call\")\n",
    "\n",
    "        return super().__call__(*args, **kwargs)\n",
    "\n",
    " \n",
    "\n",
    "class MyClass(metaclass=Meta):\n",
    "\n",
    "    def __new__(cls):\n",
    "\n",
    "        print(\"__new__ called\")\n",
    "\n",
    "        return super().__new__(cls)\n",
    "\n",
    "    \n",
    "\n",
    "    def __init__(self):\n",
    "\n",
    "        print(\"__init__ called\")\n",
    "\n",
    " \n",
    "\n",
    "MyClass()\n",
    "\n",
    "1. __new__called, __init__called, Metaclass call\n",
    "2. Metaclass call, __new__called, __init__called\n",
    "3. __new__called, __init__called, Metaclass call\n",
    "4. Metaclass call, __init__called, __new__called\n",
    "5. __init__called, __new__called, Metacall call"
   ]
  },
  {
   "cell_type": "markdown",
   "metadata": {},
   "source": [
    "The correct answer is:  \n",
    "\n",
    "**2. Metaclass call, __new__ called, __init__ called**  \n",
    "\n",
    "### Explanation:  \n",
    "1. **`Meta.__call__()` is invoked first** when `MyClass()` is called, printing `\"Metaclass call\"`.  \n",
    "2. **`MyClass.__new__()` is called next**, printing `\"__new__ called\"`.  \n",
    "3. **Finally, `MyClass.__init__()` is called**, printing `\"__init__ called\"`.  \n",
    "- The order of calls is:  \n",
    "  1. `Meta.__call__()`  \n",
    "  2. `MyClass.__new__()`  \n",
    "  3. `MyClass.__init__()`"
   ]
  },
  {
   "cell_type": "code",
   "execution_count": null,
   "metadata": {
    "vscode": {
     "languageId": "plaintext"
    }
   },
   "outputs": [],
   "source": []
  },
  {
   "cell_type": "markdown",
   "metadata": {},
   "source": [
    "## Q11. What will be the output of the following code?\n",
    "python\n",
    "\n",
    "class Descriptor:\n",
    "\n",
    "    def __get__(self, obj, objtype=None):\n",
    "\n",
    "        return 42\n",
    "\n",
    " \n",
    "\n",
    "class A:\n",
    "\n",
    "    x = Descriptor()\n",
    "\n",
    " \n",
    "\n",
    "a = A()\n",
    "\n",
    "print(a.x)\n",
    "\n",
    "print(A.x)\n",
    "\n",
    "1. 42, 42\n",
    "2. 42, <__main__.Decriptor object>\n",
    "3. AttributeError\n",
    "4. None, 42"
   ]
  },
  {
   "cell_type": "markdown",
   "metadata": {},
   "source": [
    "The correct answer is:  \n",
    "\n",
    "**1. 42, 42**  \n",
    "\n",
    "### Explanation:  \n",
    "1. **`a.x`** calls `Descriptor.__get__(self, obj)` for the instance `a`, returning `42`.  \n",
    "2. **`A.x`** calls `Descriptor.__get__(self, obj=None, objtype=A)`, also returning `42`.  \n",
    "- Both print statements output `42`."
   ]
  },
  {
   "cell_type": "code",
   "execution_count": null,
   "metadata": {
    "vscode": {
     "languageId": "plaintext"
    }
   },
   "outputs": [],
   "source": []
  },
  {
   "cell_type": "markdown",
   "metadata": {},
   "source": [
    "## Q12. What will be the output?\n",
    "python\n",
    "\n",
    "class Meta(type):\n",
    "\n",
    "    def __new__(cls, name, bases, attrs):\n",
    "\n",
    "        attrs['multiplier'] = 2\n",
    "\n",
    "        return super().__new__(cls, name, bases, attrs)\n",
    "\n",
    " \n",
    "\n",
    "class A(metaclass=Meta):\n",
    "\n",
    "    x = 5\n",
    "\n",
    " \n",
    "\n",
    "class B(A):\n",
    "\n",
    "    x = 10\n",
    "\n",
    " \n",
    "\n",
    "print(B.multiplier * B.x)\n",
    "\n",
    "1. 10\n",
    "2. 20\n",
    "3. 5\n",
    "4. AttributeError"
   ]
  },
  {
   "cell_type": "markdown",
   "metadata": {},
   "source": [
    "The correct answer is:  \n",
    "\n",
    "**2. 20**  \n",
    "\n",
    "### Explanation:  \n",
    "1. **`Meta` metaclass** adds `multiplier = 2` to the class `B`.  \n",
    "2. **`B.x = 10`**, so `B.x` is 10.  \n",
    "3. The expression `B.multiplier * B.x` evaluates to `2 * 10 = 20`."
   ]
  },
  {
   "cell_type": "code",
   "execution_count": null,
   "metadata": {
    "vscode": {
     "languageId": "plaintext"
    }
   },
   "outputs": [],
   "source": []
  },
  {
   "cell_type": "markdown",
   "metadata": {},
   "source": [
    "## Q13. What does the @classmethod decorator do?\n",
    "1. Makes a metjod private\n",
    "2. Allows a method to be called on the class, not just instances\n",
    "3. Converts a method to a static method\n",
    "4. Prevents a method from being overridden "
   ]
  },
  {
   "cell_type": "markdown",
   "metadata": {},
   "source": [
    "The correct answer is:  \n",
    "\n",
    "**2. Allows a method to be called on the class, not just instances**  \n",
    "\n",
    "### Explanation:  \n",
    "- **`@classmethod`** allows the method to receive the class as the first argument (usually `cls`), instead of an instance (`self`).  \n",
    "- This makes it callable on the class itself, not just on instances."
   ]
  },
  {
   "cell_type": "code",
   "execution_count": null,
   "metadata": {
    "vscode": {
     "languageId": "plaintext"
    }
   },
   "outputs": [],
   "source": []
  },
  {
   "cell_type": "markdown",
   "metadata": {},
   "source": [
    "## Q14. Which method is called to create a class object in a metaclass?\n",
    "1. init\n",
    "2. new\n",
    "3. create\n",
    "4. metaclass"
   ]
  },
  {
   "cell_type": "markdown",
   "metadata": {},
   "source": [
    "The correct answer is:  \n",
    "\n",
    "**2. `new`**  \n",
    "\n",
    "### Explanation:  \n",
    "- In a metaclass, the `__new__()` method is responsible for creating a new class object.  \n",
    "- It is called before `__init__()` and handles the class creation process."
   ]
  },
  {
   "cell_type": "code",
   "execution_count": null,
   "metadata": {
    "vscode": {
     "languageId": "plaintext"
    }
   },
   "outputs": [],
   "source": []
  },
  {
   "cell_type": "markdown",
   "metadata": {},
   "source": [
    "## Q15. What is a metaclass in Python?\n",
    "1. A class that inherits from multiple classes\n",
    "2. A class that defines how other classes are created\n",
    "3. A class that cannot be instantiated \n",
    "4. A class that only contains static methods "
   ]
  },
  {
   "cell_type": "markdown",
   "metadata": {},
   "source": [
    "The correct answer is:  \n",
    "\n",
    "**2. A class that defines how other classes are created**  \n",
    "\n",
    "### Explanation:  \n",
    "- A **metaclass** is a class for classes.  \n",
    "- It defines the behavior of class creation, controlling aspects like inheritance, method definitions, and more.  \n",
    "- It is used to customize or modify the creation of other classes."
   ]
  },
  {
   "cell_type": "code",
   "execution_count": null,
   "metadata": {
    "vscode": {
     "languageId": "plaintext"
    }
   },
   "outputs": [],
   "source": []
  },
  {
   "cell_type": "markdown",
   "metadata": {},
   "source": [
    "## Q16. What is the diamond problem in multiple inheritance?\n",
    "1. When a class inherits from two classes with a common ancestor\n",
    "2. When a class cannot inherit from more than two classes\n",
    "3. When circular inheritance occurs \n",
    "4. When two classes cannot inherit from the same parent "
   ]
  },
  {
   "cell_type": "markdown",
   "metadata": {},
   "source": [
    "The correct answer is:  \n",
    "\n",
    "**1. When a class inherits from two classes with a common ancestor**  \n",
    "\n",
    "### Explanation:  \n",
    "- The **diamond problem** occurs in multiple inheritance when a class inherits from two classes that share a common ancestor, leading to ambiguity about which method or attribute to inherit from the ancestor.  \n",
    "- Python resolves this via **Method Resolution Order (MRO)**, ensuring consistent behavior."
   ]
  },
  {
   "cell_type": "code",
   "execution_count": null,
   "metadata": {
    "vscode": {
     "languageId": "plaintext"
    }
   },
   "outputs": [],
   "source": []
  },
  {
   "cell_type": "markdown",
   "metadata": {},
   "source": [
    "## Q17. What will be the output of the following code?\n",
    "python\n",
    "\n",
    "def decorator(func):\n",
    "\n",
    "    def wrapper(*args, **kwargs):\n",
    "\n",
    "        return func(*args, **kwargs).upper()\n",
    "\n",
    "    return wrapper\n",
    "\n",
    " \n",
    "\n",
    "@decorator\n",
    "\n",
    "def greet(name):\n",
    "\n",
    "    return f\"hello, {name}\"\n",
    "\n",
    " \n",
    "\n",
    "print(greet(\"world\"))\n",
    "\n",
    "1. hello, world\n",
    "2. Hello, World\n",
    "3. HELLO, WORLD\n",
    "4. Syntax Error"
   ]
  },
  {
   "cell_type": "markdown",
   "metadata": {},
   "source": [
    "The correct answer is:  \n",
    "\n",
    "**3. HELLO, WORLD**  \n",
    "\n",
    "### Explanation:  \n",
    "- The `decorator` function modifies `greet` by wrapping it in `wrapper`.  \n",
    "- The `wrapper` calls `greet` and converts the result to uppercase (`.upper()`), which makes `\"hello, world\"` become `\"HELLO, WORLD\"`."
   ]
  },
  {
   "cell_type": "code",
   "execution_count": null,
   "metadata": {
    "vscode": {
     "languageId": "plaintext"
    }
   },
   "outputs": [],
   "source": []
  },
  {
   "cell_type": "markdown",
   "metadata": {},
   "source": [
    "## Q18. What is the purpose of the @property decorator in Python?\n",
    "1. Makes an attribute private\n",
    "2. Allows a method to be accessed like an attribute\n",
    "3. Creates a new instance attribute\n",
    "4. Prevents an attribute from being modified"
   ]
  },
  {
   "cell_type": "markdown",
   "metadata": {},
   "source": [
    "The correct answer is:  \n",
    "\n",
    "**2. Allows a method to be accessed like an attribute**  \n",
    "\n",
    "### Explanation:  \n",
    "- The `@property` decorator allows a method to be accessed as if it were an attribute, without explicitly calling it as a method.  \n",
    "- This is useful for getter methods that provide controlled access to instance data."
   ]
  },
  {
   "cell_type": "code",
   "execution_count": null,
   "metadata": {
    "vscode": {
     "languageId": "plaintext"
    }
   },
   "outputs": [],
   "source": []
  },
  {
   "cell_type": "markdown",
   "metadata": {},
   "source": [
    "## Q19. What will be th eoutput of the following code?\n",
    "python\n",
    "\n",
    "class A:\n",
    "\n",
    "    def greet(self):\n",
    "\n",
    "        return \"A\"\n",
    "\n",
    " \n",
    "\n",
    "class B(A):\n",
    "\n",
    "    def greet(self):\n",
    "\n",
    "        return super().greet() + \"B\"\n",
    "\n",
    " \n",
    "\n",
    "class C(A):\n",
    "\n",
    "    def greet(self):\n",
    "\n",
    "        return super().greet() + \"C\"\n",
    "\n",
    " \n",
    "\n",
    "class D(B, C):\n",
    "\n",
    "    pass\n",
    "\n",
    " \n",
    "\n",
    "d = D()\n",
    "\n",
    "print(d.greet())\n",
    "\n",
    "1. A\n",
    "2. AB\n",
    "3. AC\n",
    "4. ACB\n"
   ]
  },
  {
   "cell_type": "markdown",
   "metadata": {},
   "source": [
    "The correct answer is:  \n",
    "\n",
    "**2. AB**  \n",
    "\n",
    "### Explanation:  \n",
    "- `D` inherits from `B` and `C`, so it follows **Python’s Method Resolution Order (MRO)** using **C3 linearization**.  \n",
    "- The MRO for `D` is: **D → B → C → A**.  \n",
    "- `D.greet()` calls `B.greet()`, which calls `super().greet()`.  \n",
    "- `super()` follows the MRO and calls `C.greet()`.  \n",
    "- `C.greet()` calls `A.greet()`, which returns `\"A\"`.  \n",
    "- `C.greet()` does not modify the result, as `B.greet()` takes precedence.  \n",
    "- `B.greet()` adds `\"B\"`, so the final output is:  \n",
    "\n",
    "```\n",
    "AB\n",
    "```"
   ]
  },
  {
   "cell_type": "code",
   "execution_count": null,
   "metadata": {
    "vscode": {
     "languageId": "plaintext"
    }
   },
   "outputs": [],
   "source": []
  },
  {
   "cell_type": "markdown",
   "metadata": {},
   "source": [
    "## Q20. What does MRO stand for in the context of Python inheritance?\n",
    "1. Method Resolution Order\n",
    "2. Multiple Inheritance Order\n",
    "3. Method Reordering Option\n",
    "4. Multiple Resolution Optimization "
   ]
  },
  {
   "cell_type": "markdown",
   "metadata": {},
   "source": [
    "Yes, the correct answer is:  \n",
    "\n",
    "**1. Method Resolution Order**  \n",
    "\n",
    "### Explanation:  \n",
    "- **MRO (Method Resolution Order)** defines the order in which base classes are searched when calling a method in multiple inheritance.  \n",
    "- Python uses **C3 linearization** to determine the MRO, ensuring a consistent and predictable hierarchy traversal."
   ]
  },
  {
   "cell_type": "code",
   "execution_count": null,
   "metadata": {
    "vscode": {
     "languageId": "plaintext"
    }
   },
   "outputs": [],
   "source": []
  },
  {
   "cell_type": "markdown",
   "metadata": {},
   "source": [
    "## Q21. What will be the Output of the following code?\n",
    "python\n",
    "\n",
    "class Meta(type):\n",
    "\n",
    "    def __new__(cls, name, bases, attrs):\n",
    "\n",
    "        attrs['greet'] = lambda self: f\"Hello from {name}\"\n",
    "\n",
    "        return super().__new__(cls, name, bases, attrs)\n",
    "\n",
    " \n",
    "\n",
    "class MyClass(metaclass=Meta):\n",
    "\n",
    "    pass\n",
    "\n",
    " \n",
    "\n",
    "obj = MyClass()\n",
    "\n",
    "print(obj.greet())\n",
    "\n",
    "1. Hello from MyClass\n",
    "2. Hello from Meta\n",
    "3. TypeError: 'MyClass' object has no attribute 'greet'\n",
    "4. None "
   ]
  },
  {
   "cell_type": "markdown",
   "metadata": {},
   "source": [
    "The correct answer is:  \n",
    "\n",
    "**1. Hello from MyClass**  \n",
    "\n",
    "### Explanation:  \n",
    "- The `Meta` metaclass adds a `greet` method to the class `MyClass`.  \n",
    "- The `greet` method uses the `name` argument in the lambda to return `\"Hello from MyClass\"`.  \n",
    "- `obj.greet()` prints `\"Hello from MyClass\"`."
   ]
  },
  {
   "cell_type": "code",
   "execution_count": null,
   "metadata": {
    "vscode": {
     "languageId": "plaintext"
    }
   },
   "outputs": [],
   "source": []
  },
  {
   "cell_type": "markdown",
   "metadata": {},
   "source": [
    "## Q22. What will be the output of this code using a descriptor?\n",
    "python\n",
    "\n",
    "class Descriptor:\n",
    "\n",
    "    def __get__(self, obj, objtype=None):\n",
    "\n",
    "        return 'GET'\n",
    "\n",
    "    def __set__(self, obj, value):\n",
    "\n",
    "        obj.__dict__['x'] = 'SET ' + value\n",
    "\n",
    " \n",
    "\n",
    "class C:\n",
    "\n",
    "    x = Descriptor()\n",
    "\n",
    " \n",
    "\n",
    "c = C()\n",
    "\n",
    "c.x = 'value'\n",
    "\n",
    "print(c.x)\n",
    "\n",
    "print(C.x)\n",
    "\n",
    "1. SET value, GET\n",
    "2. GET, GET\n",
    "3. value, GET\n",
    "4. SET value, SET value"
   ]
  },
  {
   "cell_type": "markdown",
   "metadata": {},
   "source": [
    "The correct answer is:  \n",
    "\n",
    "**1. SET value, GET**  \n",
    "\n",
    "### Explanation:  \n",
    "- **`c.x = 'value'`** triggers the `__set__` method of `Descriptor`, setting `obj.__dict__['x'] = 'SET value'`.  \n",
    "- **`print(c.x)`** calls the `__get__` method of `Descriptor`, which returns `'GET'`.  \n",
    "- **`print(C.x)`** also calls `__get__` of the descriptor, returning `'GET'`.  \n",
    "So, the output is:  \n",
    "```\n",
    "SET value\n",
    "GET\n",
    "```"
   ]
  },
  {
   "cell_type": "code",
   "execution_count": null,
   "metadata": {
    "vscode": {
     "languageId": "plaintext"
    }
   },
   "outputs": [],
   "source": []
  },
  {
   "cell_type": "markdown",
   "metadata": {},
   "source": [
    "## Q23. What's the output of this code using a metaclass and __call__?\n",
    "python\n",
    "\n",
    "class Meta(type):\n",
    "\n",
    "    def __call__(cls, *args, **kwargs):\n",
    "\n",
    "        instance = cls.__new__(cls, *args, **kwargs)\n",
    "\n",
    "        instance.__init__(*args, **kwargs)\n",
    "\n",
    "        instance.extra = \"metaclass attribute\"\n",
    "\n",
    "        return instance\n",
    "\n",
    " \n",
    "\n",
    "class MyClass(metaclass=Meta):\n",
    "\n",
    "    def __init__(self, value):\n",
    "\n",
    "        self.value = value\n",
    "\n",
    " \n",
    "\n",
    "obj = MyClass(5)\n",
    "\n",
    "print(obj.value, obj.extra)\n",
    "\n",
    "1. 5 None\n",
    "2. AttributeError\n",
    "3. 5 metaclass attribute\n",
    "4. None metaclass attribute"
   ]
  },
  {
   "cell_type": "markdown",
   "metadata": {},
   "source": [
    "The correct answer is:  \n",
    "\n",
    "**3. 5 metaclass attribute**  \n",
    "\n",
    "### Explanation:  \n",
    "- **`Meta.__call__`** creates the instance by calling `cls.__new__()` and `instance.__init__()`.  \n",
    "- Then, it adds `extra = \"metaclass attribute\"` to the instance.  \n",
    "- **`obj.value`** is set by `MyClass.__init__()`, and **`obj.extra`** is set by `Meta.__call__`.  \n",
    "- Output:  \n",
    "  ```\n",
    "  5 metaclass attribute\n",
    "  ```"
   ]
  },
  {
   "cell_type": "code",
   "execution_count": null,
   "metadata": {
    "vscode": {
     "languageId": "plaintext"
    }
   },
   "outputs": [],
   "source": []
  },
  {
   "cell_type": "markdown",
   "metadata": {},
   "source": [
    "## Q24. What will be printed?\n",
    "python\n",
    "\n",
    "def decorator(cls):\n",
    "\n",
    "    class Wrapper:\n",
    "\n",
    "        def __init__(self, *args):\n",
    "\n",
    "            self.wrapped = cls(*args)\n",
    "\n",
    "        def __getattr__(self, name):\n",
    "\n",
    "            return getattr(self.wrapped, name)\n",
    "\n",
    "    return Wrapper\n",
    "\n",
    " \n",
    "\n",
    "class Descriptor:\n",
    "\n",
    "    def __get__(self, obj, objtype=None):\n",
    "\n",
    "        return 'Descriptor'\n",
    "\n",
    " \n",
    "\n",
    "@decorator\n",
    "\n",
    "class C:\n",
    "\n",
    "    x = Descriptor()\n",
    "\n",
    " \n",
    "\n",
    "print(C().x)\n",
    "\n",
    "\n",
    "1. Descriptor\n",
    "2. AttributeError\n",
    "3. None\n",
    "4. 'x'"
   ]
  },
  {
   "cell_type": "markdown",
   "metadata": {},
   "source": [
    "The correct answer is:  \n",
    "\n",
    "**1. Descriptor**  \n",
    "\n",
    "### Explanation:  \n",
    "- The `@decorator` wraps the class `C` in the `Wrapper` class.\n",
    "- `Wrapper` delegates attribute access to `self.wrapped`, which is an instance of `C`.\n",
    "- The `Descriptor` object is accessed through `C().x`, and `Descriptor.__get__` returns `'Descriptor'`."
   ]
  },
  {
   "cell_type": "code",
   "execution_count": null,
   "metadata": {
    "vscode": {
     "languageId": "plaintext"
    }
   },
   "outputs": [],
   "source": []
  },
  {
   "cell_type": "markdown",
   "metadata": {},
   "source": [
    "## Q25. In Python's multiple inheritance, which inheritance model is used?\n",
    "1. Single inheritance\n",
    "2. Hierarchical inheritance\n",
    "3. C3 linearization\n",
    "4. Depth-first inheritance"
   ]
  },
  {
   "cell_type": "markdown",
   "metadata": {},
   "source": [
    "The correct answer is:  \n",
    "\n",
    "**3. C3 linearization**  \n",
    "\n",
    "### Explanation:  \n",
    "- Python uses **C3 linearization** (also known as C3 superclass linearization) to determine the method resolution order (MRO) in multiple inheritance.  \n",
    "- It ensures that the classes are searched in a consistent and predictable order, considering both the class hierarchy and method overriding."
   ]
  },
  {
   "cell_type": "code",
   "execution_count": null,
   "metadata": {
    "vscode": {
     "languageId": "plaintext"
    }
   },
   "outputs": [],
   "source": []
  },
  {
   "cell_type": "code",
   "execution_count": null,
   "metadata": {
    "vscode": {
     "languageId": "plaintext"
    }
   },
   "outputs": [],
   "source": []
  }
 ],
 "metadata": {
  "language_info": {
   "name": "python"
  }
 },
 "nbformat": 4,
 "nbformat_minor": 2
}
